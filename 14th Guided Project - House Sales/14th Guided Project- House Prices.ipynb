{
 "cells": [
  {
   "cell_type": "markdown",
   "metadata": {},
   "source": [
    "<font color=red>DESCRIPTION:</font> Create a model using multivariable Linear Regression to predict house sale price in Ames, Iowa.\n",
    "\n",
    "This model was created using data from Ames, Iowa home sales between 2006 - 2010. The model was created and validated using the following process:\n",
    "\n",
    "- shuffle the home sales dataset\n",
    "- EDA of sales price\n",
    "- Build functions that\n",
    "    - clean dataset, removing 1)columns not beneficial for modeling and 2) columns with high %NaN\n",
    "    - clean dataset, filling remaining NaN columns with column mean or zero\n",
    "    - create dummy columns for remaing categorical object columns\n",
    "    - select feature columns based on correlation with target column\n",
    "    - create test and train datasets\n",
    "    - build the model\n",
    "- Create lists of Mean Absolute Error (MAE), Root Mean Square Error(RMSE) from the model for a range of # of features\n",
    "- Plot MAE, RMSE as a function of # of features\n",
    "- Plot MAE, RMSE as a function of # of features with the train and test datasets switched (cross validation).\n",
    "\n",
    "Detailed Conclusions are provided at the end of this Notebook.\n"
   ]
  },
  {
   "cell_type": "code",
   "execution_count": 1,
   "metadata": {},
   "outputs": [],
   "source": [
    "import pandas as pd\n",
    "import numpy as np\n",
    "import matplotlib.pyplot as plt"
   ]
  },
  {
   "cell_type": "code",
   "execution_count": 2,
   "metadata": {},
   "outputs": [],
   "source": [
    "df = pd.read_csv(r\"C:\\Users\\drrdm\\Data Quest Guided Projects\\14th Guided Project - House Sales\\AmesHousing.txt\", \n",
    "                 delimiter = '\\t')"
   ]
  },
  {
   "cell_type": "code",
   "execution_count": 55,
   "metadata": {},
   "outputs": [],
   "source": [
    "#shuffle the df for randomization\n",
    "\n",
    "df = df.loc[np.random.permutation(len(df))]"
   ]
  },
  {
   "cell_type": "code",
   "execution_count": 3,
   "metadata": {},
   "outputs": [],
   "source": [
    "pd.set_option('display.max_columns', None)"
   ]
  },
  {
   "cell_type": "code",
   "execution_count": 12,
   "metadata": {},
   "outputs": [
    {
     "data": {
      "image/png": "[encoded data removed]",
      "text/plain": [
       "<Figure size 432x288 with 1 Axes>"
      ]
     },
     "metadata": {
      "needs_background": "light"
     },
     "output_type": "display_data"
    }
   ],
   "source": [
    "plt.hist(df['SalePrice'])\n",
    "plt.xlabel(\"Home Price\")\n",
    "plt.ticklabel_format(axis = 'x', style = 'sci', scilimits = (0,0))\n",
    "plt.ylabel(\"Counts\")\n",
    "plt.title(\"Histogram: Counts vs. Home Price\")\n",
    "plt.show()"
   ]
  },
  {
   "cell_type": "code",
   "execution_count": 66,
   "metadata": {},
   "outputs": [
    {
     "name": "stdout",
     "output_type": "stream",
     "text": [
      "Home SalePrice average: $180796\n",
      "Home SalePrice std dev: $79887\n"
     ]
    }
   ],
   "source": [
    "#summary statistics\n",
    "print(\"Home SalePrice average: ${0:5.0f}\".format(df[\"SalePrice\"].mean()))\n",
    "print(\"Home SalePrice std dev: ${0:5.0f}\".format(df[\"SalePrice\"].std()))"
   ]
  },
  {
   "cell_type": "markdown",
   "metadata": {},
   "source": [
    "There are outliers in the `SalePrice`. Evaluate impact outliers have on the`SalePrice` summary statistics.\n",
    "<br><br><br>"
   ]
  },
  {
   "cell_type": "code",
   "execution_count": 67,
   "metadata": {},
   "outputs": [],
   "source": [
    "#create df w/o outliers in SalePrice\n",
    "\n",
    "df_lt5E5 = df[df[\"SalePrice\"] <5e05]"
   ]
  },
  {
   "cell_type": "code",
   "execution_count": 69,
   "metadata": {},
   "outputs": [
    {
     "name": "stdout",
     "output_type": "stream",
     "text": [
      "Home SalePrice < 5E05 average: $178306\n",
      "Home SalePrice < 5E05 std dev: $73359\n"
     ]
    }
   ],
   "source": [
    "#summary statistics\n",
    "print(\"Home SalePrice < 5E05 average: ${0:5.0f}\".format(df_lt5E5[\"SalePrice\"].mean()))\n",
    "print(\"Home SalePrice < 5E05 std dev: ${0:5.0f}\".format(df_lt5E5[\"SalePrice\"].std()))"
   ]
  },
  {
   "cell_type": "markdown",
   "metadata": {},
   "source": [
    "There is an approx (80 - 73)/80 = 9% reduction in the std deviation, 2% reduction in the average.\n",
    "<br><br><br>\n",
    "Build the model-"
   ]
  },
  {
   "cell_type": "code",
   "execution_count": 32,
   "metadata": {},
   "outputs": [],
   "source": [
    "from sklearn.linear_model import LinearRegression\n",
    "from sklearn.metrics import mean_squared_error\n",
    "from sklearn.metrics import mean_absolute_error"
   ]
  },
  {
   "cell_type": "code",
   "execution_count": 27,
   "metadata": {},
   "outputs": [],
   "source": [
    "#function for feature engineering of columns with string values\n",
    "def feature_eng(df):\n",
    "    p_cat_cols = df.select_dtypes(include = 'object').columns\n",
    "    for col in p_cat_cols:\n",
    "        my_cols = pd.get_dummies(df[col])\n",
    "        df = pd.concat([df, my_cols], axis =1)\n",
    "        del df[col]\n",
    "    return df"
   ]
  },
  {
   "cell_type": "code",
   "execution_count": 28,
   "metadata": {},
   "outputs": [],
   "source": [
    "#data cleaning function which deletes > 5% NaN columns, fills remaining float cols NaN with column mean\n",
    "def transform_features(df):\n",
    "    df_na = df.copy() #make a copy of the original df\n",
    "    \n",
    "    #drop columns with > 5% NaN entries\n",
    "    thresh = int(len(df) - .05*len(df))\n",
    "    df_na = df_na.dropna(axis = 1, thresh = thresh)\n",
    "    df_na[\"BuiltYr - RemodelYr\"] = df['Year Remod/Add'] - df['Year Built']\n",
    "    \n",
    "    #drop columns that are not useful for the model\n",
    "    df_na.drop(columns = [\"Mo Sold\", \"Yr Sold\", 'Year Remod/Add', \n",
    "                          'Year Built', 'PID', 'Order'], inplace = True)\n",
    "    \n",
    "    #fill remaining float columns NaN with mean\n",
    "    float_cols = df_na.select_dtypes(include = ['float']).columns\n",
    "    for col in float_cols:\n",
    "        df_na[col].fillna(value = df_na[col].mean(), inplace = True)\n",
    "    int_cols = df_na.select_dtypes(include = ['integer']).columns\n",
    "    for col in int_cols:\n",
    "        df_na[col].fillna(value = df_na[col].mean(), inplace = True)                               \n",
    "       \n",
    "    df_na = df_na.dropna(axis = 1, thresh = int(len(df) - 20))   #drop rows with more than 20 NaN's\n",
    "    df_na.fillna(value = 0, inplace = True) #fill remaining NaN's with zero \n",
    "    df_na = feature_eng(df_na) #call feature engineering function\n",
    "    return df_na"
   ]
  },
  {
   "cell_type": "code",
   "execution_count": 29,
   "metadata": {},
   "outputs": [],
   "source": [
    "#function to build df with columns to use as model features based on highest correlation with target\n",
    "def select_features(df,no_features):\n",
    "    df_na = transform_features(df)  #call function that drops df columns, fills NaN with mean or zero, \n",
    "    \n",
    "    #sort columns based on correlation w/target\n",
    "    df_na_corr= df_na.corr()\n",
    "    df_na_abs = df_na_corr['SalePrice'].abs()\n",
    "    df_na_corrsort = df_na_abs.sort_values(ascending = False)\n",
    "    \n",
    "    #select features based on no. of features input and strength of correlation\n",
    "    df_model_cols_prep = df_na_corrsort.index.to_list()\n",
    "    df_model_cols = df_model_cols_prep[0:no_features + 1]\n",
    "    df_model = df_na[df_model_cols]\n",
    "    \n",
    "    return df_model, df_model_cols, no_features"
   ]
  },
  {
   "cell_type": "code",
   "execution_count": 70,
   "metadata": {},
   "outputs": [],
   "source": [
    "#function to create train and test df's and perform regression\n",
    "def train_and_test(df,no_features):\n",
    "    ttdf,ttdf_cols, factors = select_features(df, no_features) #call function to select features\n",
    "    \n",
    "    #set train and test df's\n",
    "    train = ttdf[ttdf_cols].iloc[:1460, :]\n",
    "    test = ttdf[ttdf_cols].iloc[1460:,:]\n",
    "    \n",
    "    #identify model columns, make list of model columns for function return (used in subsequent for loops)\n",
    "    model_cols = ttdf.drop(columns = 'SalePrice').columns\n",
    "    model_cols_f = list(model_cols)\n",
    "    \n",
    "    #build lr model\n",
    "    lr = LinearRegression()\n",
    "    lr.fit(train[model_cols], train[\"SalePrice\"])\n",
    "    test_predictions = lr.predict(test[model_cols])\n",
    "    RMSE = mean_squared_error(test['SalePrice'], test_predictions)**.5\n",
    "    MAE = mean_absolute_error(test['SalePrice'], test_predictions)\n",
    "    \n",
    "    return MAE,RMSE,model_cols_f"
   ]
  },
  {
   "cell_type": "code",
   "execution_count": 77,
   "metadata": {},
   "outputs": [
    {
     "data": {
      "text/plain": [
       "(22297.305729824886,\n",
       " 33722.43985551846,\n",
       " ['Overall Qual',\n",
       "  'Gr Liv Area',\n",
       "  'Garage Cars',\n",
       "  'Garage Area',\n",
       "  'Total Bsmt SF',\n",
       "  '1st Flr SF',\n",
       "  'TA',\n",
       "  'TA',\n",
       "  'TA',\n",
       "  'TA',\n",
       "  'Full Bath',\n",
       "  'Ex',\n",
       "  'Ex',\n",
       "  'Ex',\n",
       "  'Ex'])"
      ]
     },
     "execution_count": 77,
     "metadata": {},
     "output_type": "execute_result"
    }
   ],
   "source": [
    "#check model\n",
    "train_and_test(df, 9)"
   ]
  },
  {
   "cell_type": "markdown",
   "metadata": {},
   "source": [
    "<br><br><br>\n",
    "Get results from the model using 1-20 features and plot-"
   ]
  },
  {
   "cell_type": "code",
   "execution_count": 79,
   "metadata": {},
   "outputs": [
    {
     "data": {
      "image/png": "[encoded data removed]",
      "text/plain": [
       "<Figure size 720x720 with 2 Axes>"
      ]
     },
     "metadata": {
      "needs_background": "light"
     },
     "output_type": "display_data"
    }
   ],
   "source": [
    "#Get the results from the model for all homes \n",
    "factors = []\n",
    "x = []\n",
    "yMAE = []\n",
    "yRMSE = []\n",
    "\n",
    "for i in range(1,21):\n",
    "    MAE, RMSE, factors_list = train_and_test(df, i)\n",
    "    yMAE.append(MAE)\n",
    "    yRMSE.append(RMSE)\n",
    "    factors.append(factors_list)\n",
    "    x.append(i)\n",
    "    \n",
    "#Plot model results for all homes\n",
    "fig = plt.figure(figsize =(10,10))\n",
    "ax1 = fig.add_subplot(2,1,1)\n",
    "ax2 = fig.add_subplot(2,1,2)\n",
    "\n",
    "ax1.grid(which = 'major', axis = 'y')\n",
    "ax2.grid(which = 'major', axis = 'y')\n",
    "ax1.plot(x,yMAE)\n",
    "ax2.plot(x,yRMSE)\n",
    "plt.xlabel(\"# of Features in LR Model\")\n",
    "ax1.set_ylabel(\"MAE\")\n",
    "ax2.set_ylabel(\"RMSE\")\n",
    "ax1.set_title(\"MAE, RMSE vs. # of Features (predicting Sales Price)\")\n",
    "plt.show()"
   ]
  },
  {
   "cell_type": "markdown",
   "metadata": {},
   "source": [
    "<br><br><br>\n",
    "Cross validate model-"
   ]
  },
  {
   "cell_type": "code",
   "execution_count": 76,
   "metadata": {},
   "outputs": [],
   "source": [
    "#modify train_and_test function to cross validate model, switching the test and train datasets \n",
    "def train_and_test_cross(df,no_features):\n",
    "    ttdf,ttdf_cols, factors = select_features(df, no_features) #call function to select features\n",
    "    test = ttdf[ttdf_cols].iloc[:1460, :]\n",
    "    train = ttdf[ttdf_cols].iloc[1460:,:]\n",
    "    model_cols = ttdf.drop(columns = 'SalePrice').columns\n",
    "    model_cols_f = list(model_cols)\n",
    "    lr = LinearRegression()\n",
    "    lr.fit(train[model_cols], train[\"SalePrice\"])\n",
    "    test_predictions = lr.predict(test[model_cols])\n",
    "    RMSE = mean_squared_error(test['SalePrice'], test_predictions)**.5\n",
    "    MAE = mean_absolute_error(test['SalePrice'], test_predictions)\n",
    "    target = ttdf_cols[0]\n",
    "    return MAE,RMSE,model_cols_f"
   ]
  },
  {
   "cell_type": "code",
   "execution_count": 74,
   "metadata": {},
   "outputs": [
    {
     "data": {
      "text/plain": [
       "(34246.16456759339, 49036.99735669356, ['Overall Qual'])"
      ]
     },
     "execution_count": 74,
     "metadata": {},
     "output_type": "execute_result"
    }
   ],
   "source": [
    "#check model with new function\n",
    "train_and_test_cross(df, 9)"
   ]
  },
  {
   "cell_type": "code",
   "execution_count": 80,
   "metadata": {},
   "outputs": [
    {
     "data": {
      "image/png": "[encoded data removed]",
      "text/plain": [
       "<Figure size 720x720 with 2 Axes>"
      ]
     },
     "metadata": {
      "needs_background": "light"
     },
     "output_type": "display_data"
    }
   ],
   "source": [
    "#Get the cross validation results from the model \n",
    " \n",
    "cross_factors = []\n",
    "cross_x = []\n",
    "cross_MAE = []\n",
    "cross_RMSE = []\n",
    "\n",
    "for i in range(1,21):\n",
    "    MAE,RMSE,factors_list = train_and_test_cross(df, i)\n",
    "    cross_MAE.append(MAE)\n",
    "    cross_RMSE.append(RMSE)\n",
    "    cross_factors.append(factors_list)\n",
    "    cross_x.append(i)\n",
    "\n",
    "#Plot model results for all homes cross validation\n",
    "fig = plt.figure(figsize =(10,10))\n",
    "ax1 = fig.add_subplot(2,1,1)\n",
    "ax2 = fig.add_subplot(2,1,2)\n",
    "\n",
    "ax1.grid(which = 'major', axis = 'y')\n",
    "ax2.grid(which = 'major', axis = 'y')\n",
    "ax1.plot(cross_x,cross_MAE)\n",
    "ax2.plot(cross_x,cross_RMSE)\n",
    "plt.xlabel(\"# of Features in LR Model\")\n",
    "ax1.set_ylabel(\"Cross_MAE\")\n",
    "ax2.set_ylabel(\"Cross_RMSE\")\n",
    "ax1.set_title(\"MAE, RMSE vs. # of Features (Cross Validation for all Homes)\")\n",
    "\n",
    "plt.show()"
   ]
  },
  {
   "cell_type": "markdown",
   "metadata": {},
   "source": [
    "<font color=red>CONCLUSIONS:</font>\n",
    "\n",
    "- As the number of factors is increased, RMSE and MSE decrease\n",
    "- The most significant reduction in RMSE and MSE is between a 1 factor and 9 factor model\n",
    "- There is not a significant reduction in RMSE and MSE between a 9 and 20 factor model\n",
    "- Cross validation showed no significant difference in RMSE and MSE\n",
    "- The 9 factor MSE is ~22,000 USD.\n",
    "- The standard deviation of SalePrice is ~80,000 USD.  The 9 factor RMSE is ~34,000 USD.  \n",
    "    -The 9 factor model reduces uncertainty in SalePrice prediction by (80 - 34)/80 = 58%"
   ]
  },
  {
   "cell_type": "markdown",
   "metadata": {},
   "source": [
    "<br><br><br>\n",
    "Before ending the analysis, check to see if removing outliers had a significant effect on the MSE, RMSE"
   ]
  },
  {
   "cell_type": "code",
   "execution_count": 78,
   "metadata": {},
   "outputs": [
    {
     "data": {
      "text/plain": [
       "(23242.688872574072,\n",
       " 33656.429817142,\n",
       " ['Overall Qual',\n",
       "  'Gr Liv Area',\n",
       "  'Garage Cars',\n",
       "  'Garage Area',\n",
       "  'Total Bsmt SF',\n",
       "  'TA',\n",
       "  'TA',\n",
       "  'TA',\n",
       "  'TA',\n",
       "  '1st Flr SF',\n",
       "  'Full Bath',\n",
       "  'TA',\n",
       "  'TA',\n",
       "  'TA',\n",
       "  'TA'])"
      ]
     },
     "execution_count": 78,
     "metadata": {},
     "output_type": "execute_result"
    }
   ],
   "source": [
    "train_and_test(df_lt5E5, 9)"
   ]
  },
  {
   "cell_type": "markdown",
   "metadata": {},
   "source": [
    "No significant change in MSE (~23,000 USD vs ~22,000 USD) or RMSE (34,000 USD for both) with outlier removed from df.\n",
    "<br>"
   ]
  },
  {
   "cell_type": "code",
   "execution_count": null,
   "metadata": {},
   "outputs": [],
   "source": []
  }
 ],
 "metadata": {
  "kernelspec": {
   "display_name": "Python 3",
   "language": "python",
   "name": "python3"
  },
  "language_info": {
   "codemirror_mode": {
    "name": "ipython",
    "version": 3
   },
   "file_extension": ".py",
   "mimetype": "text/x-python",
   "name": "python",
   "nbconvert_exporter": "python",
   "pygments_lexer": "ipython3",
   "version": "3.7.3"
  }
 },
 "nbformat": 4,
 "nbformat_minor": 2
}
