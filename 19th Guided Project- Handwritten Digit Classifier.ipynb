{
 "cells": [
  {
   "cell_type": "markdown",
   "metadata": {},
   "source": [
    "<font color=blue>TITLE:</font> HANDWRITTEN DIGIT CLASSIFIER\n",
    "    \n",
    "<font color=blue>DESCRIPTION:</font>\n",
    "In this Notebook various methods for classifying handwritten digits will be evaluated:\n",
    "\n",
    "- K nearest neighbor classification with 4 folds\n",
    "- Neural network with 1, 2, and 3 hidden layers"
   ]
  },
  {
   "cell_type": "code",
   "execution_count": 1,
   "metadata": {},
   "outputs": [],
   "source": [
    "# import needed libraries, including dataset in sci-kit learn\n",
    "import numpy as np\n",
    "import pandas as pd\n",
    "from sklearn.datasets import load_digits\n",
    "import matplotlib.pyplot as plt\n",
    "%matplotlib inline"
   ]
  },
  {
   "cell_type": "code",
   "execution_count": 2,
   "metadata": {},
   "outputs": [],
   "source": [
    "data = pd.DataFrame(load_digits()['data'])\n",
    "target = pd.DataFrame(load_digits()['target'])\n",
    "df = pd.merge(left = data, right = target, left_index = True, right_index = True)"
   ]
  },
  {
   "cell_type": "code",
   "execution_count": 3,
   "metadata": {},
   "outputs": [
    {
     "data": {
      "text/html": [
       "<div>\n",
       "<style scoped>\n",
       "    .dataframe tbody tr th:only-of-type {\n",
       "        vertical-align: middle;\n",
       "    }\n",
       "\n",
       "    .dataframe tbody tr th {\n",
       "        vertical-align: top;\n",
       "    }\n",
       "\n",
       "    .dataframe thead th {\n",
       "        text-align: right;\n",
       "    }\n",
       "</style>\n",
       "<table border=\"1\" class=\"dataframe\">\n",
       "  <thead>\n",
       "    <tr style=\"text-align: right;\">\n",
       "      <th></th>\n",
       "      <th>0_x</th>\n",
       "      <th>1</th>\n",
       "      <th>2</th>\n",
       "      <th>3</th>\n",
       "      <th>4</th>\n",
       "      <th>5</th>\n",
       "      <th>6</th>\n",
       "      <th>7</th>\n",
       "      <th>8</th>\n",
       "      <th>9</th>\n",
       "      <th>...</th>\n",
       "      <th>55</th>\n",
       "      <th>56</th>\n",
       "      <th>57</th>\n",
       "      <th>58</th>\n",
       "      <th>59</th>\n",
       "      <th>60</th>\n",
       "      <th>61</th>\n",
       "      <th>62</th>\n",
       "      <th>63</th>\n",
       "      <th>0_y</th>\n",
       "    </tr>\n",
       "  </thead>\n",
       "  <tbody>\n",
       "    <tr>\n",
       "      <th>0</th>\n",
       "      <td>0.0</td>\n",
       "      <td>0.0</td>\n",
       "      <td>5.0</td>\n",
       "      <td>13.0</td>\n",
       "      <td>9.0</td>\n",
       "      <td>1.0</td>\n",
       "      <td>0.0</td>\n",
       "      <td>0.0</td>\n",
       "      <td>0.0</td>\n",
       "      <td>0.0</td>\n",
       "      <td>...</td>\n",
       "      <td>0.0</td>\n",
       "      <td>0.0</td>\n",
       "      <td>0.0</td>\n",
       "      <td>6.0</td>\n",
       "      <td>13.0</td>\n",
       "      <td>10.0</td>\n",
       "      <td>0.0</td>\n",
       "      <td>0.0</td>\n",
       "      <td>0.0</td>\n",
       "      <td>0</td>\n",
       "    </tr>\n",
       "  </tbody>\n",
       "</table>\n",
       "<p>1 rows × 65 columns</p>\n",
       "</div>"
      ],
      "text/plain": [
       "   0_x    1    2     3    4    5    6    7    8    9  ...   55   56   57   58  \\\n",
       "0  0.0  0.0  5.0  13.0  9.0  1.0  0.0  0.0  0.0  0.0  ...  0.0  0.0  0.0  6.0   \n",
       "\n",
       "     59    60   61   62   63  0_y  \n",
       "0  13.0  10.0  0.0  0.0  0.0    0  \n",
       "\n",
       "[1 rows x 65 columns]"
      ]
     },
     "execution_count": 3,
     "metadata": {},
     "output_type": "execute_result"
    }
   ],
   "source": [
    "df.head(1)"
   ]
  },
  {
   "cell_type": "code",
   "execution_count": 4,
   "metadata": {},
   "outputs": [],
   "source": [
    "df.rename(mapper = {\"0_x\": \"0\", \"0_y\": \"target\"}, axis = 1, inplace = True )"
   ]
  },
  {
   "cell_type": "code",
   "execution_count": 5,
   "metadata": {},
   "outputs": [],
   "source": [
    "#practice on an image from the load_digits file\n",
    "first_image = data.iloc[0]\n",
    "np_image = first_image.values\n",
    "np_image = np_image.reshape(8,8)"
   ]
  },
  {
   "cell_type": "code",
   "execution_count": 6,
   "metadata": {},
   "outputs": [
    {
     "data": {
      "image/png": "[encoded data removed]",
      "text/plain": [
       "<Figure size 432x288 with 1 Axes>"
      ]
     },
     "metadata": {
      "needs_background": "light"
     },
     "output_type": "display_data"
    }
   ],
   "source": [
    "#practice (cont.)\n",
    "plt.imshow(np_image, cmap = 'gray_r')\n",
    "plt.show()"
   ]
  },
  {
   "cell_type": "code",
   "execution_count": 7,
   "metadata": {},
   "outputs": [],
   "source": [
    "#List of image arrays to display\n",
    "\n",
    "rows = [0,100,200,300,1000,1200,1300,1400]\n",
    "images= []\n",
    "for r in rows:\n",
    "    raw_image = data.iloc[r]\n",
    "    image = raw_image.values\n",
    "    image = image.reshape(8,8)\n",
    "    images.append(image)"
   ]
  },
  {
   "cell_type": "code",
   "execution_count": 8,
   "metadata": {},
   "outputs": [
    {
     "data": {
      "image/png": "[encoded data removed]",
      "text/plain": [
       "<Figure size 1152x288 with 8 Axes>"
      ]
     },
     "metadata": {
      "needs_background": "light"
     },
     "output_type": "display_data"
    }
   ],
   "source": [
    "#Display the images corresponding to rows 0, 100, 200, 300 then 1000,1200,1300,1400\n",
    "fig,((ax1,ax2,ax3,ax4), (ax5,ax6,ax7,ax8)) = plt.subplots(figsize=(16,4),nrows = 2, ncols = 4)\n",
    "\n",
    "#fig,axs = plt.subplots(figsize=(16,4),nrows = 2, ncols = 4,)\n",
    "fig.suptitle(\"Sample images in grayscale\")\n",
    "#axs[0].imshow(images[0], cmap = 'gray_r')\n",
    "ax1.imshow(images[0], cmap = 'gray_r')\n",
    "ax2.imshow(images[1], cmap = 'gray_r')\n",
    "ax3.imshow(images[2], cmap = 'gray_r')\n",
    "ax4.imshow(images[3], cmap = 'gray_r')\n",
    "ax5.imshow(images[4], cmap = 'gray_r')\n",
    "ax6.imshow(images[5], cmap = 'gray_r')\n",
    "ax7.imshow(images[6], cmap = 'gray_r')\n",
    "ax8.imshow(images[7], cmap = 'gray_r')\n",
    "\n",
    "#turn off axes (can't understand why for loop didn't work for this)\n",
    "ax1.axis(\"off\")\n",
    "ax2.axis(\"off\")\n",
    "ax3.axis(\"off\")\n",
    "ax4.axis(\"off\")\n",
    "ax5.axis(\"off\")\n",
    "ax6.axis(\"off\")\n",
    "ax7.axis(\"off\")\n",
    "ax8.axis(\"off\")\n",
    "\n",
    "plt.show()"
   ]
  },
  {
   "cell_type": "code",
   "execution_count": 9,
   "metadata": {},
   "outputs": [],
   "source": [
    "from sklearn.neighbors import KNeighborsClassifier\n",
    "from sklearn.model_selection import KFold, train_test_split\n",
    "from sklearn import metrics\n",
    "#Remember: the scale for feature values is 0 - 16, not 0 -1\n",
    "train_features1, test_features1, train_labels1, test_labels1 = train_test_split(data, target,test_size = .25, shuffle = True)"
   ]
  },
  {
   "cell_type": "code",
   "execution_count": 10,
   "metadata": {},
   "outputs": [
    {
     "name": "stdout",
     "output_type": "stream",
     "text": [
      "SKlearn accuracy probability, KNearestNeighbor, n = 1:  0.989\n"
     ]
    }
   ],
   "source": [
    "# knn 1 neighbor classification\n",
    "knn = KNeighborsClassifier(n_neighbors = 1)\n",
    "knn.fit(train_features1,train_labels1.values.ravel())\n",
    "predictions1 = knn.predict(test_features1)\n",
    "tls1 = test_labels1.to_numpy().ravel()\n",
    "sk_error = metrics.accuracy_score(test_labels1, predictions1)\n",
    "\n",
    "print(\"SKlearn accuracy probability, KNearestNeighbor, n = 1: {: .3f}\".format(sk_error))"
   ]
  },
  {
   "cell_type": "code",
   "execution_count": 11,
   "metadata": {},
   "outputs": [],
   "source": [
    "# n_neighbors 1 through 10\n",
    "\n",
    "knn_no_fold = [0.989, 0.980, 0.987, .980, 0.980, .978, .978, .980, .980, .978]  "
   ]
  },
  {
   "cell_type": "code",
   "execution_count": 12,
   "metadata": {},
   "outputs": [
    {
     "name": "stdout",
     "output_type": "stream",
     "text": [
      "KFold 4 prediction accuracy [0.9688888888888889, 0.9599109131403119, 0.9799554565701559, 0.9621380846325167]\n",
      "Avg KFold 4 prediction accuracy:  0.968\n"
     ]
    }
   ],
   "source": [
    "## Expand knn 1 neighbor classification to 4 KFold\n",
    "\n",
    "kf4 = KFold(n_splits = 4)\n",
    "knn4 = KNeighborsClassifier(n_neighbors = 1)\n",
    "fold_accuracies = []\n",
    "for train_index, test_index in kf4.split(data):\n",
    "    train_features4 = data.loc[train_index]\n",
    "    test_features4 = data.loc[test_index]\n",
    "    train_labels4 = target.loc[train_index]\n",
    "    test_labels4 = target.loc[test_index]\n",
    "    knn4.fit(train_features4,train_labels4.to_numpy().ravel())\n",
    "    predictions4 = knn4.predict(test_features4)\n",
    "    kftl4 = test_labels4.to_numpy().ravel()\n",
    "    error4 = metrics.accuracy_score(test_labels4, predictions4)\n",
    "    fold_accuracies.append(error4)\n",
    "print(\"KFold 4 prediction accuracy\",fold_accuracies)\n",
    "print(\"Avg KFold 4 prediction accuracy: {: .3f}\".format(sum(fold_accuracies)/len(fold_accuracies)))"
   ]
  },
  {
   "cell_type": "code",
   "execution_count": 13,
   "metadata": {},
   "outputs": [],
   "source": [
    "# 4 folds in KFoldvalues for n_neighbors 1 through 10 (for checking loop below)\n",
    "\n",
    "knn4_fold = [0.968,0.962,0.963, 0.965, 0.962,0.959, 0.957, 0.957, 0.954, 0.953]\n"
   ]
  },
  {
   "cell_type": "code",
   "execution_count": 14,
   "metadata": {},
   "outputs": [
    {
     "name": "stdout",
     "output_type": "stream",
     "text": [
      "[0.9677233358079684, 0.9616010888393962, 0.9627183865379857, 0.9649480326651819, 0.9621665429349171, 0.9588270230141054, 0.9571591190299431, 0.9571578817124474, 0.9543801039346697, 0.9527097253155159]\n"
     ]
    }
   ],
   "source": [
    "# Try various neighbor values(k)\n",
    "\n",
    "k_values = list(range(1,11))\n",
    "overall_acc = []\n",
    "for k in k_values:\n",
    "    kfo = KFold(n_splits = 4)\n",
    "    knno = KNeighborsClassifier(n_neighbors = k)\n",
    "    fold_accuracies = []\n",
    "    for train_index, test_index in kfo.split(data):\n",
    "        train_featureso = data.loc[train_index]\n",
    "        test_featureso = data.loc[test_index]\n",
    "        train_labelso = target.loc[train_index]\n",
    "        test_labelso = target.loc[test_index]\n",
    "        knno.fit(train_featureso,train_labelso.to_numpy().ravel())\n",
    "        predictionso = knno.predict(test_featureso)\n",
    "        kflo = test_labelso.to_numpy().ravel()\n",
    "        erroro = metrics.accuracy_score(test_labelso, predictionso)\n",
    "        fold_accuracies.append(erroro)\n",
    "    avg_fold_accuracies = sum(fold_accuracies)/len(fold_accuracies)\n",
    "    overall_acc.append(avg_fold_accuracies)  \n",
    "\n",
    "print(overall_acc)"
   ]
  },
  {
   "cell_type": "markdown",
   "metadata": {},
   "source": [
    "Loop functioning properly.  These 10 values same (within roundoff error) as values in the check cell\n",
    "<br><br><br>"
   ]
  },
  {
   "cell_type": "code",
   "execution_count": 15,
   "metadata": {},
   "outputs": [
    {
     "data": {
      "image/png": "[encoded data removed]",
      "text/plain": [
       "<Figure size 1008x432 with 2 Axes>"
      ]
     },
     "metadata": {
      "needs_background": "light"
     },
     "output_type": "display_data"
    }
   ],
   "source": [
    "#plot the KNN results\n",
    "fig = plt.figure(figsize= (14,6))\n",
    "ax1 = fig.add_subplot(121)\n",
    "ax2 = fig.add_subplot(122)\n",
    "\n",
    "ax1.plot(k_values, knn_no_fold)\n",
    "ax1.set_title(\"KNN for various number of neighbors\")\n",
    "ax1.set_xlabel(\"# of nearest neighbors\")\n",
    "ax1.set_ylabel(\"Accuracy as a probability\")\n",
    "ax1.set_ylim(.95,1)\n",
    "\n",
    "ax2.plot(k_values, overall_acc)\n",
    "ax2.set_title(\"KNN with 4 Folds for various number of neighbors\")\n",
    "ax2.set_xlabel(\"# of nearest neighbors\")\n",
    "ax2.set_ylabel(\"Accuracy as a probability\")\n",
    "ax2.set_ylim(.95,1)\n",
    "\n",
    "plt.show()\n"
   ]
  },
  {
   "cell_type": "markdown",
   "metadata": {},
   "source": [
    "<font color=blue>NOTE</font>\n",
    "<br>\n",
    "I do not understand how the KFold KNN was *less* accurate than KNN. Literature says it should be *more* accurate. Maybe due to the random shuffle?  The difference in accuracy due to random chance? Is there overfitting or underfitting? Data leakage?  Did I miss something?\n",
    "<br><br><br>"
   ]
  },
  {
   "cell_type": "markdown",
   "metadata": {},
   "source": [
    "Perform the analysis with a Neural Network model using different numbers of hidden layers and different numbers of neurons per layer:\n",
    "\n",
    "1 layer: 8,16,32,64,128,256 neurons<br>\n",
    "2 layer: 64 neurons<br>\n",
    "3 layer: 10, 64, 128 neurons (6 Folds)"
   ]
  },
  {
   "cell_type": "code",
   "execution_count": 16,
   "metadata": {},
   "outputs": [],
   "source": [
    "from sklearn.neural_network import MLPClassifier"
   ]
  },
  {
   "cell_type": "code",
   "execution_count": 17,
   "metadata": {},
   "outputs": [],
   "source": [
    "#train,test, cross_validate nn \n",
    "\n",
    "neurons = [10,64,128]\n",
    "nn_dict = {}\n",
    "overall_acc = []\n",
    "k = 0\n",
    "for n in neurons:\n",
    "    fold_mlp = KFold(n_splits = 6) #modify for last run\n",
    "    mlp = MLPClassifier(hidden_layer_sizes = (n,n,n), max_iter = 2000) #modify as needed\n",
    "    fold_accuracies = []\n",
    "    for train_index, test_index in fold_mlp.split(data):\n",
    "        train_features = data.loc[train_index]\n",
    "        test_features = data.loc[test_index]\n",
    "        train_labels = target.loc[train_index]\n",
    "        test_labels = target.loc[test_index]\n",
    "        mlp.fit(train_features,train_labels.to_numpy().ravel())\n",
    "        prediction = mlp.predict(test_features)\n",
    "        error = metrics.accuracy_score(test_labels, prediction)\n",
    "        fold_accuracies.append(error)\n",
    "    avg_fold_accuracies = sum(fold_accuracies)/len(fold_accuracies)\n",
    "    overall_acc.append(avg_fold_accuracies)  \n",
    "    nn_dict[k] = ({'3 hidden layers':{'neurons': n, 'accuracy': avg_fold_accuracies}}) #modify for each run\n",
    "    k+=1"
   ]
  },
  {
   "cell_type": "code",
   "execution_count": 18,
   "metadata": {},
   "outputs": [
    {
     "data": {
      "text/plain": [
       "{0: {'3 hidden layers': {'neurons': 10, 'accuracy': 0.8981791155704201}},\n",
       " 1: {'3 hidden layers': {'neurons': 64, 'accuracy': 0.9438052768487551}},\n",
       " 2: {'3 hidden layers': {'neurons': 128, 'accuracy': 0.9554849498327759}}}"
      ]
     },
     "execution_count": 18,
     "metadata": {},
     "output_type": "execute_result"
    }
   ],
   "source": [
    "#dictionary of # of hidden layers, neurons, accuracy\n",
    "nn_dict"
   ]
  },
  {
   "cell_type": "markdown",
   "metadata": {},
   "source": [
    "<font color=blue>RESULTS OF NN ANALYSIS:</font><br>\n",
    "\n",
    "**1 layer: [8,16,32,64,128,256] neurons** - \n",
    "{0: {'1 hidden layer': {'neurons': 8, 'accuracy': 0.9098490472655284}}<br>\n",
    " 1: {'1 hidden layer': {'neurons': 16, 'accuracy': 0.9359910913140311}}<br>\n",
    " 2: {'1 hidden layer': {'neurons': 32, 'accuracy': 0.9337663944568176}}<br>\n",
    " 3: {'1 hidden layer': {'neurons': 64, 'accuracy': 0.9410133630289532}}<br>\n",
    " 4: {'1 hidden layer': {'neurons': 128, 'accuracy': 0.9387775303142787}}<br>\n",
    " 5: {'1 hidden layer': {'neurons': 256, 'accuracy': 0.9465701559020044}}}<br>\n",
    "\n",
    "**2 layer: 64 neurons** - <br>\n",
    "{0: {'2 hidden layers': {'neurons': 64, 'accuracy': 0.9421195248700817}}}\n",
    "\n",
    "**3 layer: [10, 64, 128] neurons (6 Folds)** -<br>\n",
    "{0: {'3 hidden layers': {'neurons': 10, 'accuracy': 0.8981791155704201}}<br>\n",
    " 1: {'3 hidden layers': {'neurons': 64, 'accuracy': 0.9438052768487551}}<br>\n",
    " 2: {'3 hidden layers': {'neurons': 128, 'accuracy': 0.9554849498327759}}}"
   ]
  },
  {
   "cell_type": "markdown",
   "metadata": {},
   "source": [
    "<font color=blue>CONCLUSIONS:</font><br>\n",
    "\n",
    "- KNN provided greater overall prediction accuracy than KNN with 4 folds\n",
    "- KNN accuracy was less affected by by # of neighbors than KNN with 4 folds.\n",
    "- When using a Neural Network, there is a difference in accuracy when 8 or 10 neurons are used in the network compared to >16, regardless of the number of hidden layers.\n",
    "- KNN was superior in digit classification accuracy than a Neural Network"
   ]
  }
 ],
 "metadata": {
  "kernelspec": {
   "display_name": "Python 3",
   "language": "python",
   "name": "python3"
  },
  "language_info": {
   "codemirror_mode": {
    "name": "ipython",
    "version": 3
   },
   "file_extension": ".py",
   "mimetype": "text/x-python",
   "name": "python",
   "nbconvert_exporter": "python",
   "pygments_lexer": "ipython3",
   "version": "3.7.3"
  }
 },
 "nbformat": 4,
 "nbformat_minor": 2
}
