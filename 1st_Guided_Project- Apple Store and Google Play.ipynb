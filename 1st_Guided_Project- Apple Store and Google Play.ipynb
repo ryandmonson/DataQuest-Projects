{
 "cells": [
  {
   "cell_type": "markdown",
   "metadata": {},
   "source": [
    "TITLE: APPLE STORE and GOOGLE PLAY\n",
    "\n",
    "The goal of this project is to help developers understand what type of apps are likely to attract more users on Google Play and the App Store.\n",
    "\n",
    "This a guided project from Dataquest.  The function `explore_data` was provided by Dataquest\n",
    "\n",
    "Further information on the Google data set can be found at\n",
    "https://www.kaggle.com/lava18/google-play-store-apps/home\n",
    "\n",
    "Further information on the Apple data set can be found at\n",
    "\n",
    "https://www.kaggle.com/ramamet4/app-store-apple-data-set-10k-apps/home\n"
   ]
  },
  {
   "cell_type": "code",
   "execution_count": null,
   "metadata": {
    "scrolled": true
   },
   "outputs": [],
   "source": [
    "open_apple_data = open('AppleStore.csv', encoding = 'utf8')\n",
    "open_google_data = open('googleplaystore.csv', encoding = 'utf8')\n",
    "from csv import reader\n",
    "read_apple_data = reader(open_apple_data)\n",
    "read_google_data = reader(open_google_data)\n",
    "list_apple_data = list(read_apple_data)\n",
    "list_google_data = list(read_google_data)\n",
    "\n"
   ]
  },
  {
   "cell_type": "code",
   "execution_count": null,
   "metadata": {},
   "outputs": [],
   "source": [
    "def explore_data(dataset, start, end, \n",
    "rows_and_columns=False):\n",
    "    dataset_slice = dataset[start:end]\n",
    "    for row in dataset_slice:\n",
    "        print(row)\n",
    "        print('\\n')\n",
    "        \n",
    "    if rows_and_columns:\n",
    "        print('Number of rows:', len(dataset))\n",
    "        print('Number of columns:', len(dataset[0]))\n",
    "        "
   ]
  },
  {
   "cell_type": "code",
   "execution_count": null,
   "metadata": {},
   "outputs": [],
   "source": [
    "explore_data(list_google_data, 0, 3, True)"
   ]
  },
  {
   "cell_type": "code",
   "execution_count": null,
   "metadata": {},
   "outputs": [],
   "source": [
    "explore_data(list_apple_data, 0, 3, True)"
   ]
  },
  {
   "cell_type": "code",
   "execution_count": null,
   "metadata": {},
   "outputs": [],
   "source": [
    "print(list_apple_data[0], '\\n', '\\n', list_google_data[0])"
   ]
  },
  {
   "cell_type": "markdown",
   "metadata": {
    "collapsed": true
   },
   "source": [
    "Based on the headers above and information in the Apple and Google file documentation, the data that at this point appears potentially useful for meeting the goal is:\n",
    "\n",
    "*Apple*\n",
    "\n",
    "- price\n",
    "- user_rating\n",
    "- cont_rating\n",
    "- prime_genre\n",
    "\n",
    "*Google*\n",
    "\n",
    "- Price\n",
    "- Content Rating\n",
    "- Rating (user rating)\n",
    "- Category\n",
    "- Genre\n",
    "\n"
   ]
  },
  {
   "cell_type": "code",
   "execution_count": null,
   "metadata": {
    "scrolled": false
   },
   "outputs": [],
   "source": [
    "#Category missing from google entry 10473, delete entry\n",
    "\n",
    "print(list_google_data[0], '\\n', '\\n', list_google_data[10473])\n",
    "del(list_google_data[10473]) #DON'T RUN ran once already\n",
    "print(list_google_data[10473])"
   ]
  },
  {
   "cell_type": "markdown",
   "metadata": {},
   "source": [
    "Discussion board indicates app \"Subway Surfer\", \"Instagram\" has replicate rows. The following function, modified from code provided by Dataquest, looks for how many duplicate entries are in the Apple and Google data sets."
   ]
  },
  {
   "cell_type": "code",
   "execution_count": null,
   "metadata": {},
   "outputs": [],
   "source": [
    "def id_duplicate_apps(dataset,app_name_index):\n",
    "    duplicate_apps = []\n",
    "    unique_apps = []\n",
    "    for app in dataset:\n",
    "        app_name = app[app_name_index]\n",
    "        if app_name not in unique_apps:\n",
    "            unique_apps.append(app_name)\n",
    "        else:\n",
    "            duplicate_apps.append(app_name)\n",
    "    \n",
    "    if len(duplicate_apps) < 5:\n",
    "        return len(duplicate_apps), duplicate_apps[::]\n",
    "    else:\n",
    "        return len(duplicate_apps), duplicate_apps[:5]"
   ]
  },
  {
   "cell_type": "code",
   "execution_count": null,
   "metadata": {},
   "outputs": [],
   "source": [
    "id_duplicate_apps(list_google_data, 0)"
   ]
  },
  {
   "cell_type": "code",
   "execution_count": null,
   "metadata": {},
   "outputs": [],
   "source": [
    "id_duplicate_apps(list_apple_data, 1)"
   ]
  },
  {
   "cell_type": "code",
   "execution_count": null,
   "metadata": {},
   "outputs": [],
   "source": [
    "#Determine how the Apple replicates differ (this code not needed)\n",
    "#for app in list_apple_data:\n",
    "#        name = app[1]\n",
    "#        if name xxxxxxx:\n",
    "#            print(app)\n",
    "#            print('\\n')"
   ]
  },
  {
   "cell_type": "code",
   "execution_count": null,
   "metadata": {},
   "outputs": [],
   "source": [
    "#Determine how the Google replicates differ\n",
    "for app in list_google_data:\n",
    "        name = app[0]\n",
    "        if name in ('Quick PDF Scanner + OCR FREE','Box',\n",
    "                    'Google My Business') :\n",
    "            print(app)\n",
    "            print('\\n')\n"
   ]
  },
  {
   "cell_type": "markdown",
   "metadata": {},
   "source": [
    "Of the sampled Google replicate entries no differences in an entry were noted. For this code the entry with the maximum number of reviews ( `Reviews`) will be included."
   ]
  },
  {
   "cell_type": "markdown",
   "metadata": {},
   "source": [
    "Create dictionary `reviews_max` of app name (key) max # of reviews (value) from the Google list. Remove Google \n",
    "list entries where the number of reviews is < max # of reviews for a given app name.\n",
    "\n"
   ]
  },
  {
   "cell_type": "code",
   "execution_count": null,
   "metadata": {},
   "outputs": [],
   "source": [
    "reviews_max = {}\n",
    "for app in list_google_data[1:]:\n",
    "    name = app[0]\n",
    "    n_reviews = float(app[3])\n",
    "    \n",
    "    if (name in reviews_max and \n",
    "    (reviews_max[name] < n_reviews)):\n",
    "        reviews_max[name] = n_reviews\n",
    "        \n",
    "    if name not in reviews_max:\n",
    "        reviews_max.update({name: n_reviews})"
   ]
  },
  {
   "cell_type": "code",
   "execution_count": null,
   "metadata": {},
   "outputs": [],
   "source": [
    "len(reviews_max)"
   ]
  },
  {
   "cell_type": "markdown",
   "metadata": {},
   "source": [
    "Create a list `google_clean` of the entire list_google_data entry for the apps in `reviews_max`"
   ]
  },
  {
   "cell_type": "code",
   "execution_count": null,
   "metadata": {},
   "outputs": [],
   "source": [
    "google_clean = []\n",
    "google_already_added = []\n",
    "for app in list_google_data[1:]:\n",
    "    name = app[0]\n",
    "    n_reviews = float(app[3])\n",
    "    \n",
    "    if (n_reviews == reviews_max[name] and  \n",
    "       name not in google_already_added):\n",
    "            \n",
    "        google_clean.append(app)\n",
    "        google_already_added.append(name)"
   ]
  },
  {
   "cell_type": "code",
   "execution_count": null,
   "metadata": {},
   "outputs": [],
   "source": [
    "len(google_clean)"
   ]
  },
  {
   "cell_type": "code",
   "execution_count": null,
   "metadata": {},
   "outputs": [],
   "source": [
    "#function check if string is English\n",
    "\n",
    "def ascii_english(my_string):\n",
    "    no_characters_nonenglish = 0\n",
    "    for letter in my_string:\n",
    "        if ord(letter) > 127:\n",
    "            no_characters_nonenglish += 1\n",
    "            if no_characters_nonenglish == 3:\n",
    "                return False\n",
    "    \n",
    "    return True"
   ]
  },
  {
   "cell_type": "code",
   "execution_count": null,
   "metadata": {},
   "outputs": [],
   "source": [
    "ascii_english('Instachat 😜热')"
   ]
  },
  {
   "cell_type": "code",
   "execution_count": null,
   "metadata": {},
   "outputs": [],
   "source": [
    "#Make a no replicates, english only google list using\n",
    "#the `ascii_english` function\n",
    "\n",
    "google_clean_english = []\n",
    "def row_english(dataset):\n",
    "    for row in dataset:\n",
    "        if ascii_english(row[0]):\n",
    "            google_clean_english.append(row)"
   ]
  },
  {
   "cell_type": "code",
   "execution_count": null,
   "metadata": {},
   "outputs": [],
   "source": [
    "row_english(google_clean)\n",
    "len(google_clean_english)"
   ]
  },
  {
   "cell_type": "code",
   "execution_count": null,
   "metadata": {},
   "outputs": [],
   "source": [
    "len(list_google_data)"
   ]
  },
  {
   "cell_type": "markdown",
   "metadata": {},
   "source": [
    "Create the `_clean_english` file for Apple by replicating the code used for Google."
   ]
  },
  {
   "cell_type": "code",
   "execution_count": null,
   "metadata": {},
   "outputs": [],
   "source": [
    "#Step 1\n",
    "\n",
    "apple_reviews_max = {}\n",
    "for app in list_apple_data[1:]:\n",
    "    name = app[1]\n",
    "    ratings_count_ver = float(app[6])\n",
    "    \n",
    "    if (name in apple_reviews_max and \n",
    "        (apple_reviews_max[name] < ratings_count_ver)):\n",
    "        apple_reviews_max[name] = ratings_count_ver\n",
    "\n",
    "    if name not in apple_reviews_max:\n",
    "        apple_reviews_max.update({name: ratings_count_ver})\n",
    "\n",
    "#Step 2\n",
    "apple_clean = []\n",
    "apple_already_added = []\n",
    "for app in list_apple_data[1:]:\n",
    "    name = app[1]\n",
    "    ratings_count_ver = float(app[6])\n",
    "    if (ratings_count_ver == apple_reviews_max[name]\n",
    "    and name not in apple_already_added):\n",
    "            \n",
    "        apple_clean.append(app)\n",
    "        apple_already_added.append(name)\n",
    "\n",
    "#Step 3\n",
    "\n",
    "apple_clean_english = []\n",
    "def apple_row_english(dataset):\n",
    "    for row in dataset:\n",
    "        if ascii_english(row[0]):\n",
    "            apple_clean_english.append(row)"
   ]
  },
  {
   "cell_type": "code",
   "execution_count": null,
   "metadata": {},
   "outputs": [],
   "source": [
    "apple_row_english(apple_clean)\n",
    "len(apple_clean_english)"
   ]
  },
  {
   "cell_type": "code",
   "execution_count": null,
   "metadata": {},
   "outputs": [],
   "source": [
    "len(list_apple_data)"
   ]
  },
  {
   "cell_type": "code",
   "execution_count": null,
   "metadata": {},
   "outputs": [],
   "source": [
    "#Separate free from non free apps for both google \n",
    "#and apple\n",
    "\n",
    "google_free = []\n",
    "for app in google_clean_english:\n",
    "    if(app[6]) == 'Free':\n",
    "        google_free.append(app) \n",
    "        \n",
    "apple_free = []\n",
    "for app in apple_clean_english:\n",
    "    if(app[5]) == '0':\n",
    "        apple_free.append(app) "
   ]
  },
  {
   "cell_type": "code",
   "execution_count": null,
   "metadata": {},
   "outputs": [],
   "source": [
    "len(google_free)"
   ]
  },
  {
   "cell_type": "code",
   "execution_count": null,
   "metadata": {},
   "outputs": [],
   "source": [
    "len(apple_free)"
   ]
  },
  {
   "cell_type": "code",
   "execution_count": null,
   "metadata": {},
   "outputs": [],
   "source": [
    "print('APPLE', '\\n', list_apple_data[0], '\\n', '\\n', apple_free[1],\n",
    "      '\\n', '\\n', '\\n', 'GOOGLE', '\\n', list_google_data[0], '\\n', '\\n', \n",
    "      google_free[1])"
   ]
  },
  {
   "cell_type": "markdown",
   "metadata": {
    "collapsed": true
   },
   "source": [
    "To minimize risks and overhead, our validation strategy for an app idea is comprised of three steps:\n",
    "\n",
    "1. Build a minimal Android version of the app, and add it to Google Play.\n",
    "2. If the app has a good response from users, we develop it further.\n",
    "3. If the app is profitable after six months, we build an iOS version of the app and add it to the App Store.\n",
    "\n",
    "To find out what are the most common types of apps in the market, we'll use the following columns:\n",
    "\n",
    "*Apple* - 'rating_count_tot', 'prime_genre'\n",
    "\n",
    "*Google* -'Category', 'Installs', 'Genres'"
   ]
  },
  {
   "cell_type": "code",
   "execution_count": null,
   "metadata": {},
   "outputs": [],
   "source": [
    "def freq_table(dataset, index):\n",
    "    freq_table_dict = {}\n",
    "    for key in dataset:\n",
    "        if key[index] in freq_table_dict:\n",
    "            freq_table_dict[key[index]] += 1\n",
    "        else:\n",
    "            freq_table_dict[key[index]] = 1\n",
    "            \n",
    "    key_total = 0\n",
    "    for index in freq_table_dict:\n",
    "        key_total += freq_table_dict[index]\n",
    "    \n",
    "    for index in freq_table_dict:\n",
    "        freq_table_dict[index] = (freq_table_dict[index] / \n",
    "                                  key_total *100)\n",
    "    \n",
    "    return freq_table_dict"
   ]
  },
  {
   "cell_type": "code",
   "execution_count": null,
   "metadata": {},
   "outputs": [],
   "source": [
    "# code provided by Dataquest\n",
    "\n",
    "def display_table(dataset, index):\n",
    "    table = freq_table(dataset, index)\n",
    "    table_display = []\n",
    "    for key in table:\n",
    "        key_val_as_tuple = (table[key], key)\n",
    "        table_display.append(key_val_as_tuple)\n",
    "\n",
    "    table_sorted = sorted(table_display, reverse = True)\n",
    "    for entry in table_sorted:\n",
    "        print(entry[1], ':', entry[0])"
   ]
  },
  {
   "cell_type": "code",
   "execution_count": 41,
   "metadata": {},
   "outputs": [
    {
     "name": "stdout",
     "output_type": "stream",
     "text": [
      "FAMILY : 18.932971628800725\n",
      "GAME : 9.698202780603594\n",
      "TOOLS : 8.45484344975698\n",
      "BUSINESS : 4.600429524132474\n",
      "PRODUCTIVITY : 3.8996269922007465\n",
      "LIFESTYLE : 3.888323725556686\n",
      "FINANCE : 3.7074714592517237\n",
      "MEDICAL : 3.537922459590822\n",
      "SPORTS : 3.39097999321804\n",
      "PERSONALIZATION : 3.3231603933536795\n",
      "COMMUNICATION : 3.2327342602011986\n",
      "HEALTH_AND_FITNESS : 3.0857917938284163\n",
      "PHOTOGRAPHY : 2.950152594099695\n",
      "NEWS_AND_MAGAZINES : 2.803210127726913\n",
      "SOCIAL : 2.6675709279981916\n",
      "TRAVEL_AND_LOCAL : 2.3397761953204474\n",
      "SHOPPING : 2.2493500621679665\n",
      "BOOKS_AND_REFERENCE : 2.136317395727365\n",
      "DATING : 1.8650389962699219\n",
      "VIDEO_PLAYERS : 1.797219396405561\n",
      "MAPS_AND_NAVIGATION : 1.3903017972193965\n",
      "FOOD_AND_DRINK : 1.2433593308466147\n",
      "EDUCATION : 1.1642364643381937\n",
      "ENTERTAINMENT : 0.9607776647451114\n",
      "LIBRARIES_AND_DEMO : 0.938171131456991\n",
      "AUTO_AND_VEHICLES : 0.9268678648129309\n",
      "HOUSE_AND_HOME : 0.8025319317282694\n",
      "WEATHER : 0.7912286650842093\n",
      "EVENTS : 0.7121057985757884\n",
      "PARENTING : 0.6555894653554878\n",
      "ART_AND_DESIGN : 0.6442861987114276\n",
      "COMICS : 0.6103763987792472\n",
      "BEAUTY : 0.5990731321351871\n"
     ]
    }
   ],
   "source": [
    "display_table(google_free, 1)"
   ]
  },
  {
   "cell_type": "code",
   "execution_count": 42,
   "metadata": {},
   "outputs": [
    {
     "name": "stdout",
     "output_type": "stream",
     "text": [
      "Tools : 8.44354018311292\n",
      "Entertainment : 6.081157454504352\n",
      "Education : 5.357748389284503\n",
      "Business : 4.600429524132474\n",
      "Productivity : 3.8996269922007465\n",
      "Lifestyle : 3.8770204589126256\n",
      "Finance : 3.7074714592517237\n",
      "Medical : 3.537922459590822\n",
      "Sports : 3.458799593082401\n",
      "Personalization : 3.3231603933536795\n",
      "Communication : 3.2327342602011986\n",
      "Action : 3.0970950604724763\n",
      "Health & Fitness : 3.0857917938284163\n",
      "Photography : 2.950152594099695\n",
      "News & Magazines : 2.803210127726913\n",
      "Social : 2.6675709279981916\n",
      "Travel & Local : 2.3284729286763874\n",
      "Shopping : 2.2493500621679665\n",
      "Books & Reference : 2.136317395727365\n",
      "Simulation : 2.045891262574884\n",
      "Dating : 1.8650389962699219\n",
      "Arcade : 1.8424324629818016\n",
      "Video Players & Editors : 1.7746128631174407\n",
      "Casual : 1.763309596473381\n",
      "Maps & Navigation : 1.3903017972193965\n",
      "Food & Drink : 1.2433593308466147\n",
      "Puzzle : 1.1303266644060133\n",
      "Racing : 0.9946874646772917\n",
      "Role Playing : 0.938171131456991\n",
      "Libraries & Demo : 0.938171131456991\n",
      "Auto & Vehicles : 0.9268678648129309\n",
      "Strategy : 0.9042613315248107\n",
      "House & Home : 0.8025319317282694\n",
      "Weather : 0.7912286650842093\n",
      "Events : 0.7121057985757884\n",
      "Adventure : 0.6668927319995479\n",
      "Comics : 0.5990731321351871\n",
      "Beauty : 0.5990731321351871\n",
      "Art & Design : 0.5990731321351871\n",
      "Parenting : 0.49734373233864587\n",
      "Card : 0.45213066576240535\n",
      "Trivia : 0.41822086583022494\n",
      "Casino : 0.41822086583022494\n",
      "Educational;Education : 0.39561433254210465\n",
      "Board : 0.38431106589804453\n",
      "Educational : 0.3730077992539844\n",
      "Education;Education : 0.339097999321804\n",
      "Word : 0.2599751328133831\n",
      "Casual;Pretend Play : 0.23736859952526282\n",
      "Music : 0.20345879959308238\n",
      "Racing;Action & Adventure : 0.169548999660902\n",
      "Puzzle;Brain Games : 0.169548999660902\n",
      "Entertainment;Music & Video : 0.169548999660902\n",
      "Casual;Brain Games : 0.1356391997287216\n",
      "Casual;Action & Adventure : 0.1356391997287216\n",
      "Arcade;Action & Adventure : 0.12433593308466147\n",
      "Action;Action & Adventure : 0.10172939979654119\n",
      "Educational;Pretend Play : 0.09042613315248108\n",
      "Simulation;Action & Adventure : 0.07912286650842093\n",
      "Parenting;Education : 0.07912286650842093\n",
      "Entertainment;Brain Games : 0.07912286650842093\n",
      "Board;Brain Games : 0.07912286650842093\n",
      "Parenting;Music & Video : 0.0678195998643608\n",
      "Educational;Brain Games : 0.0678195998643608\n",
      "Casual;Creativity : 0.0678195998643608\n",
      "Art & Design;Creativity : 0.0678195998643608\n",
      "Education;Pretend Play : 0.05651633322030067\n",
      "Role Playing;Pretend Play : 0.04521306657624054\n",
      "Education;Creativity : 0.04521306657624054\n",
      "Role Playing;Action & Adventure : 0.0339097999321804\n",
      "Puzzle;Action & Adventure : 0.0339097999321804\n",
      "Entertainment;Creativity : 0.0339097999321804\n",
      "Entertainment;Action & Adventure : 0.0339097999321804\n",
      "Educational;Creativity : 0.0339097999321804\n",
      "Educational;Action & Adventure : 0.0339097999321804\n",
      "Education;Music & Video : 0.0339097999321804\n",
      "Education;Brain Games : 0.0339097999321804\n",
      "Education;Action & Adventure : 0.0339097999321804\n",
      "Adventure;Action & Adventure : 0.0339097999321804\n",
      "Video Players & Editors;Music & Video : 0.02260653328812027\n",
      "Sports;Action & Adventure : 0.02260653328812027\n",
      "Simulation;Pretend Play : 0.02260653328812027\n",
      "Puzzle;Creativity : 0.02260653328812027\n",
      "Music;Music & Video : 0.02260653328812027\n",
      "Entertainment;Pretend Play : 0.02260653328812027\n",
      "Casual;Education : 0.02260653328812027\n",
      "Board;Action & Adventure : 0.02260653328812027\n",
      "Video Players & Editors;Creativity : 0.011303266644060134\n",
      "Trivia;Education : 0.011303266644060134\n",
      "Travel & Local;Action & Adventure : 0.011303266644060134\n",
      "Tools;Education : 0.011303266644060134\n",
      "Strategy;Education : 0.011303266644060134\n",
      "Strategy;Creativity : 0.011303266644060134\n",
      "Strategy;Action & Adventure : 0.011303266644060134\n",
      "Simulation;Education : 0.011303266644060134\n",
      "Role Playing;Brain Games : 0.011303266644060134\n",
      "Racing;Pretend Play : 0.011303266644060134\n",
      "Puzzle;Education : 0.011303266644060134\n",
      "Parenting;Brain Games : 0.011303266644060134\n",
      "Music & Audio;Music & Video : 0.011303266644060134\n",
      "Lifestyle;Pretend Play : 0.011303266644060134\n",
      "Lifestyle;Education : 0.011303266644060134\n",
      "Health & Fitness;Education : 0.011303266644060134\n",
      "Health & Fitness;Action & Adventure : 0.011303266644060134\n",
      "Entertainment;Education : 0.011303266644060134\n",
      "Communication;Creativity : 0.011303266644060134\n",
      "Comics;Creativity : 0.011303266644060134\n",
      "Casual;Music & Video : 0.011303266644060134\n",
      "Card;Action & Adventure : 0.011303266644060134\n",
      "Books & Reference;Education : 0.011303266644060134\n",
      "Art & Design;Pretend Play : 0.011303266644060134\n",
      "Art & Design;Action & Adventure : 0.011303266644060134\n",
      "Arcade;Pretend Play : 0.011303266644060134\n",
      "Adventure;Education : 0.011303266644060134\n"
     ]
    }
   ],
   "source": [
    "display_table(google_free, 9)"
   ]
  },
  {
   "cell_type": "code",
   "execution_count": 43,
   "metadata": {},
   "outputs": [
    {
     "name": "stdout",
     "output_type": "stream",
     "text": [
      "Games : 55.64595660749507\n",
      "Entertainment : 8.234714003944774\n",
      "Photo & Video : 4.117357001972387\n",
      "Social Networking : 3.5256410256410255\n",
      "Education : 3.2544378698224854\n",
      "Shopping : 2.983234714003945\n",
      "Utilities : 2.687376725838264\n",
      "Lifestyle : 2.3175542406311638\n",
      "Finance : 2.0710059171597637\n",
      "Sports : 1.947731755424063\n",
      "Health & Fitness : 1.8737672583826428\n",
      "Music : 1.6518737672583828\n",
      "Book : 1.6272189349112427\n",
      "Productivity : 1.5285996055226825\n",
      "News : 1.4299802761341223\n",
      "Travel : 1.3806706114398422\n",
      "Food & Drink : 1.0601577909270217\n",
      "Weather : 0.7642998027613412\n",
      "Reference : 0.4930966469428008\n",
      "Navigation : 0.4930966469428008\n",
      "Business : 0.4930966469428008\n",
      "Catalogs : 0.22189349112426035\n",
      "Medical : 0.19723865877712032\n"
     ]
    }
   ],
   "source": [
    "display_table(apple_free, 12)"
   ]
  },
  {
   "cell_type": "markdown",
   "metadata": {},
   "source": [
    "For Google Play, the `apps` column gives the top 3 categories of free apps as FAMILY, GAME and TOOLS. The `Genres` column top 3 are TOOLS, ENTERTAINMENT and EDUCATION.\n",
    "\n",
    "For free apps on Apple, per the `prime_genre` column GAMES are by far (55% of the total) most common app type, the 2nd most common being ENTERTAINMENT at 8%.\n",
    "\n",
    "CONCLUSION:\n",
    "\n",
    "The free apps most likely to attract users are in the GAME/ENTERTAINMENT genre."
   ]
  }
 ],
 "metadata": {
  "kernelspec": {
   "display_name": "Python 3",
   "language": "python",
   "name": "python3"
  },
  "language_info": {
   "codemirror_mode": {
    "name": "ipython",
    "version": 3
   },
   "file_extension": ".py",
   "mimetype": "text/x-python",
   "name": "python",
   "nbconvert_exporter": "python",
   "pygments_lexer": "ipython3",
   "version": "3.7.3"
  }
 },
 "nbformat": 4,
 "nbformat_minor": 2
}
