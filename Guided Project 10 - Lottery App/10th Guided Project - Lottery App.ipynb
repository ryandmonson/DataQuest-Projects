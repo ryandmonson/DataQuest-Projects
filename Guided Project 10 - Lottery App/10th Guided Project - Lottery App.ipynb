{
 "cells": [
  {
   "cell_type": "markdown",
   "metadata": {
    "collapsed": true
   },
   "source": [
    "<font color=blue>TITLE</font>\n",
    "\n",
    "Mobile App for Gambling Addiction\n",
    "\n",
    "<font color=blue>DESCRIPTION</font>\n",
    "\n",
    "This project is to use combinations calculations to help gambling addicts see clearly how low the probabilities are of winning at the lottery."
   ]
  },
  {
   "cell_type": "code",
   "execution_count": 4,
   "metadata": {},
   "outputs": [],
   "source": [
    "import random"
   ]
  },
  {
   "cell_type": "code",
   "execution_count": 3,
   "metadata": {},
   "outputs": [],
   "source": [
    "#functions for combination\n",
    "def factorial(n):\n",
    "    final_product = 1\n",
    "    for i in range(n, 0, -1):\n",
    "        final_product *= i\n",
    "    return final_product\n",
    "def combinations(n,k):\n",
    "    return(factorial(n)/(factorial(k)*factorial(n-k)))\n",
    "           "
   ]
  },
  {
   "cell_type": "code",
   "execution_count": 3,
   "metadata": {},
   "outputs": [],
   "source": [
    "#function for probability of having a winning ticket\n",
    "\n",
    "def one_ticket_probability(n,k,tnumbers):\n",
    "    c_49_6 = combinations(49,6)\n",
    "    print(\"If your ticket numbers were:\", tnumbers, '\\n')\n",
    "    print(\"The probability of you winning is:\", '{:.2E}'.format(1/c_49_6), '\\n')\n",
    "    print('''This means you have a 1 in {:,} chance of winning'''.format(c_49_6))"
   ]
  },
  {
   "cell_type": "code",
   "execution_count": 4,
   "metadata": {},
   "outputs": [
    {
     "name": "stdout",
     "output_type": "stream",
     "text": [
      "If your ticket numbers were: [14, 17, 26, 1, 31, 45] \n",
      "\n",
      "The probability of you winning is: 7.15E-08 \n",
      "\n",
      "This means you have a 1 in 13,983,816.0 chance of winning\n"
     ]
    }
   ],
   "source": [
    "#randomly generate 6 ticket nos. w/o replacement, calc winning probability\n",
    "user_number_list = random.sample(range(1,50), 6)\n",
    "one_ticket_probability(49,6, user_number_list)"
   ]
  },
  {
   "cell_type": "code",
   "execution_count": null,
   "metadata": {},
   "outputs": [],
   "source": [
    "import pandas as pd\n",
    "data_649 = pd.read_csv('649.csv')\n",
    "print(data_649.shape)\n",
    "print(data_649.head(3))\n",
    "data_649.tail(3)"
   ]
  },
  {
   "cell_type": "code",
   "execution_count": null,
   "metadata": {},
   "outputs": [],
   "source": [
    "data_649.columns"
   ]
  },
  {
   "cell_type": "code",
   "execution_count": 7,
   "metadata": {},
   "outputs": [
    {
     "data": {
      "text/plain": [
       "{8, 33, 36, 37, 39, 41}"
      ]
     },
     "execution_count": 7,
     "metadata": {},
     "output_type": "execute_result"
    }
   ],
   "source": [
    "#practice grabbing just one row and combining the\n",
    "#numbers into a set\n",
    "\n",
    "row = set(data_649.loc[1, 'NUMBER DRAWN 1': \n",
    "                       'NUMBER DRAWN 6'])\n",
    "row"
   ]
  },
  {
   "cell_type": "code",
   "execution_count": 10,
   "metadata": {},
   "outputs": [
    {
     "data": {
      "text/plain": [
       "[{3, 11, 12, 14, 41, 43}, {8, 33, 36, 37, 39, 41}, {1, 6, 23, 24, 27, 39}]"
      ]
     },
     "execution_count": 10,
     "metadata": {},
     "output_type": "execute_result"
    }
   ],
   "source": [
    "#loop the above, creating a new series\n",
    "\n",
    "values = []\n",
    "def extract_numbers():\n",
    "    for row in range(0,len(data_649)-1):\n",
    "        value = set(data_649.loc[row, 'NUMBER DRAWN 1': \n",
    "                             'NUMBER DRAWN 6' ])\n",
    "        values.append(value)\n",
    "    return values\n",
    "    \n",
    "#check that this worked\n",
    "extract_numbers()\n",
    "values[0:3] "
   ]
  },
  {
   "cell_type": "code",
   "execution_count": 26,
   "metadata": {},
   "outputs": [],
   "source": [
    "def set_in_list(my_list,iters):\n",
    "    true_count = 0\n",
    "    loops = 0\n",
    "    my_set = set(random.sample(range(0,49),6))\n",
    "    for i in range(iters):   \n",
    "        for rows in my_list:\n",
    "            if my_set == rows:\n",
    "                true_count +=1\n",
    "        loops +=1\n",
    "    print('''How many lottery numbers were checked\n",
    "    to see if they were drawn previously in the \n",
    "    lottery: ''', loops)\n",
    "    print('''How many of those numbers had been drawn\n",
    "    previously in the lottery: ''', true_count)\n",
    "    return"
   ]
  },
  {
   "cell_type": "code",
   "execution_count": 27,
   "metadata": {},
   "outputs": [
    {
     "name": "stdout",
     "output_type": "stream",
     "text": [
      "How many lottery numbers were checked\n",
      "    to see if they were drawn previously in the \n",
      "    lottery:  1000\n",
      "How many of those numbers had been drawn\n",
      "    previously in the lottery:  0\n"
     ]
    }
   ],
   "source": [
    "\n",
    "set_in_list(values,1000)\n",
    "    "
   ]
  },
  {
   "cell_type": "markdown",
   "metadata": {},
   "source": [
    "<font color = blue>EXPLANATION</font>\n",
    "\n",
    "The app has randomly chosen the indicated number of lottery numbers and checked to see how many of those numbers had been drawn previously in the lottery.  As you can see, 1000 lottery numbers were randomly chosen and none of them had been drawn previously in the lottery."
   ]
  },
  {
   "cell_type": "code",
   "execution_count": 13,
   "metadata": {},
   "outputs": [],
   "source": [
    "def multi_ticket_probability(n_tickets):\n",
    "    poss_combs = combinations(49,6)\n",
    "    prob = n_tickets/poss_combs\n",
    "    print('''The chance of winning with {:,} ticket(s)'''.format(n_tickets),\n",
    "          'is 1 in {:,}'.format(int(poss_combs/n_tickets)))\n",
    "    return"
   ]
  },
  {
   "cell_type": "code",
   "execution_count": 14,
   "metadata": {},
   "outputs": [
    {
     "name": "stdout",
     "output_type": "stream",
     "text": [
      "The chance of winning with 1 ticket(s) is 1 in 13,983,816\n",
      "The chance of winning with 10 ticket(s) is 1 in 1,398,381\n",
      "The chance of winning with 100 ticket(s) is 1 in 139,838\n",
      "The chance of winning with 1,000 ticket(s) is 1 in 13,983\n",
      "The chance of winning with 1,000,000 ticket(s) is 1 in 13\n",
      "The chance of winning with 6,991,908 ticket(s) is 1 in 2\n",
      "The chance of winning with 13,983,816 ticket(s) is 1 in 1\n"
     ]
    }
   ],
   "source": [
    "multi_ticket_probability(1)\n",
    "multi_ticket_probability(10)\n",
    "multi_ticket_probability(100)\n",
    "multi_ticket_probability(1000)\n",
    "multi_ticket_probability(1000000)\n",
    "multi_ticket_probability(6991908)\n",
    "multi_ticket_probability(13983816)"
   ]
  },
  {
   "cell_type": "markdown",
   "metadata": {},
   "source": [
    "<font color = blue>EXPLANATION</font>\n",
    "\n",
    "The app is showing your chance of winning based on the number of tickets you buy. Say you buy 10 tickets and each ticket co\n",
    "sts 1 dollar. You will spend $10 and have an approximately 1 in a million chance of winning.\n",
    "\n",
    "If you spend $1000 for 1000 tickets you still have only an approximately 1 in a 14,000 chance of winning.  "
   ]
  },
  {
   "cell_type": "markdown",
   "metadata": {},
   "source": [
    "<font color = blue>NOTE:</font> \n",
    "\n",
    "The next section determines the probability of matching only some of the numbers on a ticket. Lotteries allow you to win some money this way.  To calculate this probability requires multiplying the number of successful matching combinations by the number of possible combinations of the remaining numbers."
   ]
  },
  {
   "cell_type": "code",
   "execution_count": 7,
   "metadata": {
    "collapsed": true
   },
   "outputs": [],
   "source": [
    "def probability_less_6(n,k):\n",
    "    #n- numbers drawn, k- number of required matches\n",
    "    combs = combinations(n,k) # no of succesful combinations\n",
    "    combs1 = combinations(49 - k, 6 - k) # no of combinations for remaining numbers\n",
    "    success = combs * combs1\n",
    "    prob = success/combinations(49,6)\n",
    "    return print('Chance of matching',k,'numbers is 1 in', int(1/prob))"
   ]
  },
  {
   "cell_type": "code",
   "execution_count": 12,
   "metadata": {},
   "outputs": [
    {
     "name": "stdout",
     "output_type": "stream",
     "text": [
      "Chance of matching 2 numbers is 1 in 5\n",
      "Chance of matching 3 numbers is 1 in 46\n",
      "Chance of matching 4 numbers is 1 in 941\n",
      "Chance of matching 5 numbers is 1 in 52969\n"
     ]
    }
   ],
   "source": [
    "probability_less_6(6,2)\n",
    "probability_less_6(6,3)\n",
    "probability_less_6(6,4)\n",
    "probability_less_6(6,5)"
   ]
  },
  {
   "cell_type": "markdown",
   "metadata": {
    "collapsed": true
   },
   "source": [
    "<font color = blue>EXPLANATION</font>\n",
    "This describes your chance of having a winning ticket based on the number of numbers you need to match. For example, the chance of you matching 4 lottery numbers with your ticket is 1 in 941. Another way to think of this is if 941 people buy a ticket only 1 of them will match 4 of the lottery numbers. "
   ]
  }
 ],
 "metadata": {
  "kernelspec": {
   "display_name": "Python 3",
   "language": "python",
   "name": "python3"
  },
  "language_info": {
   "codemirror_mode": {
    "name": "ipython",
    "version": 3
   },
   "file_extension": ".py",
   "mimetype": "text/x-python",
   "name": "python",
   "nbconvert_exporter": "python",
   "pygments_lexer": "ipython3",
   "version": "3.7.3"
  }
 },
 "nbformat": 4,
 "nbformat_minor": 2
}
