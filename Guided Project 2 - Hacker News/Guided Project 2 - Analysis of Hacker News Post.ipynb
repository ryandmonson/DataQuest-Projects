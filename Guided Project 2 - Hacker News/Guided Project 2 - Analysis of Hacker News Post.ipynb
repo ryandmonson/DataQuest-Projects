{
 "cells": [
  {
   "cell_type": "markdown",
   "metadata": {
    "collapsed": true
   },
   "source": [
    "**TITLE**: Hacker News Ask vs. Show Post Comments\n",
    "\n",
    "**DESCRIPTION**:  This code will provide an evaluation of \n",
    "\n",
    "- No. of comments for Ask Hacker News post vs. Show, and\n",
    "- Hour of the day when the most Ask comments are received.  \n",
    "\n",
    "The data set was filtered to exclude posts with no comments, then 20,000 posts were randomly sampled for analysis.\n",
    "\n",
    "Print first 2 lists to view header and an example from the data set."
   ]
  },
  {
   "cell_type": "code",
   "execution_count": null,
   "metadata": {},
   "outputs": [],
   "source": [
    "opened_file = open(\"hacker_news.csv\")\n",
    "from csv import reader\n",
    "read_file = reader(opened_file)\n",
    "hn = list(read_file)\n",
    "print(hn[0:2])\n"
   ]
  },
  {
   "cell_type": "markdown",
   "metadata": {},
   "source": [
    "Rename header row then remove from database\n",
    "\n",
    "Verify with `print`"
   ]
  },
  {
   "cell_type": "code",
   "execution_count": null,
   "metadata": {},
   "outputs": [],
   "source": [
    "#Do not run this again. hn will get overwritten.  Have to\n",
    "#rerun all the cells\n",
    "\n",
    "headers = hn[0] \n",
    "del hn[0]\n",
    "print (headers)\n",
    "print('\\n')\n",
    "print(hn[0])"
   ]
  },
  {
   "cell_type": "markdown",
   "metadata": {},
   "source": [
    "Create list of \"ask posts\", \"show posts\" and \"other posts\".\n",
    "\n",
    "Verify with `print`"
   ]
  },
  {
   "cell_type": "code",
   "execution_count": null,
   "metadata": {},
   "outputs": [],
   "source": [
    "ask_posts = []\n",
    "show_posts = []\n",
    "other_posts = []\n",
    "for row in hn:\n",
    "    title = row[1]\n",
    "    lc_title = title.lower()\n",
    "    if lc_title.startswith(\"ask hn\"):\n",
    "        ask_posts.append(row)\n",
    "    elif lc_title.startswith(\"show hn\"):\n",
    "        show_posts.append(row)\n",
    "    else:\n",
    "        other_posts.append(row)\n",
    "    \n",
    "print(\"Ask posts number: \",len(ask_posts), \"\\n\", \"Check 1st ask entry :\" , ask_posts[0])\n",
    "print('\\n')\n",
    "print(\"Show posts: \",len(show_posts), \"\\n\", \"Check 1st show entry :\" , show_posts[0])\n",
    "print('\\n')\n",
    "print(\"Other posts: \",len(other_posts), \"\\n\", \"Check 1st other entry :\" , other_posts[0])"
   ]
  },
  {
   "cell_type": "markdown",
   "metadata": {},
   "source": [
    "Determine avg no. of comments for ask & show posts."
   ]
  },
  {
   "cell_type": "code",
   "execution_count": 5,
   "metadata": {},
   "outputs": [
    {
     "name": "stdout",
     "output_type": "stream",
     "text": [
      "Avg no. of ask comments, 14.0\n",
      "Avg no. of show comments, 10.3\n"
     ]
    }
   ],
   "source": [
    "total_ask_comments = 0\n",
    "for row in ask_posts:\n",
    "    num_comments = int(row[4])\n",
    "    total_ask_comments += num_comments\n",
    "\n",
    "avg_ask_comments = total_ask_comments / len(ask_posts)\n",
    "\n",
    "print(\"Avg no. of ask comments, {:.1f}\".format(avg_ask_comments))\n",
    "\n",
    "total_show_comments = 0\n",
    "\n",
    "for row in show_posts:\n",
    "    num_comments = int(row[4])\n",
    "    total_show_comments += num_comments\n",
    "\n",
    "avg_show_comments = total_show_comments / len(show_posts)\n",
    "\n",
    "print(\"Avg no. of show comments, {:.1f}\".format(avg_show_comments))"
   ]
  },
  {
   "cell_type": "markdown",
   "metadata": {
    "collapsed": true
   },
   "source": [
    "CONCLUSION FROM ABOVE CELL: On average there are more comments for an \"Ask Hacker News\" post than for a \"Show Hacker News\" post.\n",
    "\n",
    "\n",
    "\n",
    "\n",
    "Analyze the hour when ask comments received:\n",
    "\n",
    "- Create list(result_list): no. of ask comments by datetime stamp\n",
    "- Iterate through result list\n",
    "    + parse the datetime\n",
    "    + grab the hour\n",
    "    + total the number of ask posts by hour (created_by_hour) \n",
    "    + total the number of ask post comments by hour (comments_by_hour)\n",
    "    \n",
    "Review results with `print`\n"
   ]
  },
  {
   "cell_type": "code",
   "execution_count": null,
   "metadata": {},
   "outputs": [],
   "source": [
    "import datetime as dt\n",
    "result_list = []\n",
    "for row in ask_posts:\n",
    "    created_at_hr = row[6]\n",
    "    no_comments = int(row[4])\n",
    "    result_list.append([created_at_hr, no_comments])\n",
    "    \n",
    "created_by_hour = {}\n",
    "comments_by_hour ={}\n",
    "for row in result_list:\n",
    "    date = row[0]\n",
    "    date_obj = dt.datetime.strptime(date, \"%m/%d/%Y %H:%M\")\n",
    "    hour_obj = date_obj.strftime(\"%H\")\n",
    "    if hour_obj not in comments_by_hour:\n",
    "        created_by_hour[hour_obj] = 1\n",
    "        comments_by_hour[hour_obj] = row[1]\n",
    "    else:\n",
    "        created_by_hour[hour_obj] += 1\n",
    "        comments_by_hour[hour_obj] += row[1]\n",
    "\n",
    "print(\"# of ask posts per hour:\", '\\n', created_by_hour)\n",
    "print('\\n')\n",
    "print(\"# ask post comments by hour:\", '\\n', comments_by_hour)"
   ]
  },
  {
   "cell_type": "markdown",
   "metadata": {},
   "source": [
    "Calculate average # of ask comments per ask posts by hour.\n",
    "\n",
    "verify calculation using `print` and compare to hand results dividing `comments_by_hour` by `created_by_hour` "
   ]
  },
  {
   "cell_type": "code",
   "execution_count": null,
   "metadata": {},
   "outputs": [],
   "source": [
    "avg_by_hour = []\n",
    "for item in comments_by_hour:\n",
    "    avg_by_hour.append(\n",
    "        [item, comments_by_hour\n",
    "         [item] / created_by_hour[item]])\n",
    "\n",
    "print(avg_by_hour[0:2])"
   ]
  },
  {
   "cell_type": "markdown",
   "metadata": {},
   "source": [
    "- Swap the individual list entries in avg_by_hour so avg no. of comments are the first index\n",
    "- Sort avg_by_hour by avg no. of comments\n",
    "- Print the 5 hours of the day having the most average no. of ask comments"
   ]
  },
  {
   "cell_type": "code",
   "execution_count": 19,
   "metadata": {},
   "outputs": [
    {
     "name": "stdout",
     "output_type": "stream",
     "text": [
      "verify swap: [[5.5777777777777775, '09'], [14.741176470588234, '13']]\n",
      "\n",
      "\n",
      "Top 5 hours for Ask Posts Comments \n",
      "\n",
      "15:00: 38.59 average comments per post\n",
      "02:00: 23.81 average comments per post\n",
      "20:00: 21.52 average comments per post\n",
      "16:00: 16.80 average comments per post\n",
      "21:00: 16.01 average comments per post\n"
     ]
    }
   ],
   "source": [
    "swap_avg_by_hour = []\n",
    "for row in avg_by_hour:\n",
    "    swap_avg_by_hour.append(\n",
    "        [row[1], row[0]])\n",
    "print(\"verify swap:\", swap_avg_by_hour[0:2])\n",
    "print('\\n')\n",
    "\n",
    "sorted_swap = sorted(swap_avg_by_hour,reverse = True)\n",
    "print(\"Top 5 hours for Ask Posts Comments\", '\\n')\n",
    "for row in sorted_swap[0:5]:\n",
    "    hour = dt.datetime.strptime(row[1], \"%H\")\n",
    "    hour_object = hour.strftime(\"%H:%M\")\n",
    "    print(\"\"\"{}: {:.2f} average comments per post\"\"\".format(hour_object, row[0]))\n"
   ]
  },
  {
   "cell_type": "markdown",
   "metadata": {},
   "source": [
    "The data was in Eastern Standard Time.  \n",
    "\n",
    "CONCLUSION: The best times for sending out Ask Hacker News Posts and receiving comments are 3pm & 4pm EST, 8pm & 9pm EST, and 2am EST.  Assuming that Hacker News (HN) posts come primarily from the U.S.A, HN followers provide comments most frequently at the end of the workday, after dinner, and in the early morning hours."
   ]
  },
  {
   "cell_type": "code",
   "execution_count": null,
   "metadata": {
    "collapsed": true
   },
   "outputs": [],
   "source": []
  }
 ],
 "metadata": {
  "kernelspec": {
   "display_name": "Python 3",
   "language": "python",
   "name": "python3"
  },
  "language_info": {
   "codemirror_mode": {
    "name": "ipython",
    "version": 3
   },
   "file_extension": ".py",
   "mimetype": "text/x-python",
   "name": "python",
   "nbconvert_exporter": "python",
   "pygments_lexer": "ipython3",
   "version": "3.7.3"
  }
 },
 "nbformat": 4,
 "nbformat_minor": 2
}
