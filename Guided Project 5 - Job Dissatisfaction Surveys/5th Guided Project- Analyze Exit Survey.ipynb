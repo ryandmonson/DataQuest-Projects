{
 "cells": [
  {
   "cell_type": "markdown",
   "metadata": {
    "collapsed": true
   },
   "source": [
    "#### TITLE: Analyze Employee Exit Surveys\n",
    "\n",
    "#### DESCRIPTION: Answer the following questions-\n",
    "\n",
    "1.  Are there differences in dissatisfaction due to  employee years of service?\n",
    "2.  Are there differences in dissatisfaction due to  employee age?\n",
    "\n",
    "\n",
    "\n",
    "\n",
    "\n"
   ]
  },
  {
   "cell_type": "markdown",
   "metadata": {},
   "source": [
    "*STEP 1*: a) import needed libraries, b) read csv files into dataframes"
   ]
  },
  {
   "cell_type": "code",
   "execution_count": 1,
   "metadata": {},
   "outputs": [],
   "source": [
    "import numpy as np\n",
    "import pandas as pd"
   ]
  },
  {
   "cell_type": "code",
   "execution_count": 2,
   "metadata": {
    "scrolled": true
   },
   "outputs": [],
   "source": [
    "tafe_survey = pd.read_csv(r\"c:\\users\\drrdm\\Data Quest Guided Projects\\5th Guided Project- Job Dissatisfaction Surveys\\tafe-employee-exit-survey-access-database-december-2013.csv\", encoding = 'UTF-8')"
   ]
  },
  {
   "cell_type": "code",
   "execution_count": 3,
   "metadata": {},
   "outputs": [],
   "source": [
    "dete_survey = pd.read_csv(r\"c:\\users\\drrdm\\Data Quest Guided Projects\\5th Guided Project- Job Dissatisfaction Surveys\\dete-exit-survey-january-2014.csv\",encoding = 'Latin-1')"
   ]
  },
  {
   "cell_type": "markdown",
   "metadata": {},
   "source": [
    "*STEP 2*: Review summary data and 1st entry lines of dataframes"
   ]
  },
  {
   "cell_type": "code",
   "execution_count": 4,
   "metadata": {
    "scrolled": true
   },
   "outputs": [
    {
     "name": "stdout",
     "output_type": "stream",
     "text": [
      "<class 'pandas.core.frame.DataFrame'>\n",
      "RangeIndex: 822 entries, 0 to 821\n",
      "Data columns (total 56 columns):\n",
      "ID                                     822 non-null int64\n",
      "SeparationType                         822 non-null object\n",
      "Cease Date                             822 non-null object\n",
      "DETE Start Date                        822 non-null object\n",
      "Role Start Date                        822 non-null object\n",
      "Position                               817 non-null object\n",
      "Classification                         455 non-null object\n",
      "Region                                 822 non-null object\n",
      "Business Unit                          126 non-null object\n",
      "Employment Status                      817 non-null object\n",
      "Career move to public sector           822 non-null bool\n",
      "Career move to private sector          822 non-null bool\n",
      "Interpersonal conflicts                822 non-null bool\n",
      "Job dissatisfaction                    822 non-null bool\n",
      "Dissatisfaction with the department    822 non-null bool\n",
      "Physical work environment              822 non-null bool\n",
      "Lack of recognition                    822 non-null bool\n",
      "Lack of job security                   822 non-null bool\n",
      "Work location                          822 non-null bool\n",
      "Employment conditions                  822 non-null bool\n",
      "Maternity/family                       822 non-null bool\n",
      "Relocation                             822 non-null bool\n",
      "Study/Travel                           822 non-null bool\n",
      "Ill Health                             822 non-null bool\n",
      "Traumatic incident                     822 non-null bool\n",
      "Work life balance                      822 non-null bool\n",
      "Workload                               822 non-null bool\n",
      "None of the above                      822 non-null bool\n",
      "Professional Development               808 non-null object\n",
      "Opportunities for promotion            735 non-null object\n",
      "Staff morale                           816 non-null object\n",
      "Workplace issue                        788 non-null object\n",
      "Physical environment                   817 non-null object\n",
      "Worklife balance                       815 non-null object\n",
      "Stress and pressure support            810 non-null object\n",
      "Performance of supervisor              813 non-null object\n",
      "Peer support                           812 non-null object\n",
      "Initiative                             813 non-null object\n",
      "Skills                                 811 non-null object\n",
      "Coach                                  767 non-null object\n",
      "Career Aspirations                     746 non-null object\n",
      "Feedback                               792 non-null object\n",
      "Further PD                             768 non-null object\n",
      "Communication                          814 non-null object\n",
      "My say                                 812 non-null object\n",
      "Information                            816 non-null object\n",
      "Kept informed                          813 non-null object\n",
      "Wellness programs                      766 non-null object\n",
      "Health & Safety                        793 non-null object\n",
      "Gender                                 798 non-null object\n",
      "Age                                    811 non-null object\n",
      "Aboriginal                             16 non-null object\n",
      "Torres Strait                          3 non-null object\n",
      "South Sea                              7 non-null object\n",
      "Disability                             23 non-null object\n",
      "NESB                                   32 non-null object\n",
      "dtypes: bool(18), int64(1), object(37)\n",
      "memory usage: 258.6+ KB\n"
     ]
    }
   ],
   "source": [
    "dete_survey.info()"
   ]
  },
  {
   "cell_type": "code",
   "execution_count": 5,
   "metadata": {},
   "outputs": [
    {
     "data": {
      "text/plain": [
       "False    761\n",
       "True      61\n",
       "Name: Dissatisfaction with the department, dtype: int64"
      ]
     },
     "execution_count": 5,
     "metadata": {},
     "output_type": "execute_result"
    }
   ],
   "source": [
    "dete_survey['Dissatisfaction with the department'].value_counts()"
   ]
  },
  {
   "cell_type": "code",
   "execution_count": 6,
   "metadata": {
    "scrolled": true
   },
   "outputs": [
    {
     "data": {
      "text/plain": [
       "False    733\n",
       "True      89\n",
       "Name: Job dissatisfaction, dtype: int64"
      ]
     },
     "execution_count": 6,
     "metadata": {},
     "output_type": "execute_result"
    }
   ],
   "source": [
    "dete_survey['Job dissatisfaction'].value_counts()"
   ]
  },
  {
   "cell_type": "markdown",
   "metadata": {},
   "source": [
    "<font color=red>OBSERVATIONS</font> \n",
    "\n",
    "\n",
    "- 822 rows, 56 columns\n",
    "- A number of columns have missing values.\n",
    "- All columns are objects (no numeric)\n",
    "- To answer questions, `Role Start` and `Cessation` dates for employment provided\n",
    "- To answer questions, `Age` provided\n",
    "- To answer questions, `Job dissatisfaction` and `dissatisfaction with department` provided. No missing data in these columns, boolean data.\n",
    "\n"
   ]
  },
  {
   "cell_type": "code",
   "execution_count": 7,
   "metadata": {
    "scrolled": false
   },
   "outputs": [
    {
     "data": {
      "text/html": [
       "<div>\n",
       "<style scoped>\n",
       "    .dataframe tbody tr th:only-of-type {\n",
       "        vertical-align: middle;\n",
       "    }\n",
       "\n",
       "    .dataframe tbody tr th {\n",
       "        vertical-align: top;\n",
       "    }\n",
       "\n",
       "    .dataframe thead th {\n",
       "        text-align: right;\n",
       "    }\n",
       "</style>\n",
       "<table border=\"1\" class=\"dataframe\">\n",
       "  <thead>\n",
       "    <tr style=\"text-align: right;\">\n",
       "      <th></th>\n",
       "      <th>ID</th>\n",
       "      <th>SeparationType</th>\n",
       "      <th>Cease Date</th>\n",
       "      <th>DETE Start Date</th>\n",
       "      <th>Role Start Date</th>\n",
       "      <th>Position</th>\n",
       "      <th>Classification</th>\n",
       "      <th>Region</th>\n",
       "      <th>Business Unit</th>\n",
       "      <th>Employment Status</th>\n",
       "      <th>...</th>\n",
       "      <th>Kept informed</th>\n",
       "      <th>Wellness programs</th>\n",
       "      <th>Health &amp; Safety</th>\n",
       "      <th>Gender</th>\n",
       "      <th>Age</th>\n",
       "      <th>Aboriginal</th>\n",
       "      <th>Torres Strait</th>\n",
       "      <th>South Sea</th>\n",
       "      <th>Disability</th>\n",
       "      <th>NESB</th>\n",
       "    </tr>\n",
       "  </thead>\n",
       "  <tbody>\n",
       "    <tr>\n",
       "      <th>0</th>\n",
       "      <td>1</td>\n",
       "      <td>Ill Health Retirement</td>\n",
       "      <td>08/2012</td>\n",
       "      <td>1984</td>\n",
       "      <td>2004</td>\n",
       "      <td>Public Servant</td>\n",
       "      <td>A01-A04</td>\n",
       "      <td>Central Office</td>\n",
       "      <td>Corporate Strategy and Peformance</td>\n",
       "      <td>Permanent Full-time</td>\n",
       "      <td>...</td>\n",
       "      <td>N</td>\n",
       "      <td>N</td>\n",
       "      <td>N</td>\n",
       "      <td>Male</td>\n",
       "      <td>56-60</td>\n",
       "      <td>NaN</td>\n",
       "      <td>NaN</td>\n",
       "      <td>NaN</td>\n",
       "      <td>NaN</td>\n",
       "      <td>Yes</td>\n",
       "    </tr>\n",
       "  </tbody>\n",
       "</table>\n",
       "<p>1 rows × 56 columns</p>\n",
       "</div>"
      ],
      "text/plain": [
       "   ID         SeparationType Cease Date DETE Start Date Role Start Date  \\\n",
       "0   1  Ill Health Retirement    08/2012            1984            2004   \n",
       "\n",
       "         Position Classification          Region  \\\n",
       "0  Public Servant        A01-A04  Central Office   \n",
       "\n",
       "                       Business Unit    Employment Status  ...  Kept informed  \\\n",
       "0  Corporate Strategy and Peformance  Permanent Full-time  ...              N   \n",
       "\n",
       "   Wellness programs  Health & Safety  Gender    Age  Aboriginal  \\\n",
       "0                  N                N    Male  56-60         NaN   \n",
       "\n",
       "   Torres Strait  South Sea  Disability  NESB  \n",
       "0            NaN        NaN         NaN   Yes  \n",
       "\n",
       "[1 rows x 56 columns]"
      ]
     },
     "execution_count": 7,
     "metadata": {},
     "output_type": "execute_result"
    }
   ],
   "source": [
    "dete_survey.head(1)"
   ]
  },
  {
   "cell_type": "code",
   "execution_count": 8,
   "metadata": {
    "scrolled": true
   },
   "outputs": [
    {
     "name": "stdout",
     "output_type": "stream",
     "text": [
      "<class 'pandas.core.frame.DataFrame'>\n",
      "RangeIndex: 702 entries, 0 to 701\n",
      "Data columns (total 72 columns):\n",
      "Record ID                                                                                                                                                        702 non-null int64\n",
      "Institute                                                                                                                                                        702 non-null object\n",
      "WorkArea                                                                                                                                                         702 non-null object\n",
      "CESSATION YEAR                                                                                                                                                   695 non-null float64\n",
      "Reason for ceasing employment                                                                                                                                    701 non-null object\n",
      "Contributing Factors. Career Move - Public Sector                                                                                                                437 non-null object\n",
      "Contributing Factors. Career Move - Private Sector                                                                                                               437 non-null object\n",
      "Contributing Factors. Career Move - Self-employment                                                                                                              437 non-null object\n",
      "Contributing Factors. Ill Health                                                                                                                                 437 non-null object\n",
      "Contributing Factors. Maternity/Family                                                                                                                           437 non-null object\n",
      "Contributing Factors. Dissatisfaction                                                                                                                            437 non-null object\n",
      "Contributing Factors. Job Dissatisfaction                                                                                                                        437 non-null object\n",
      "Contributing Factors. Interpersonal Conflict                                                                                                                     437 non-null object\n",
      "Contributing Factors. Study                                                                                                                                      437 non-null object\n",
      "Contributing Factors. Travel                                                                                                                                     437 non-null object\n",
      "Contributing Factors. Other                                                                                                                                      437 non-null object\n",
      "Contributing Factors. NONE                                                                                                                                       437 non-null object\n",
      "Main Factor. ����Which of these was the main factor for leaving?                                                                                                 113 non-null object\n",
      "InstituteViews. Topic:1. I feel the senior leadership had a clear vision and direction                                                                           608 non-null object\n",
      "InstituteViews. Topic:2. I was given access to skills training to help me do my job better                                                                       613 non-null object\n",
      "InstituteViews. Topic:3. I was given adequate opportunities for personal development                                                                             610 non-null object\n",
      "InstituteViews. Topic:4. I was given adequate opportunities for promotion within %Institute]Q25LBL%                                                              608 non-null object\n",
      "InstituteViews. Topic:5. I felt the salary for the job was right for the responsibilities I had                                                                  615 non-null object\n",
      "InstituteViews. Topic:6. The organisation recognised when staff did good work                                                                                    607 non-null object\n",
      "InstituteViews. Topic:7. Management was generally supportive of me                                                                                               614 non-null object\n",
      "InstituteViews. Topic:8. Management was generally supportive of my team                                                                                          608 non-null object\n",
      "InstituteViews. Topic:9. I was kept informed of the changes in the organisation which would affect me                                                            610 non-null object\n",
      "InstituteViews. Topic:10. Staff morale was positive within the Institute                                                                                         602 non-null object\n",
      "InstituteViews. Topic:11. If I had a workplace issue it was dealt with quickly                                                                                   601 non-null object\n",
      "InstituteViews. Topic:12. If I had a workplace issue it was dealt with efficiently                                                                               597 non-null object\n",
      "InstituteViews. Topic:13. If I had a workplace issue it was dealt with discreetly                                                                                601 non-null object\n",
      "WorkUnitViews. Topic:14. I was satisfied with the quality of the management and supervision within my work unit                                                  609 non-null object\n",
      "WorkUnitViews. Topic:15. I worked well with my colleagues                                                                                                        605 non-null object\n",
      "WorkUnitViews. Topic:16. My job was challenging and interesting                                                                                                  607 non-null object\n",
      "WorkUnitViews. Topic:17. I was encouraged to use my initiative in the course of my work                                                                          610 non-null object\n",
      "WorkUnitViews. Topic:18. I had sufficient contact with other people in my job                                                                                    613 non-null object\n",
      "WorkUnitViews. Topic:19. I was given adequate support and co-operation by my peers to enable me to do my job                                                     609 non-null object\n",
      "WorkUnitViews. Topic:20. I was able to use the full range of my skills in my job                                                                                 609 non-null object\n",
      "WorkUnitViews. Topic:21. I was able to use the full range of my abilities in my job. ; Category:Level of Agreement; Question:YOUR VIEWS ABOUT YOUR WORK UNIT]    608 non-null object\n",
      "WorkUnitViews. Topic:22. I was able to use the full range of my knowledge in my job                                                                              608 non-null object\n",
      "WorkUnitViews. Topic:23. My job provided sufficient variety                                                                                                      611 non-null object\n",
      "WorkUnitViews. Topic:24. I was able to cope with the level of stress and pressure in my job                                                                      610 non-null object\n",
      "WorkUnitViews. Topic:25. My job allowed me to balance the demands of work and family to my satisfaction                                                          611 non-null object\n",
      "WorkUnitViews. Topic:26. My supervisor gave me adequate personal recognition and feedback on my performance                                                      606 non-null object\n",
      "WorkUnitViews. Topic:27. My working environment was satisfactory e.g. sufficient space, good lighting, suitable seating and working area                         610 non-null object\n",
      "WorkUnitViews. Topic:28. I was given the opportunity to mentor and coach others in order for me to pass on my skills and knowledge prior to my cessation date    609 non-null object\n",
      "WorkUnitViews. Topic:29. There was adequate communication between staff in my unit                                                                               603 non-null object\n",
      "WorkUnitViews. Topic:30. Staff morale was positive within my work unit                                                                                           606 non-null object\n",
      "Induction. Did you undertake Workplace Induction?                                                                                                                619 non-null object\n",
      "InductionInfo. Topic:Did you undertake a Corporate Induction?                                                                                                    432 non-null object\n",
      "InductionInfo. Topic:Did you undertake a Institute Induction?                                                                                                    483 non-null object\n",
      "InductionInfo. Topic: Did you undertake Team Induction?                                                                                                          440 non-null object\n",
      "InductionInfo. Face to Face Topic:Did you undertake a Corporate Induction; Category:How it was conducted?                                                        555 non-null object\n",
      "InductionInfo. On-line Topic:Did you undertake a Corporate Induction; Category:How it was conducted?                                                             555 non-null object\n",
      "InductionInfo. Induction Manual Topic:Did you undertake a Corporate Induction?                                                                                   555 non-null object\n",
      "InductionInfo. Face to Face Topic:Did you undertake a Institute Induction?                                                                                       530 non-null object\n",
      "InductionInfo. On-line Topic:Did you undertake a Institute Induction?                                                                                            555 non-null object\n",
      "InductionInfo. Induction Manual Topic:Did you undertake a Institute Induction?                                                                                   553 non-null object\n",
      "InductionInfo. Face to Face Topic: Did you undertake Team Induction; Category?                                                                                   555 non-null object\n",
      "InductionInfo. On-line Topic: Did you undertake Team Induction?process you undertook and how it was conducted.]                                                  555 non-null float64\n",
      "InductionInfo. Induction Manual Topic: Did you undertake Team Induction?                                                                                         555 non-null object\n",
      "Workplace. Topic:Did you and your Manager develop a Performance and Professional Development Plan (PPDP)?                                                        608 non-null object\n",
      "Workplace. Topic:Does your workplace promote a work culture free from all forms of unlawful discrimination?                                                      594 non-null object\n",
      "Workplace. Topic:Does your workplace promote and practice the principles of employment equity?                                                                   587 non-null object\n",
      "Workplace. Topic:Does your workplace value the diversity of its employees?                                                                                       586 non-null object\n",
      "Workplace. Topic:Would you recommend the Institute as an employer to others?                                                                                     581 non-null object\n",
      "Gender.What is your Gender?                                                                                                                                      596 non-null object\n",
      "CurrentAge.Current Age                                                                                                                                           596 non-null object\n",
      "Employment Type.Employment Type                                                                                                                                  596 non-null object\n",
      "Classification.Classification                                                                                                                                    596 non-null object\n",
      "LengthofServiceOverall. Overall Length of Service at Institute (in years)                                                                                        596 non-null object\n",
      "LengthofServiceCurrent. Length of Service at current workplace (in years)                                                                                        596 non-null object\n",
      "dtypes: float64(2), int64(1), object(69)\n",
      "memory usage: 395.0+ KB\n"
     ]
    }
   ],
   "source": [
    "tafe_survey.info()"
   ]
  },
  {
   "cell_type": "code",
   "execution_count": 9,
   "metadata": {},
   "outputs": [
    {
     "data": {
      "text/plain": [
       "-0                     360\n",
       "Job Dissatisfaction     77\n",
       "Name: Contributing Factors. Job Dissatisfaction, dtype: int64"
      ]
     },
     "execution_count": 9,
     "metadata": {},
     "output_type": "execute_result"
    }
   ],
   "source": [
    "(tafe_survey['Contributing Factors. Job Dissatisfaction']\n",
    "     .value_counts()\n",
    ")"
   ]
  },
  {
   "cell_type": "markdown",
   "metadata": {},
   "source": [
    "<font color=red>OBSERVATIONS</font> \n",
    "\n",
    "\n",
    "- 701 rows, 72 columns\n",
    "- A number of columns have missing values.\n",
    "- All columns but 1 are objects\n",
    "- To answer questions, gives `Length of Service` at workplace and \"institute\".\n",
    "- To answer questions, `Age` provided\n",
    "- To answer questions, column indicating `Contributing Factors. Job Dissatisfaction` and `Contributing Factors. Dissatisfaction` provided.  Not boolean, value missing if Dissatisfaction not a contributing factor."
   ]
  },
  {
   "cell_type": "code",
   "execution_count": 10,
   "metadata": {
    "scrolled": true
   },
   "outputs": [
    {
     "data": {
      "text/html": [
       "<div>\n",
       "<style scoped>\n",
       "    .dataframe tbody tr th:only-of-type {\n",
       "        vertical-align: middle;\n",
       "    }\n",
       "\n",
       "    .dataframe tbody tr th {\n",
       "        vertical-align: top;\n",
       "    }\n",
       "\n",
       "    .dataframe thead th {\n",
       "        text-align: right;\n",
       "    }\n",
       "</style>\n",
       "<table border=\"1\" class=\"dataframe\">\n",
       "  <thead>\n",
       "    <tr style=\"text-align: right;\">\n",
       "      <th></th>\n",
       "      <th>Record ID</th>\n",
       "      <th>Institute</th>\n",
       "      <th>WorkArea</th>\n",
       "      <th>CESSATION YEAR</th>\n",
       "      <th>Reason for ceasing employment</th>\n",
       "      <th>Contributing Factors. Career Move - Public Sector</th>\n",
       "      <th>Contributing Factors. Career Move - Private Sector</th>\n",
       "      <th>Contributing Factors. Career Move - Self-employment</th>\n",
       "      <th>Contributing Factors. Ill Health</th>\n",
       "      <th>Contributing Factors. Maternity/Family</th>\n",
       "      <th>...</th>\n",
       "      <th>Workplace. Topic:Does your workplace promote a work culture free from all forms of unlawful discrimination?</th>\n",
       "      <th>Workplace. Topic:Does your workplace promote and practice the principles of employment equity?</th>\n",
       "      <th>Workplace. Topic:Does your workplace value the diversity of its employees?</th>\n",
       "      <th>Workplace. Topic:Would you recommend the Institute as an employer to others?</th>\n",
       "      <th>Gender.What is your Gender?</th>\n",
       "      <th>CurrentAge.Current Age</th>\n",
       "      <th>Employment Type.Employment Type</th>\n",
       "      <th>Classification.Classification</th>\n",
       "      <th>LengthofServiceOverall. Overall Length of Service at Institute (in years)</th>\n",
       "      <th>LengthofServiceCurrent. Length of Service at current workplace (in years)</th>\n",
       "    </tr>\n",
       "  </thead>\n",
       "  <tbody>\n",
       "    <tr>\n",
       "      <th>0</th>\n",
       "      <td>634133009996094000</td>\n",
       "      <td>Southern Queensland Institute of TAFE</td>\n",
       "      <td>Non-Delivery (corporate)</td>\n",
       "      <td>2010.0</td>\n",
       "      <td>Contract Expired</td>\n",
       "      <td>NaN</td>\n",
       "      <td>NaN</td>\n",
       "      <td>NaN</td>\n",
       "      <td>NaN</td>\n",
       "      <td>NaN</td>\n",
       "      <td>...</td>\n",
       "      <td>Yes</td>\n",
       "      <td>Yes</td>\n",
       "      <td>Yes</td>\n",
       "      <td>Yes</td>\n",
       "      <td>Female</td>\n",
       "      <td>26 � 30</td>\n",
       "      <td>Temporary Full-time</td>\n",
       "      <td>Administration (AO)</td>\n",
       "      <td>1-2</td>\n",
       "      <td>1-2</td>\n",
       "    </tr>\n",
       "    <tr>\n",
       "      <th>1</th>\n",
       "      <td>634133654064531000</td>\n",
       "      <td>Mount Isa Institute of TAFE</td>\n",
       "      <td>Non-Delivery (corporate)</td>\n",
       "      <td>2010.0</td>\n",
       "      <td>Retirement</td>\n",
       "      <td>-0</td>\n",
       "      <td>-0</td>\n",
       "      <td>-0</td>\n",
       "      <td>-0</td>\n",
       "      <td>-0</td>\n",
       "      <td>...</td>\n",
       "      <td>Yes</td>\n",
       "      <td>Yes</td>\n",
       "      <td>Yes</td>\n",
       "      <td>Yes</td>\n",
       "      <td>NaN</td>\n",
       "      <td>NaN</td>\n",
       "      <td>NaN</td>\n",
       "      <td>NaN</td>\n",
       "      <td>NaN</td>\n",
       "      <td>NaN</td>\n",
       "    </tr>\n",
       "  </tbody>\n",
       "</table>\n",
       "<p>2 rows × 72 columns</p>\n",
       "</div>"
      ],
      "text/plain": [
       "            Record ID                              Institute  \\\n",
       "0  634133009996094000  Southern Queensland Institute of TAFE   \n",
       "1  634133654064531000            Mount Isa Institute of TAFE   \n",
       "\n",
       "                   WorkArea  CESSATION YEAR Reason for ceasing employment  \\\n",
       "0  Non-Delivery (corporate)          2010.0              Contract Expired   \n",
       "1  Non-Delivery (corporate)          2010.0                    Retirement   \n",
       "\n",
       "  Contributing Factors. Career Move - Public Sector   \\\n",
       "0                                                NaN   \n",
       "1                                                 -0   \n",
       "\n",
       "  Contributing Factors. Career Move - Private Sector   \\\n",
       "0                                                NaN    \n",
       "1                                                 -0    \n",
       "\n",
       "  Contributing Factors. Career Move - Self-employment  \\\n",
       "0                                                NaN    \n",
       "1                                                 -0    \n",
       "\n",
       "  Contributing Factors. Ill Health Contributing Factors. Maternity/Family  \\\n",
       "0                              NaN                                    NaN   \n",
       "1                               -0                                     -0   \n",
       "\n",
       "   ...  \\\n",
       "0  ...   \n",
       "1  ...   \n",
       "\n",
       "  Workplace. Topic:Does your workplace promote a work culture free from all forms of unlawful discrimination?  \\\n",
       "0                                                Yes                                                            \n",
       "1                                                Yes                                                            \n",
       "\n",
       "  Workplace. Topic:Does your workplace promote and practice the principles of employment equity?  \\\n",
       "0                                                Yes                                               \n",
       "1                                                Yes                                               \n",
       "\n",
       "  Workplace. Topic:Does your workplace value the diversity of its employees?  \\\n",
       "0                                                Yes                           \n",
       "1                                                Yes                           \n",
       "\n",
       "  Workplace. Topic:Would you recommend the Institute as an employer to others?  \\\n",
       "0                                                Yes                             \n",
       "1                                                Yes                             \n",
       "\n",
       "  Gender.What is your Gender? CurrentAge.Current Age  \\\n",
       "0                      Female                26 � 30   \n",
       "1                         NaN                    NaN   \n",
       "\n",
       "  Employment Type.Employment Type Classification.Classification  \\\n",
       "0             Temporary Full-time           Administration (AO)   \n",
       "1                             NaN                           NaN   \n",
       "\n",
       "  LengthofServiceOverall. Overall Length of Service at Institute (in years)  \\\n",
       "0                                                1-2                          \n",
       "1                                                NaN                          \n",
       "\n",
       "  LengthofServiceCurrent. Length of Service at current workplace (in years)  \n",
       "0                                                1-2                         \n",
       "1                                                NaN                         \n",
       "\n",
       "[2 rows x 72 columns]"
      ]
     },
     "execution_count": 10,
     "metadata": {},
     "output_type": "execute_result"
    }
   ],
   "source": [
    "tafe_survey.head(2)"
   ]
  },
  {
   "cell_type": "markdown",
   "metadata": {},
   "source": [
    "*Step 3*- Develop Overall Strategy:\n",
    "\n",
    "Based on the questions and what's in the dataframes, I will do the following:\n",
    "\n",
    "- Remove all columns except those identified in <font color=red>OBSERVATIONS</font>.  \n",
    "\n",
    "\n",
    "- Make a new column indicating the survey name and populate with the name.\n",
    "\n",
    "\n",
    "- Make a new column in each survey df where any `True` row(index) in either dissatisfaction column registers as `True`. Name the new column `Combined_Dissatisfaction`.\n",
    "\n",
    "\n",
    "- For the `dete_survey` df , convert the date to numeric (reference the DateTime module from a while back). Use the start and terminates dates and arithmetic to create a new column `length of service` (in years).\n",
    "\n",
    "\n",
    "- Convert the tafe_survey `Length of Service` to numeric.\n",
    "\n",
    "\n",
    "- Change column names so that `Age` and `Length of Service` have the same name (so they make a single column at merge).\n",
    "\n",
    "\n",
    "- Merge the two surveys.\n",
    "\n",
    "\n",
    "- Convert the `Age` column to numeric.\n",
    "\n",
    "\n",
    "- Make a Histogram plot of `Age`, `Length of Service`.\n",
    "\n",
    "\n",
    "- Based on Histogram, divide survey into \"older/younger\" and \"long/short\" term of service.\n",
    "\n",
    "\n",
    "- Make a Bar plot with basic statistics to see if `Combined_Dissatisfaction` differences exist older/younger and long/short. \n",
    "\n",
    "\n",
    "- NOTE:  This is the initial strategy.  While workng through these steps additional steps were need which I added to a Google doc version of this strategy.\n",
    "\n"
   ]
  },
  {
   "cell_type": "code",
   "execution_count": 11,
   "metadata": {},
   "outputs": [
    {
     "data": {
      "text/html": [
       "<div>\n",
       "<style scoped>\n",
       "    .dataframe tbody tr th:only-of-type {\n",
       "        vertical-align: middle;\n",
       "    }\n",
       "\n",
       "    .dataframe tbody tr th {\n",
       "        vertical-align: top;\n",
       "    }\n",
       "\n",
       "    .dataframe thead th {\n",
       "        text-align: right;\n",
       "    }\n",
       "</style>\n",
       "<table border=\"1\" class=\"dataframe\">\n",
       "  <thead>\n",
       "    <tr style=\"text-align: right;\">\n",
       "      <th></th>\n",
       "      <th>Cease Date</th>\n",
       "      <th>Role Start Date</th>\n",
       "      <th>Job dissatisfaction</th>\n",
       "      <th>Dissatisfaction with the department</th>\n",
       "      <th>Age</th>\n",
       "    </tr>\n",
       "  </thead>\n",
       "  <tbody>\n",
       "    <tr>\n",
       "      <th>0</th>\n",
       "      <td>08/2012</td>\n",
       "      <td>2004</td>\n",
       "      <td>True</td>\n",
       "      <td>False</td>\n",
       "      <td>56-60</td>\n",
       "    </tr>\n",
       "    <tr>\n",
       "      <th>1</th>\n",
       "      <td>08/2012</td>\n",
       "      <td>Not Stated</td>\n",
       "      <td>False</td>\n",
       "      <td>False</td>\n",
       "      <td>56-60</td>\n",
       "    </tr>\n",
       "    <tr>\n",
       "      <th>2</th>\n",
       "      <td>05/2012</td>\n",
       "      <td>2011</td>\n",
       "      <td>False</td>\n",
       "      <td>False</td>\n",
       "      <td>61 or older</td>\n",
       "    </tr>\n",
       "    <tr>\n",
       "      <th>3</th>\n",
       "      <td>05/2012</td>\n",
       "      <td>2006</td>\n",
       "      <td>False</td>\n",
       "      <td>False</td>\n",
       "      <td>36-40</td>\n",
       "    </tr>\n",
       "    <tr>\n",
       "      <th>4</th>\n",
       "      <td>05/2012</td>\n",
       "      <td>1989</td>\n",
       "      <td>False</td>\n",
       "      <td>False</td>\n",
       "      <td>61 or older</td>\n",
       "    </tr>\n",
       "  </tbody>\n",
       "</table>\n",
       "</div>"
      ],
      "text/plain": [
       "  Cease Date Role Start Date  Job dissatisfaction  \\\n",
       "0    08/2012            2004                 True   \n",
       "1    08/2012      Not Stated                False   \n",
       "2    05/2012            2011                False   \n",
       "3    05/2012            2006                False   \n",
       "4    05/2012            1989                False   \n",
       "\n",
       "   Dissatisfaction with the department          Age  \n",
       "0                                False        56-60  \n",
       "1                                False        56-60  \n",
       "2                                False  61 or older  \n",
       "3                                False        36-40  \n",
       "4                                False  61 or older  "
      ]
     },
     "execution_count": 11,
     "metadata": {},
     "output_type": "execute_result"
    }
   ],
   "source": [
    "#obtain needed columns for dete\n",
    "dete_need_cols = dete_survey[['Cease Date', \n",
    "                             'Role Start Date',\n",
    "                            'Job dissatisfaction',\n",
    "                            'Dissatisfaction with the department',\n",
    "                            'Age'\n",
    "                            ]].copy()\n",
    "#check\n",
    "dete_need_cols.head()"
   ]
  },
  {
   "cell_type": "code",
   "execution_count": 12,
   "metadata": {},
   "outputs": [
    {
     "data": {
      "text/html": [
       "<div>\n",
       "<style scoped>\n",
       "    .dataframe tbody tr th:only-of-type {\n",
       "        vertical-align: middle;\n",
       "    }\n",
       "\n",
       "    .dataframe tbody tr th {\n",
       "        vertical-align: top;\n",
       "    }\n",
       "\n",
       "    .dataframe thead th {\n",
       "        text-align: right;\n",
       "    }\n",
       "</style>\n",
       "<table border=\"1\" class=\"dataframe\">\n",
       "  <thead>\n",
       "    <tr style=\"text-align: right;\">\n",
       "      <th></th>\n",
       "      <th>Contributing Factors. Dissatisfaction</th>\n",
       "      <th>Contributing Factors. Job Dissatisfaction</th>\n",
       "      <th>CurrentAge.Current Age</th>\n",
       "      <th>LengthofServiceOverall. Overall Length of Service at Institute (in years)</th>\n",
       "      <th>LengthofServiceCurrent. Length of Service at current workplace (in years)</th>\n",
       "    </tr>\n",
       "  </thead>\n",
       "  <tbody>\n",
       "    <tr>\n",
       "      <th>0</th>\n",
       "      <td>NaN</td>\n",
       "      <td>NaN</td>\n",
       "      <td>26 � 30</td>\n",
       "      <td>1-2</td>\n",
       "      <td>1-2</td>\n",
       "    </tr>\n",
       "    <tr>\n",
       "      <th>1</th>\n",
       "      <td>-0</td>\n",
       "      <td>-0</td>\n",
       "      <td>NaN</td>\n",
       "      <td>NaN</td>\n",
       "      <td>NaN</td>\n",
       "    </tr>\n",
       "    <tr>\n",
       "      <th>2</th>\n",
       "      <td>-0</td>\n",
       "      <td>-0</td>\n",
       "      <td>NaN</td>\n",
       "      <td>NaN</td>\n",
       "      <td>NaN</td>\n",
       "    </tr>\n",
       "    <tr>\n",
       "      <th>3</th>\n",
       "      <td>-0</td>\n",
       "      <td>-0</td>\n",
       "      <td>NaN</td>\n",
       "      <td>NaN</td>\n",
       "      <td>NaN</td>\n",
       "    </tr>\n",
       "    <tr>\n",
       "      <th>4</th>\n",
       "      <td>-0</td>\n",
       "      <td>-0</td>\n",
       "      <td>41 � 45</td>\n",
       "      <td>3-4</td>\n",
       "      <td>3-4</td>\n",
       "    </tr>\n",
       "  </tbody>\n",
       "</table>\n",
       "</div>"
      ],
      "text/plain": [
       "  Contributing Factors. Dissatisfaction  \\\n",
       "0                                   NaN   \n",
       "1                                    -0   \n",
       "2                                    -0   \n",
       "3                                    -0   \n",
       "4                                    -0   \n",
       "\n",
       "  Contributing Factors. Job Dissatisfaction CurrentAge.Current Age  \\\n",
       "0                                       NaN                26 � 30   \n",
       "1                                        -0                    NaN   \n",
       "2                                        -0                    NaN   \n",
       "3                                        -0                    NaN   \n",
       "4                                        -0                41 � 45   \n",
       "\n",
       "  LengthofServiceOverall. Overall Length of Service at Institute (in years)  \\\n",
       "0                                                1-2                          \n",
       "1                                                NaN                          \n",
       "2                                                NaN                          \n",
       "3                                                NaN                          \n",
       "4                                                3-4                          \n",
       "\n",
       "  LengthofServiceCurrent. Length of Service at current workplace (in years)  \n",
       "0                                                1-2                         \n",
       "1                                                NaN                         \n",
       "2                                                NaN                         \n",
       "3                                                NaN                         \n",
       "4                                                3-4                         "
      ]
     },
     "execution_count": 12,
     "metadata": {},
     "output_type": "execute_result"
    }
   ],
   "source": [
    "#obtain needed columns for tafe\n",
    "tafe_need_cols = tafe_survey[\n",
    "    ['Contributing Factors. Dissatisfaction',\n",
    "     'Contributing Factors. Job Dissatisfaction', 'CurrentAge.Current Age',\n",
    "    'LengthofServiceOverall. Overall Length of Service at Institute (in years)',\n",
    "    'LengthofServiceCurrent. Length of Service at current workplace (in years)'\n",
    "    ]].copy()\n",
    "\n",
    "#check\n",
    "tafe_need_cols.head()"
   ]
  },
  {
   "cell_type": "code",
   "execution_count": 13,
   "metadata": {},
   "outputs": [
    {
     "data": {
      "text/html": [
       "<div>\n",
       "<style scoped>\n",
       "    .dataframe tbody tr th:only-of-type {\n",
       "        vertical-align: middle;\n",
       "    }\n",
       "\n",
       "    .dataframe tbody tr th {\n",
       "        vertical-align: top;\n",
       "    }\n",
       "\n",
       "    .dataframe thead th {\n",
       "        text-align: right;\n",
       "    }\n",
       "</style>\n",
       "<table border=\"1\" class=\"dataframe\">\n",
       "  <thead>\n",
       "    <tr style=\"text-align: right;\">\n",
       "      <th></th>\n",
       "      <th>Dissatisfaction</th>\n",
       "      <th>Job_Dissatisfaction</th>\n",
       "      <th>Age</th>\n",
       "      <th>Institute_Service_Length</th>\n",
       "      <th>Workplace_Service_Length</th>\n",
       "    </tr>\n",
       "  </thead>\n",
       "  <tbody>\n",
       "    <tr>\n",
       "      <th>0</th>\n",
       "      <td>NaN</td>\n",
       "      <td>NaN</td>\n",
       "      <td>26 � 30</td>\n",
       "      <td>1-2</td>\n",
       "      <td>1-2</td>\n",
       "    </tr>\n",
       "    <tr>\n",
       "      <th>1</th>\n",
       "      <td>-0</td>\n",
       "      <td>-0</td>\n",
       "      <td>NaN</td>\n",
       "      <td>NaN</td>\n",
       "      <td>NaN</td>\n",
       "    </tr>\n",
       "  </tbody>\n",
       "</table>\n",
       "</div>"
      ],
      "text/plain": [
       "  Dissatisfaction Job_Dissatisfaction      Age Institute_Service_Length  \\\n",
       "0             NaN                 NaN  26 � 30                      1-2   \n",
       "1              -0                  -0      NaN                      NaN   \n",
       "\n",
       "  Workplace_Service_Length  \n",
       "0                      1-2  \n",
       "1                      NaN  "
      ]
     },
     "execution_count": 13,
     "metadata": {},
     "output_type": "execute_result"
    }
   ],
   "source": [
    "#Change tafe survey long column names\n",
    "\n",
    "(tafe_need_cols.rename(columns = {'Contributing Factors. Dissatisfaction': 'Dissatisfaction',\n",
    "     'Contributing Factors. Job Dissatisfaction': 'Job_Dissatisfaction',\n",
    "    'CurrentAge.Current Age':'Age',\n",
    "    'LengthofServiceOverall. Overall Length of Service at Institute (in years)': 'Institute_Service_Length',\n",
    "    'LengthofServiceCurrent. Length of Service at current workplace (in years)': 'Workplace_Service_Length'},\n",
    "inplace = True)\n",
    ")\n",
    "\n",
    "#check\n",
    "tafe_need_cols.head(2)"
   ]
  },
  {
   "cell_type": "code",
   "execution_count": 14,
   "metadata": {},
   "outputs": [
    {
     "data": {
      "text/html": [
       "<div>\n",
       "<style scoped>\n",
       "    .dataframe tbody tr th:only-of-type {\n",
       "        vertical-align: middle;\n",
       "    }\n",
       "\n",
       "    .dataframe tbody tr th {\n",
       "        vertical-align: top;\n",
       "    }\n",
       "\n",
       "    .dataframe thead th {\n",
       "        text-align: right;\n",
       "    }\n",
       "</style>\n",
       "<table border=\"1\" class=\"dataframe\">\n",
       "  <thead>\n",
       "    <tr style=\"text-align: right;\">\n",
       "      <th></th>\n",
       "      <th>Cease_Date</th>\n",
       "      <th>Role_Start_Date</th>\n",
       "      <th>Job_Dissatisfaction</th>\n",
       "      <th>Dept_Dissatisfaction</th>\n",
       "      <th>Age</th>\n",
       "    </tr>\n",
       "  </thead>\n",
       "  <tbody>\n",
       "    <tr>\n",
       "      <th>0</th>\n",
       "      <td>08/2012</td>\n",
       "      <td>2004</td>\n",
       "      <td>True</td>\n",
       "      <td>False</td>\n",
       "      <td>56-60</td>\n",
       "    </tr>\n",
       "    <tr>\n",
       "      <th>1</th>\n",
       "      <td>08/2012</td>\n",
       "      <td>Not Stated</td>\n",
       "      <td>False</td>\n",
       "      <td>False</td>\n",
       "      <td>56-60</td>\n",
       "    </tr>\n",
       "    <tr>\n",
       "      <th>2</th>\n",
       "      <td>05/2012</td>\n",
       "      <td>2011</td>\n",
       "      <td>False</td>\n",
       "      <td>False</td>\n",
       "      <td>61 or older</td>\n",
       "    </tr>\n",
       "    <tr>\n",
       "      <th>3</th>\n",
       "      <td>05/2012</td>\n",
       "      <td>2006</td>\n",
       "      <td>False</td>\n",
       "      <td>False</td>\n",
       "      <td>36-40</td>\n",
       "    </tr>\n",
       "    <tr>\n",
       "      <th>4</th>\n",
       "      <td>05/2012</td>\n",
       "      <td>1989</td>\n",
       "      <td>False</td>\n",
       "      <td>False</td>\n",
       "      <td>61 or older</td>\n",
       "    </tr>\n",
       "  </tbody>\n",
       "</table>\n",
       "</div>"
      ],
      "text/plain": [
       "  Cease_Date Role_Start_Date  Job_Dissatisfaction  Dept_Dissatisfaction  \\\n",
       "0    08/2012            2004                 True                 False   \n",
       "1    08/2012      Not Stated                False                 False   \n",
       "2    05/2012            2011                False                 False   \n",
       "3    05/2012            2006                False                 False   \n",
       "4    05/2012            1989                False                 False   \n",
       "\n",
       "           Age  \n",
       "0        56-60  \n",
       "1        56-60  \n",
       "2  61 or older  \n",
       "3        36-40  \n",
       "4  61 or older  "
      ]
     },
     "execution_count": 14,
     "metadata": {},
     "output_type": "execute_result"
    }
   ],
   "source": [
    "#Change dete survey long column name\n",
    "(dete_need_cols.rename(columns = {'Dissatisfaction with the department':\n",
    "                                  'Dept_Dissatisfaction', 'Cease Date': 'Cease_Date',\n",
    "                                  'Role Start Date': 'Role_Start_Date',\n",
    "                                  'Job dissatisfaction': 'Job_Dissatisfaction'}, inplace = True )\n",
    ")\n",
    "\n",
    "#check\n",
    "dete_need_cols.head()"
   ]
  },
  {
   "cell_type": "code",
   "execution_count": 15,
   "metadata": {},
   "outputs": [
    {
     "data": {
      "text/plain": [
       "array(['56-60', '61 or older', '36-40', '41-45', '31-35', '46-50',\n",
       "       '51-55', '21-25', '26-30', nan, '20 or younger'], dtype=object)"
      ]
     },
     "execution_count": 15,
     "metadata": {},
     "output_type": "execute_result"
    }
   ],
   "source": [
    "#dete Age column to numeric (mid point of range)\n",
    "dete_need_cols['Age'].unique()"
   ]
  },
  {
   "cell_type": "code",
   "execution_count": 16,
   "metadata": {},
   "outputs": [
    {
     "data": {
      "text/html": [
       "<div>\n",
       "<style scoped>\n",
       "    .dataframe tbody tr th:only-of-type {\n",
       "        vertical-align: middle;\n",
       "    }\n",
       "\n",
       "    .dataframe tbody tr th {\n",
       "        vertical-align: top;\n",
       "    }\n",
       "\n",
       "    .dataframe thead th {\n",
       "        text-align: right;\n",
       "    }\n",
       "</style>\n",
       "<table border=\"1\" class=\"dataframe\">\n",
       "  <thead>\n",
       "    <tr style=\"text-align: right;\">\n",
       "      <th></th>\n",
       "      <th>Cease_Date</th>\n",
       "      <th>Role_Start_Date</th>\n",
       "      <th>Job_Dissatisfaction</th>\n",
       "      <th>Dept_Dissatisfaction</th>\n",
       "      <th>Age</th>\n",
       "    </tr>\n",
       "  </thead>\n",
       "  <tbody>\n",
       "    <tr>\n",
       "      <th>0</th>\n",
       "      <td>08/2012</td>\n",
       "      <td>2004</td>\n",
       "      <td>True</td>\n",
       "      <td>False</td>\n",
       "      <td>58.0</td>\n",
       "    </tr>\n",
       "    <tr>\n",
       "      <th>1</th>\n",
       "      <td>08/2012</td>\n",
       "      <td>Not Stated</td>\n",
       "      <td>False</td>\n",
       "      <td>False</td>\n",
       "      <td>58.0</td>\n",
       "    </tr>\n",
       "    <tr>\n",
       "      <th>2</th>\n",
       "      <td>05/2012</td>\n",
       "      <td>2011</td>\n",
       "      <td>False</td>\n",
       "      <td>False</td>\n",
       "      <td>61.0</td>\n",
       "    </tr>\n",
       "    <tr>\n",
       "      <th>3</th>\n",
       "      <td>05/2012</td>\n",
       "      <td>2006</td>\n",
       "      <td>False</td>\n",
       "      <td>False</td>\n",
       "      <td>38.0</td>\n",
       "    </tr>\n",
       "    <tr>\n",
       "      <th>4</th>\n",
       "      <td>05/2012</td>\n",
       "      <td>1989</td>\n",
       "      <td>False</td>\n",
       "      <td>False</td>\n",
       "      <td>61.0</td>\n",
       "    </tr>\n",
       "  </tbody>\n",
       "</table>\n",
       "</div>"
      ],
      "text/plain": [
       "  Cease_Date Role_Start_Date  Job_Dissatisfaction  Dept_Dissatisfaction   Age\n",
       "0    08/2012            2004                 True                 False  58.0\n",
       "1    08/2012      Not Stated                False                 False  58.0\n",
       "2    05/2012            2011                False                 False  61.0\n",
       "3    05/2012            2006                False                 False  38.0\n",
       "4    05/2012            1989                False                 False  61.0"
      ]
     },
     "execution_count": 16,
     "metadata": {},
     "output_type": "execute_result"
    }
   ],
   "source": [
    "#dete map to the midpoint of range (DON'T RERUN MAP, WILL WRITE OVER)\n",
    "Age_Map = {'20 or younger': 20, '21-25': 23,\n",
    "          '26-30': 28, '56-60': 58, '61 or older': 61, '36-40': 38, '41-45': 43, \n",
    "           '31-35': 33, '46-50': 48, '51-55': 53,}\n",
    "\n",
    "dete_need_cols['Age'] = dete_need_cols['Age'].map(Age_Map)\n",
    "\n",
    "#check\n",
    "dete_need_cols.head()"
   ]
  },
  {
   "cell_type": "code",
   "execution_count": 17,
   "metadata": {},
   "outputs": [
    {
     "name": "stdout",
     "output_type": "stream",
     "text": [
      "<class 'pandas.core.frame.DataFrame'>\n",
      "RangeIndex: 822 entries, 0 to 821\n",
      "Data columns (total 5 columns):\n",
      "Cease_Date              822 non-null object\n",
      "Role_Start_Date         822 non-null object\n",
      "Job_Dissatisfaction     822 non-null bool\n",
      "Dept_Dissatisfaction    822 non-null bool\n",
      "Age                     811 non-null float64\n",
      "dtypes: bool(2), float64(1), object(2)\n",
      "memory usage: 20.9+ KB\n"
     ]
    }
   ],
   "source": [
    "#check\n",
    "dete_need_cols.info()"
   ]
  },
  {
   "cell_type": "code",
   "execution_count": 18,
   "metadata": {},
   "outputs": [
    {
     "name": "stdout",
     "output_type": "stream",
     "text": [
      "['26 � 30' nan '41 � 45' '56 or older' '20 or younger' '46 � 50' '36 � 40'\n",
      " '21 � 25' '51-55' '31 � 35']\n",
      "['1-2' nan '3-4' '7-10' 'Less than 1 year' '11-20' '5-6'\n",
      " 'More than 20 years']\n",
      "['1-2' nan '3-4' '7-10' 'Less than 1 year' '11-20' '5-6'\n",
      " 'More than 20 years']\n"
     ]
    }
   ],
   "source": [
    "#tafe unique values in column going to numeric (mid point of range)\n",
    "\n",
    "print(tafe_need_cols['Age'].unique())\n",
    "print(tafe_need_cols['Institute_Service_Length'].unique())\n",
    "print(tafe_need_cols['Workplace_Service_Length'].unique())"
   ]
  },
  {
   "cell_type": "code",
   "execution_count": 19,
   "metadata": {},
   "outputs": [
    {
     "data": {
      "text/html": [
       "<div>\n",
       "<style scoped>\n",
       "    .dataframe tbody tr th:only-of-type {\n",
       "        vertical-align: middle;\n",
       "    }\n",
       "\n",
       "    .dataframe tbody tr th {\n",
       "        vertical-align: top;\n",
       "    }\n",
       "\n",
       "    .dataframe thead th {\n",
       "        text-align: right;\n",
       "    }\n",
       "</style>\n",
       "<table border=\"1\" class=\"dataframe\">\n",
       "  <thead>\n",
       "    <tr style=\"text-align: right;\">\n",
       "      <th></th>\n",
       "      <th>Dissatisfaction</th>\n",
       "      <th>Job_Dissatisfaction</th>\n",
       "      <th>Age</th>\n",
       "      <th>Institute_Service_Length</th>\n",
       "      <th>Workplace_Service_Length</th>\n",
       "    </tr>\n",
       "  </thead>\n",
       "  <tbody>\n",
       "    <tr>\n",
       "      <th>0</th>\n",
       "      <td>NaN</td>\n",
       "      <td>NaN</td>\n",
       "      <td>28.0</td>\n",
       "      <td>2.0</td>\n",
       "      <td>2.0</td>\n",
       "    </tr>\n",
       "    <tr>\n",
       "      <th>1</th>\n",
       "      <td>-0</td>\n",
       "      <td>-0</td>\n",
       "      <td>NaN</td>\n",
       "      <td>NaN</td>\n",
       "      <td>NaN</td>\n",
       "    </tr>\n",
       "    <tr>\n",
       "      <th>2</th>\n",
       "      <td>-0</td>\n",
       "      <td>-0</td>\n",
       "      <td>NaN</td>\n",
       "      <td>NaN</td>\n",
       "      <td>NaN</td>\n",
       "    </tr>\n",
       "    <tr>\n",
       "      <th>3</th>\n",
       "      <td>-0</td>\n",
       "      <td>-0</td>\n",
       "      <td>NaN</td>\n",
       "      <td>NaN</td>\n",
       "      <td>NaN</td>\n",
       "    </tr>\n",
       "    <tr>\n",
       "      <th>4</th>\n",
       "      <td>-0</td>\n",
       "      <td>-0</td>\n",
       "      <td>43.0</td>\n",
       "      <td>4.0</td>\n",
       "      <td>4.0</td>\n",
       "    </tr>\n",
       "  </tbody>\n",
       "</table>\n",
       "</div>"
      ],
      "text/plain": [
       "  Dissatisfaction Job_Dissatisfaction   Age  Institute_Service_Length  \\\n",
       "0             NaN                 NaN  28.0                       2.0   \n",
       "1              -0                  -0   NaN                       NaN   \n",
       "2              -0                  -0   NaN                       NaN   \n",
       "3              -0                  -0   NaN                       NaN   \n",
       "4              -0                  -0  43.0                       4.0   \n",
       "\n",
       "   Workplace_Service_Length  \n",
       "0                       2.0  \n",
       "1                       NaN  \n",
       "2                       NaN  \n",
       "3                       NaN  \n",
       "4                       4.0  "
      ]
     },
     "execution_count": 19,
     "metadata": {},
     "output_type": "execute_result"
    }
   ],
   "source": [
    "#tafe mapping of mid range to Age and Service Length columns\n",
    "\n",
    "tafe_Age_Map = {'26 � 30' : 28, '41 � 45': 43, '56 or older': 56, \n",
    "                '20 or younger': 20,'46 � 50': 48, '36 � 40': 38, '21 � 25':23, \n",
    "                '51-55': 53, '31 � 35': 33}\n",
    "\n",
    "tafe_need_cols['Age'] = tafe_need_cols['Age'].map(tafe_Age_Map)\n",
    "\n",
    "tafe_ins_ser_Map = {'1-2': 2, '3-4': 4, '7-10': 9, \n",
    "                    'Less than 1 year': 1, '11-20': 16, '5-6': 6,'More than 20 years': 20}\n",
    "\n",
    "tafe_need_cols['Institute_Service_Length'] = tafe_need_cols['Institute_Service_Length'].map(tafe_ins_ser_Map)\n",
    "\n",
    "tafe_wp_ser_Map = {'1-2': 2, '3-4': 4, '7-10': 9, \n",
    "                    'Less than 1 year': 1, '11-20': 16, '5-6': 6, 'More than 20 years': 20}\n",
    "\n",
    "tafe_need_cols['Workplace_Service_Length'] = (tafe_need_cols['Workplace_Service_Length'].map(tafe_ins_ser_Map))\n",
    "\n",
    "#check\n",
    "tafe_need_cols.head()"
   ]
  },
  {
   "cell_type": "code",
   "execution_count": 20,
   "metadata": {},
   "outputs": [
    {
     "name": "stdout",
     "output_type": "stream",
     "text": [
      "  Cease_Date Role_Start_Date  Job_Dissatisfaction  Dept_Dissatisfaction   Age  \\\n",
      "0    08/2012            2004                 True                 False  58.0   \n",
      "\n",
      "      Database  \n",
      "0  dete_survey  \n",
      "  Dissatisfaction Job_Dissatisfaction   Age  Institute_Service_Length  \\\n",
      "0             NaN                 NaN  28.0                       2.0   \n",
      "\n",
      "   Workplace_Service_Length     Database  \n",
      "0                       2.0  tafe_survey  \n"
     ]
    }
   ],
   "source": [
    "#create dbase identifying columns\n",
    "\n",
    "dete_need_cols[\"Database\"] = \"dete_survey\"\n",
    "tafe_need_cols[\"Database\"] = \"tafe_survey\"\n",
    "\n",
    "#check\n",
    "print(dete_need_cols.head(1))\n",
    "print(tafe_need_cols.head(1))"
   ]
  },
  {
   "cell_type": "code",
   "execution_count": 21,
   "metadata": {},
   "outputs": [
    {
     "data": {
      "text/html": [
       "<div>\n",
       "<style scoped>\n",
       "    .dataframe tbody tr th:only-of-type {\n",
       "        vertical-align: middle;\n",
       "    }\n",
       "\n",
       "    .dataframe tbody tr th {\n",
       "        vertical-align: top;\n",
       "    }\n",
       "\n",
       "    .dataframe thead th {\n",
       "        text-align: right;\n",
       "    }\n",
       "</style>\n",
       "<table border=\"1\" class=\"dataframe\">\n",
       "  <thead>\n",
       "    <tr style=\"text-align: right;\">\n",
       "      <th></th>\n",
       "      <th>Dissatisfaction</th>\n",
       "      <th>Job_Dissatisfaction</th>\n",
       "      <th>Age</th>\n",
       "      <th>Institute_Service_Length</th>\n",
       "      <th>Workplace_Service_Length</th>\n",
       "      <th>Database</th>\n",
       "      <th>Combined_Dissatisfaction</th>\n",
       "    </tr>\n",
       "  </thead>\n",
       "  <tbody>\n",
       "    <tr>\n",
       "      <th>0</th>\n",
       "      <td>NaN</td>\n",
       "      <td>NaN</td>\n",
       "      <td>28.0</td>\n",
       "      <td>2.0</td>\n",
       "      <td>2.0</td>\n",
       "      <td>tafe_survey</td>\n",
       "      <td>False</td>\n",
       "    </tr>\n",
       "    <tr>\n",
       "      <th>1</th>\n",
       "      <td>-0</td>\n",
       "      <td>-0</td>\n",
       "      <td>NaN</td>\n",
       "      <td>NaN</td>\n",
       "      <td>NaN</td>\n",
       "      <td>tafe_survey</td>\n",
       "      <td>False</td>\n",
       "    </tr>\n",
       "    <tr>\n",
       "      <th>2</th>\n",
       "      <td>-0</td>\n",
       "      <td>-0</td>\n",
       "      <td>NaN</td>\n",
       "      <td>NaN</td>\n",
       "      <td>NaN</td>\n",
       "      <td>tafe_survey</td>\n",
       "      <td>False</td>\n",
       "    </tr>\n",
       "    <tr>\n",
       "      <th>3</th>\n",
       "      <td>-0</td>\n",
       "      <td>-0</td>\n",
       "      <td>NaN</td>\n",
       "      <td>NaN</td>\n",
       "      <td>NaN</td>\n",
       "      <td>tafe_survey</td>\n",
       "      <td>False</td>\n",
       "    </tr>\n",
       "    <tr>\n",
       "      <th>4</th>\n",
       "      <td>-0</td>\n",
       "      <td>-0</td>\n",
       "      <td>43.0</td>\n",
       "      <td>4.0</td>\n",
       "      <td>4.0</td>\n",
       "      <td>tafe_survey</td>\n",
       "      <td>False</td>\n",
       "    </tr>\n",
       "  </tbody>\n",
       "</table>\n",
       "</div>"
      ],
      "text/plain": [
       "  Dissatisfaction Job_Dissatisfaction   Age  Institute_Service_Length  \\\n",
       "0             NaN                 NaN  28.0                       2.0   \n",
       "1              -0                  -0   NaN                       NaN   \n",
       "2              -0                  -0   NaN                       NaN   \n",
       "3              -0                  -0   NaN                       NaN   \n",
       "4              -0                  -0  43.0                       4.0   \n",
       "\n",
       "   Workplace_Service_Length     Database  Combined_Dissatisfaction  \n",
       "0                       2.0  tafe_survey                     False  \n",
       "1                       NaN  tafe_survey                     False  \n",
       "2                       NaN  tafe_survey                     False  \n",
       "3                       NaN  tafe_survey                     False  \n",
       "4                       4.0  tafe_survey                     False  "
      ]
     },
     "execution_count": 21,
     "metadata": {},
     "output_type": "execute_result"
    }
   ],
   "source": [
    "#create combined dissatisfaction column for tafe_need_cols\n",
    "\n",
    "tafe_need_cols[\"Dissatisfaction\"].value_counts()\n",
    "tafe_need_cols[\"Job_Dissatisfaction\"].value_counts()\n",
    "\n",
    "tafe_dis_bool = (tafe_need_cols[\"Dissatisfaction\"] == 'Contributing Factors. Dissatisfaction'\n",
    "                ) | (tafe_need_cols[\"Job_Dissatisfaction\"] == 'Job Dissatisfaction')\n",
    "\n",
    "tafe_need_cols['Combined_Dissatisfaction'] = tafe_dis_bool\n",
    "\n",
    "#check\n",
    "tafe_need_cols.head()"
   ]
  },
  {
   "cell_type": "code",
   "execution_count": 22,
   "metadata": {
    "scrolled": true
   },
   "outputs": [
    {
     "data": {
      "text/html": [
       "<div>\n",
       "<style scoped>\n",
       "    .dataframe tbody tr th:only-of-type {\n",
       "        vertical-align: middle;\n",
       "    }\n",
       "\n",
       "    .dataframe tbody tr th {\n",
       "        vertical-align: top;\n",
       "    }\n",
       "\n",
       "    .dataframe thead th {\n",
       "        text-align: right;\n",
       "    }\n",
       "</style>\n",
       "<table border=\"1\" class=\"dataframe\">\n",
       "  <thead>\n",
       "    <tr style=\"text-align: right;\">\n",
       "      <th></th>\n",
       "      <th>Cease_Date</th>\n",
       "      <th>Role_Start_Date</th>\n",
       "      <th>Job_Dissatisfaction</th>\n",
       "      <th>Dept_Dissatisfaction</th>\n",
       "      <th>Age</th>\n",
       "      <th>Database</th>\n",
       "      <th>Combined_Dissatisfaction</th>\n",
       "    </tr>\n",
       "  </thead>\n",
       "  <tbody>\n",
       "    <tr>\n",
       "      <th>0</th>\n",
       "      <td>08/2012</td>\n",
       "      <td>2004</td>\n",
       "      <td>True</td>\n",
       "      <td>False</td>\n",
       "      <td>58.0</td>\n",
       "      <td>dete_survey</td>\n",
       "      <td>True</td>\n",
       "    </tr>\n",
       "    <tr>\n",
       "      <th>1</th>\n",
       "      <td>08/2012</td>\n",
       "      <td>Not Stated</td>\n",
       "      <td>False</td>\n",
       "      <td>False</td>\n",
       "      <td>58.0</td>\n",
       "      <td>dete_survey</td>\n",
       "      <td>False</td>\n",
       "    </tr>\n",
       "    <tr>\n",
       "      <th>2</th>\n",
       "      <td>05/2012</td>\n",
       "      <td>2011</td>\n",
       "      <td>False</td>\n",
       "      <td>False</td>\n",
       "      <td>61.0</td>\n",
       "      <td>dete_survey</td>\n",
       "      <td>False</td>\n",
       "    </tr>\n",
       "    <tr>\n",
       "      <th>3</th>\n",
       "      <td>05/2012</td>\n",
       "      <td>2006</td>\n",
       "      <td>False</td>\n",
       "      <td>False</td>\n",
       "      <td>38.0</td>\n",
       "      <td>dete_survey</td>\n",
       "      <td>False</td>\n",
       "    </tr>\n",
       "    <tr>\n",
       "      <th>4</th>\n",
       "      <td>05/2012</td>\n",
       "      <td>1989</td>\n",
       "      <td>False</td>\n",
       "      <td>False</td>\n",
       "      <td>61.0</td>\n",
       "      <td>dete_survey</td>\n",
       "      <td>False</td>\n",
       "    </tr>\n",
       "  </tbody>\n",
       "</table>\n",
       "</div>"
      ],
      "text/plain": [
       "  Cease_Date Role_Start_Date  Job_Dissatisfaction  Dept_Dissatisfaction   Age  \\\n",
       "0    08/2012            2004                 True                 False  58.0   \n",
       "1    08/2012      Not Stated                False                 False  58.0   \n",
       "2    05/2012            2011                False                 False  61.0   \n",
       "3    05/2012            2006                False                 False  38.0   \n",
       "4    05/2012            1989                False                 False  61.0   \n",
       "\n",
       "      Database  Combined_Dissatisfaction  \n",
       "0  dete_survey                      True  \n",
       "1  dete_survey                     False  \n",
       "2  dete_survey                     False  \n",
       "3  dete_survey                     False  \n",
       "4  dete_survey                     False  "
      ]
     },
     "execution_count": 22,
     "metadata": {},
     "output_type": "execute_result"
    }
   ],
   "source": [
    "#create combined dissatisfaction column for dete_need_cols\n",
    "\n",
    "dete_dis_bool = (dete_need_cols[\"Job_Dissatisfaction\"] == True\n",
    "                ) | (dete_need_cols[\"Dept_Dissatisfaction\"] == True)\n",
    "\n",
    "dete_need_cols['Combined_Dissatisfaction'] = dete_dis_bool\n",
    "\n",
    "#check\n",
    "dete_need_cols.head()"
   ]
  },
  {
   "cell_type": "code",
   "execution_count": 23,
   "metadata": {},
   "outputs": [
    {
     "data": {
      "text/plain": [
       "False    696\n",
       "True     126\n",
       "Name: Combined_Dissatisfaction, dtype: int64"
      ]
     },
     "execution_count": 23,
     "metadata": {},
     "output_type": "execute_result"
    }
   ],
   "source": [
    "dete_need_cols['Combined_Dissatisfaction'].value_counts()"
   ]
  },
  {
   "cell_type": "code",
   "execution_count": 24,
   "metadata": {},
   "outputs": [],
   "source": [
    "# convert dete_need_cols string dates to int years, subtract, put into length of service column\n",
    "\n",
    "dete_need_cols['Cease_Date'] = dete_need_cols['Cease_Date'].str[-4:] #Stack Overflow help\n",
    "dete_need_cols = dete_need_cols[dete_need_cols.Cease_Date != 'ated'] \n",
    "\n",
    "dete_need_cols = dete_need_cols[dete_need_cols.Role_Start_Date != 'Not Stated']\n",
    "\n",
    "dete_need_cols['Cease_Date'] = pd.to_numeric(dete_need_cols['Cease_Date'])\n",
    "dete_need_cols['Role_Start_Date'] = dete_need_cols['Role_Start_Date'].astype(int)\n",
    "\n",
    "dete_need_cols['Service_Length'] = dete_need_cols['Cease_Date'] - dete_need_cols['Role_Start_Date']"
   ]
  },
  {
   "cell_type": "code",
   "execution_count": 25,
   "metadata": {},
   "outputs": [
    {
     "name": "stdout",
     "output_type": "stream",
     "text": [
      "<class 'pandas.core.frame.DataFrame'>\n",
      "Int64Index: 697 entries, 0 to 820\n",
      "Data columns (total 8 columns):\n",
      "Cease_Date                  697 non-null int64\n",
      "Role_Start_Date             697 non-null int32\n",
      "Job_Dissatisfaction         697 non-null bool\n",
      "Dept_Dissatisfaction        697 non-null bool\n",
      "Age                         693 non-null float64\n",
      "Database                    697 non-null object\n",
      "Combined_Dissatisfaction    697 non-null bool\n",
      "Service_Length              697 non-null int64\n",
      "dtypes: bool(3), float64(1), int32(1), int64(2), object(1)\n",
      "memory usage: 32.0+ KB\n"
     ]
    }
   ],
   "source": [
    "dete_need_cols.info()"
   ]
  },
  {
   "cell_type": "markdown",
   "metadata": {},
   "source": [
    "<font color=blue>NOTE</font>: missing data on `Age` "
   ]
  },
  {
   "cell_type": "code",
   "execution_count": 26,
   "metadata": {},
   "outputs": [
    {
     "name": "stdout",
     "output_type": "stream",
     "text": [
      "   Cease_Date  Role_Start_Date  Job_Dissatisfaction  Dept_Dissatisfaction  \\\n",
      "0        2012             2004                 True                 False   \n",
      "2        2012             2011                False                 False   \n",
      "3        2012             2006                False                 False   \n",
      "4        2012             1989                False                 False   \n",
      "5        2012             1997                False                 False   \n",
      "\n",
      "    Age     Database  Combined_Dissatisfaction  Service_Length  \n",
      "0  58.0  dete_survey                      True               8  \n",
      "2  61.0  dete_survey                     False               1  \n",
      "3  38.0  dete_survey                     False               6  \n",
      "4  61.0  dete_survey                     False              23  \n",
      "5  43.0  dete_survey                     False              15  \n",
      "\n",
      "\n",
      "  Dissatisfaction Job_Dissatisfaction   Age  Institute_Service_Length  \\\n",
      "0             NaN                 NaN  28.0                       2.0   \n",
      "1              -0                  -0   NaN                       NaN   \n",
      "2              -0                  -0   NaN                       NaN   \n",
      "3              -0                  -0   NaN                       NaN   \n",
      "4              -0                  -0  43.0                       4.0   \n",
      "\n",
      "   Workplace_Service_Length     Database  Combined_Dissatisfaction  \n",
      "0                       2.0  tafe_survey                     False  \n",
      "1                       NaN  tafe_survey                     False  \n",
      "2                       NaN  tafe_survey                     False  \n",
      "3                       NaN  tafe_survey                     False  \n",
      "4                       4.0  tafe_survey                     False  \n"
     ]
    }
   ],
   "source": [
    "print(dete_need_cols.head())\n",
    "print('\\n')\n",
    "print(tafe_need_cols.head())"
   ]
  },
  {
   "cell_type": "code",
   "execution_count": 27,
   "metadata": {},
   "outputs": [
    {
     "name": "stdout",
     "output_type": "stream",
     "text": [
      "   Cease_Date  Role_Start_Date  Job_Dissatisfaction  Dept_Dissatisfaction  \\\n",
      "0        2012             2004                 True                 False   \n",
      "2        2012             2011                False                 False   \n",
      "3        2012             2006                False                 False   \n",
      "4        2012             1989                False                 False   \n",
      "5        2012             1997                False                 False   \n",
      "\n",
      "    Age     Database  Combined_Dissatisfaction  Service_Length  \n",
      "0  58.0  dete_survey                      True               8  \n",
      "2  61.0  dete_survey                     False               1  \n",
      "3  38.0  dete_survey                     False               6  \n",
      "4  61.0  dete_survey                     False              23  \n",
      "5  43.0  dete_survey                     False              15  \n",
      "  Dissatisfaction Job_Dissatisfaction   Age  Institute_Service_Length  \\\n",
      "0             NaN                 NaN  28.0                       2.0   \n",
      "1              -0                  -0   0.0                       0.0   \n",
      "2              -0                  -0   0.0                       0.0   \n",
      "3              -0                  -0   0.0                       0.0   \n",
      "4              -0                  -0  43.0                       4.0   \n",
      "\n",
      "   Workplace_Service_Length     Database  Combined_Dissatisfaction  \n",
      "0                       2.0  tafe_survey                     False  \n",
      "1                       0.0  tafe_survey                     False  \n",
      "2                       0.0  tafe_survey                     False  \n",
      "3                       0.0  tafe_survey                     False  \n",
      "4                       4.0  tafe_survey                     False  \n"
     ]
    }
   ],
   "source": [
    "#replace missing values\n",
    "\n",
    "dete_need_cols['Age'].fillna(0, inplace = True)\n",
    "tafe_need_cols['Age'].fillna(0, inplace = True)\n",
    "tafe_need_cols['Workplace_Service_Length'].fillna(0, inplace = True)\n",
    "tafe_need_cols['Institute_Service_Length'].fillna(0, inplace = True)\n",
    "\n",
    "#check\n",
    "print(dete_need_cols.head())\n",
    "print(tafe_need_cols.head())"
   ]
  },
  {
   "cell_type": "code",
   "execution_count": 28,
   "metadata": {},
   "outputs": [
    {
     "name": "stdout",
     "output_type": "stream",
     "text": [
      "  Dissatisfaction Job_Dissatisfaction   Age  Institute_Service_Length  \\\n",
      "0             NaN                 NaN  28.0                       2.0   \n",
      "1              -0                  -0   0.0                       0.0   \n",
      "2              -0                  -0   0.0                       0.0   \n",
      "3              -0                  -0   0.0                       0.0   \n",
      "4              -0                  -0  43.0                       4.0   \n",
      "\n",
      "   Workplace_Service_Length     Database  Combined_Dissatisfaction  \\\n",
      "0                       2.0  tafe_survey                     False   \n",
      "1                       0.0  tafe_survey                     False   \n",
      "2                       0.0  tafe_survey                     False   \n",
      "3                       0.0  tafe_survey                     False   \n",
      "4                       4.0  tafe_survey                     False   \n",
      "\n",
      "   Service_Length  \n",
      "0             2.0  \n",
      "1             0.0  \n",
      "2             0.0  \n",
      "3             0.0  \n",
      "4             4.0  \n",
      "\n",
      "\n",
      "   Cease_Date  Role_Start_Date  Job_Dissatisfaction  Dept_Dissatisfaction  \\\n",
      "0        2012             2004                 True                 False   \n",
      "2        2012             2011                False                 False   \n",
      "3        2012             2006                False                 False   \n",
      "4        2012             1989                False                 False   \n",
      "5        2012             1997                False                 False   \n",
      "\n",
      "    Age     Database  Combined_Dissatisfaction  Service_Length  \n",
      "0  58.0  dete_survey                      True               8  \n",
      "2  61.0  dete_survey                     False               1  \n",
      "3  38.0  dete_survey                     False               6  \n",
      "4  61.0  dete_survey                     False              23  \n",
      "5  43.0  dete_survey                     False              15  \n"
     ]
    }
   ],
   "source": [
    "#tafe service length (choose the largest from Institute and Workplace)\n",
    "\n",
    "tafe_need_cols.loc[tafe_need_cols.Workplace_Service_Length <= tafe_need_cols.Institute_Service_Length,\n",
    "                  'Service_Length'] = tafe_need_cols['Institute_Service_Length']\n",
    "\n",
    "tafe_need_cols.loc[tafe_need_cols.Workplace_Service_Length > tafe_need_cols.Institute_Service_Length,\n",
    "                  'Service_Length'] = tafe_need_cols['Workplace_Service_Length']\n",
    "\n",
    "#check\n",
    "print(tafe_need_cols.head())\n",
    "print('\\n')\n",
    "print(dete_need_cols.head())"
   ]
  },
  {
   "cell_type": "code",
   "execution_count": 29,
   "metadata": {},
   "outputs": [],
   "source": [
    "#merge the df's with concatenate \n",
    "merge_cease_date = pd.concat([dete_need_cols, tafe_need_cols], sort = True)"
   ]
  },
  {
   "cell_type": "code",
   "execution_count": 30,
   "metadata": {},
   "outputs": [
    {
     "data": {
      "text/html": [
       "<div>\n",
       "<style scoped>\n",
       "    .dataframe tbody tr th:only-of-type {\n",
       "        vertical-align: middle;\n",
       "    }\n",
       "\n",
       "    .dataframe tbody tr th {\n",
       "        vertical-align: top;\n",
       "    }\n",
       "\n",
       "    .dataframe thead th {\n",
       "        text-align: right;\n",
       "    }\n",
       "</style>\n",
       "<table border=\"1\" class=\"dataframe\">\n",
       "  <thead>\n",
       "    <tr style=\"text-align: right;\">\n",
       "      <th></th>\n",
       "      <th>Age</th>\n",
       "      <th>Cease_Date</th>\n",
       "      <th>Combined_Dissatisfaction</th>\n",
       "      <th>Database</th>\n",
       "      <th>Dept_Dissatisfaction</th>\n",
       "      <th>Dissatisfaction</th>\n",
       "      <th>Institute_Service_Length</th>\n",
       "      <th>Job_Dissatisfaction</th>\n",
       "      <th>Role_Start_Date</th>\n",
       "      <th>Service_Length</th>\n",
       "      <th>Workplace_Service_Length</th>\n",
       "    </tr>\n",
       "  </thead>\n",
       "  <tbody>\n",
       "    <tr>\n",
       "      <th>0</th>\n",
       "      <td>58.0</td>\n",
       "      <td>2012.0</td>\n",
       "      <td>True</td>\n",
       "      <td>dete_survey</td>\n",
       "      <td>False</td>\n",
       "      <td>NaN</td>\n",
       "      <td>NaN</td>\n",
       "      <td>True</td>\n",
       "      <td>2004.0</td>\n",
       "      <td>8.0</td>\n",
       "      <td>NaN</td>\n",
       "    </tr>\n",
       "    <tr>\n",
       "      <th>2</th>\n",
       "      <td>61.0</td>\n",
       "      <td>2012.0</td>\n",
       "      <td>False</td>\n",
       "      <td>dete_survey</td>\n",
       "      <td>False</td>\n",
       "      <td>NaN</td>\n",
       "      <td>NaN</td>\n",
       "      <td>False</td>\n",
       "      <td>2011.0</td>\n",
       "      <td>1.0</td>\n",
       "      <td>NaN</td>\n",
       "    </tr>\n",
       "    <tr>\n",
       "      <th>3</th>\n",
       "      <td>38.0</td>\n",
       "      <td>2012.0</td>\n",
       "      <td>False</td>\n",
       "      <td>dete_survey</td>\n",
       "      <td>False</td>\n",
       "      <td>NaN</td>\n",
       "      <td>NaN</td>\n",
       "      <td>False</td>\n",
       "      <td>2006.0</td>\n",
       "      <td>6.0</td>\n",
       "      <td>NaN</td>\n",
       "    </tr>\n",
       "    <tr>\n",
       "      <th>4</th>\n",
       "      <td>61.0</td>\n",
       "      <td>2012.0</td>\n",
       "      <td>False</td>\n",
       "      <td>dete_survey</td>\n",
       "      <td>False</td>\n",
       "      <td>NaN</td>\n",
       "      <td>NaN</td>\n",
       "      <td>False</td>\n",
       "      <td>1989.0</td>\n",
       "      <td>23.0</td>\n",
       "      <td>NaN</td>\n",
       "    </tr>\n",
       "    <tr>\n",
       "      <th>5</th>\n",
       "      <td>43.0</td>\n",
       "      <td>2012.0</td>\n",
       "      <td>False</td>\n",
       "      <td>dete_survey</td>\n",
       "      <td>False</td>\n",
       "      <td>NaN</td>\n",
       "      <td>NaN</td>\n",
       "      <td>False</td>\n",
       "      <td>1997.0</td>\n",
       "      <td>15.0</td>\n",
       "      <td>NaN</td>\n",
       "    </tr>\n",
       "  </tbody>\n",
       "</table>\n",
       "</div>"
      ],
      "text/plain": [
       "    Age  Cease_Date  Combined_Dissatisfaction     Database  \\\n",
       "0  58.0      2012.0                      True  dete_survey   \n",
       "2  61.0      2012.0                     False  dete_survey   \n",
       "3  38.0      2012.0                     False  dete_survey   \n",
       "4  61.0      2012.0                     False  dete_survey   \n",
       "5  43.0      2012.0                     False  dete_survey   \n",
       "\n",
       "  Dept_Dissatisfaction Dissatisfaction  Institute_Service_Length  \\\n",
       "0                False             NaN                       NaN   \n",
       "2                False             NaN                       NaN   \n",
       "3                False             NaN                       NaN   \n",
       "4                False             NaN                       NaN   \n",
       "5                False             NaN                       NaN   \n",
       "\n",
       "  Job_Dissatisfaction  Role_Start_Date  Service_Length  \\\n",
       "0                True           2004.0             8.0   \n",
       "2               False           2011.0             1.0   \n",
       "3               False           2006.0             6.0   \n",
       "4               False           1989.0            23.0   \n",
       "5               False           1997.0            15.0   \n",
       "\n",
       "   Workplace_Service_Length  \n",
       "0                       NaN  \n",
       "2                       NaN  \n",
       "3                       NaN  \n",
       "4                       NaN  \n",
       "5                       NaN  "
      ]
     },
     "execution_count": 30,
     "metadata": {},
     "output_type": "execute_result"
    }
   ],
   "source": [
    "merge_cease_date.head()"
   ]
  },
  {
   "cell_type": "code",
   "execution_count": 31,
   "metadata": {},
   "outputs": [],
   "source": [
    "#graph\n",
    "\n",
    "import matplotlib as plt"
   ]
  },
  {
   "cell_type": "code",
   "execution_count": 32,
   "metadata": {},
   "outputs": [
    {
     "data": {
      "text/plain": [
       "<matplotlib.axes._subplots.AxesSubplot at 0x206104aa630>"
      ]
     },
     "execution_count": 32,
     "metadata": {},
     "output_type": "execute_result"
    }
   ],
   "source": [
    "#histogram of Age\n",
    "merge_cease_date['Age'].plot(kind = 'hist', bins = 20, title = 'Age')"
   ]
  },
  {
   "cell_type": "code",
   "execution_count": 33,
   "metadata": {},
   "outputs": [
    {
     "data": {
      "text/plain": [
       "61.0    185\n",
       "53.0    175\n",
       "56.0    162\n",
       "58.0    142\n",
       "43.0    134\n",
       "0.0     110\n",
       "48.0    108\n",
       "28.0    100\n",
       "38.0     96\n",
       "33.0     89\n",
       "23.0     81\n",
       "20.0     17\n",
       "Name: Age, dtype: int64"
      ]
     },
     "execution_count": 33,
     "metadata": {},
     "output_type": "execute_result"
    }
   ],
   "source": [
    "merge_cease_date['Age'].value_counts()"
   ]
  },
  {
   "cell_type": "code",
   "execution_count": 34,
   "metadata": {},
   "outputs": [],
   "source": [
    "#Age = 0 as nan\n",
    "merge_cease_date.loc[merge_cease_date['Age'] <= 0,'Age'] = np.nan"
   ]
  },
  {
   "cell_type": "code",
   "execution_count": 35,
   "metadata": {},
   "outputs": [
    {
     "data": {
      "text/plain": [
       "61.0    185\n",
       "53.0    175\n",
       "56.0    162\n",
       "58.0    142\n",
       "43.0    134\n",
       "48.0    108\n",
       "28.0    100\n",
       "38.0     96\n",
       "33.0     89\n",
       "23.0     81\n",
       "20.0     17\n",
       "Name: Age, dtype: int64"
      ]
     },
     "execution_count": 35,
     "metadata": {},
     "output_type": "execute_result"
    }
   ],
   "source": [
    "merge_cease_date['Age'].value_counts()"
   ]
  },
  {
   "cell_type": "code",
   "execution_count": 36,
   "metadata": {},
   "outputs": [
    {
     "data": {
      "text/plain": [
       " 1.0       196\n",
       " 0.0       171\n",
       " 2.0       145\n",
       " 4.0       141\n",
       " 16.0      108\n",
       " 20.0       89\n",
       " 6.0        75\n",
       " 9.0        63\n",
       " 3.0        43\n",
       " 5.0        38\n",
       " 7.0        26\n",
       " 13.0       21\n",
       " 14.0       19\n",
       " 8.0        19\n",
       " 15.0       18\n",
       " 11.0       17\n",
       " 10.0       16\n",
       " 17.0       16\n",
       " 24.0       16\n",
       " 23.0       15\n",
       " 21.0       14\n",
       " 12.0       13\n",
       " 19.0       10\n",
       " 26.0        9\n",
       " 22.0        9\n",
       " 18.0        9\n",
       " 37.0        9\n",
       " 34.0        8\n",
       " 25.0        8\n",
       " 27.0        8\n",
       " 38.0        7\n",
       " 31.0        7\n",
       " 35.0        6\n",
       " 29.0        5\n",
       " 33.0        4\n",
       " 30.0        4\n",
       " 36.0        4\n",
       " 32.0        3\n",
       " 42.0        3\n",
       " 28.0        2\n",
       " 40.0        1\n",
       " 39.0        1\n",
       " 43.0        1\n",
       "-1.0         1\n",
       " 1813.0      1\n",
       "Name: Service_Length, dtype: int64"
      ]
     },
     "execution_count": 36,
     "metadata": {},
     "output_type": "execute_result"
    }
   ],
   "source": [
    "merge_cease_date['Service_Length'].value_counts()"
   ]
  },
  {
   "cell_type": "code",
   "execution_count": 37,
   "metadata": {},
   "outputs": [],
   "source": [
    "# Service length data entry error, 0 or negative as nan\n",
    "merge_cease_date.loc[merge_cease_date['Service_Length'] == 1813,'Service_Length'] = np.nan"
   ]
  },
  {
   "cell_type": "code",
   "execution_count": 38,
   "metadata": {},
   "outputs": [],
   "source": [
    "merge_cease_date.loc[merge_cease_date['Service_Length'] <= 0,'Service_Length'] = np.nan"
   ]
  },
  {
   "cell_type": "code",
   "execution_count": 39,
   "metadata": {},
   "outputs": [
    {
     "data": {
      "text/plain": [
       "<matplotlib.axes._subplots.AxesSubplot at 0x20610709550>"
      ]
     },
     "execution_count": 39,
     "metadata": {},
     "output_type": "execute_result"
    },
    {
     "data": {
      "image/png": "[encoded data removed]",
      "text/plain": [
       "<Figure size 432x288 with 1 Axes>"
      ]
     },
     "metadata": {
      "needs_background": "light"
     },
     "output_type": "display_data"
    }
   ],
   "source": [
    "#plot service length\n",
    "merge_cease_date['Service_Length'].plot(kind = 'hist', bins = 20, title = 'Service Length')"
   ]
  },
  {
   "cell_type": "code",
   "execution_count": 40,
   "metadata": {},
   "outputs": [
    {
     "data": {
      "text/plain": [
       "10.01141924959217"
      ]
     },
     "execution_count": 40,
     "metadata": {},
     "output_type": "execute_result"
    }
   ],
   "source": [
    "merge_cease_date['Service_Length'].mean()"
   ]
  },
  {
   "cell_type": "code",
   "execution_count": 41,
   "metadata": {},
   "outputs": [
    {
     "data": {
      "text/plain": [
       "<matplotlib.axes._subplots.AxesSubplot at 0x206107b58d0>"
      ]
     },
     "execution_count": 41,
     "metadata": {},
     "output_type": "execute_result"
    },
    {
     "data": {
      "image/png": "[encoded data removed]",
      "text/plain": [
       "<Figure size 432x288 with 1 Axes>"
      ]
     },
     "metadata": {
      "needs_background": "light"
     },
     "output_type": "display_data"
    }
   ],
   "source": [
    "#replot Age\n",
    "merge_cease_date['Age'].plot(kind = 'hist', bins = 20, title = 'Age')"
   ]
  },
  {
   "cell_type": "code",
   "execution_count": 42,
   "metadata": {},
   "outputs": [
    {
     "data": {
      "text/plain": [
       "46.859581070597365"
      ]
     },
     "execution_count": 42,
     "metadata": {},
     "output_type": "execute_result"
    }
   ],
   "source": [
    "merge_cease_date['Age'].mean()"
   ]
  },
  {
   "cell_type": "code",
   "execution_count": 43,
   "metadata": {},
   "outputs": [
    {
     "data": {
      "text/plain": [
       "False    1207\n",
       "True      192\n",
       "Name: Combined_Dissatisfaction, dtype: int64"
      ]
     },
     "execution_count": 43,
     "metadata": {},
     "output_type": "execute_result"
    }
   ],
   "source": [
    "merge_cease_date['Combined_Dissatisfaction'].value_counts()"
   ]
  },
  {
   "cell_type": "markdown",
   "metadata": {},
   "source": [
    "<font color=red>Observations</font>\n",
    "\n",
    "1. For `Age` the non zero mean is about 45\n",
    "2. For `Service_Length` the non zero mean is about 10\n",
    "3. Out of the approx 1400 rows of data, about 200 individuals reported Job Dissatisfaction as a reason for leaving\n"
   ]
  },
  {
   "cell_type": "markdown",
   "metadata": {},
   "source": [
    "<font color=red>NOTE:</font>\n",
    "\n",
    "Decided to group `Age` and `Length of Service` into 4 groups: Older employees with long service, Older employees with short service and Younger employees.  I think it will be more insightful to compare these 4 groups and their job dissatisfaction rates.\n",
    "    "
   ]
  },
  {
   "cell_type": "code",
   "execution_count": 44,
   "metadata": {},
   "outputs": [],
   "source": [
    "def myagegroup(element):\n",
    "    if element >= 45:\n",
    "        return 'Older'\n",
    "    else:\n",
    "        return \"Younger\""
   ]
  },
  {
   "cell_type": "code",
   "execution_count": 45,
   "metadata": {},
   "outputs": [],
   "source": [
    "def myservgroup(element):\n",
    "    if element >= 10:\n",
    "        return \"Short_Service\"\n",
    "    else:\n",
    "        return \"Long_Service\""
   ]
  },
  {
   "cell_type": "code",
   "execution_count": 46,
   "metadata": {},
   "outputs": [
    {
     "data": {
      "text/plain": [
       "function"
      ]
     },
     "execution_count": 46,
     "metadata": {},
     "output_type": "execute_result"
    }
   ],
   "source": [
    "type(myagegroup)"
   ]
  },
  {
   "cell_type": "code",
   "execution_count": 47,
   "metadata": {},
   "outputs": [],
   "source": [
    "#convert Age numeric values to strings \n",
    "merge_cease_date['Age'] = merge_cease_date['Age'].map(myagegroup)"
   ]
  },
  {
   "cell_type": "code",
   "execution_count": 48,
   "metadata": {},
   "outputs": [],
   "source": [
    "#convert Service length numeric values to strings\n",
    "merge_cease_date['Service_Length'] = merge_cease_date['Service_Length'].map(myservgroup)"
   ]
  },
  {
   "cell_type": "code",
   "execution_count": 49,
   "metadata": {},
   "outputs": [
    {
     "data": {
      "text/html": [
       "<div>\n",
       "<style scoped>\n",
       "    .dataframe tbody tr th:only-of-type {\n",
       "        vertical-align: middle;\n",
       "    }\n",
       "\n",
       "    .dataframe tbody tr th {\n",
       "        vertical-align: top;\n",
       "    }\n",
       "\n",
       "    .dataframe thead th {\n",
       "        text-align: right;\n",
       "    }\n",
       "</style>\n",
       "<table border=\"1\" class=\"dataframe\">\n",
       "  <thead>\n",
       "    <tr style=\"text-align: right;\">\n",
       "      <th></th>\n",
       "      <th>Age</th>\n",
       "      <th>Cease_Date</th>\n",
       "      <th>Combined_Dissatisfaction</th>\n",
       "      <th>Database</th>\n",
       "      <th>Dept_Dissatisfaction</th>\n",
       "      <th>Dissatisfaction</th>\n",
       "      <th>Institute_Service_Length</th>\n",
       "      <th>Job_Dissatisfaction</th>\n",
       "      <th>Role_Start_Date</th>\n",
       "      <th>Service_Length</th>\n",
       "      <th>Workplace_Service_Length</th>\n",
       "    </tr>\n",
       "  </thead>\n",
       "  <tbody>\n",
       "    <tr>\n",
       "      <th>0</th>\n",
       "      <td>Older</td>\n",
       "      <td>2012.0</td>\n",
       "      <td>True</td>\n",
       "      <td>dete_survey</td>\n",
       "      <td>False</td>\n",
       "      <td>NaN</td>\n",
       "      <td>NaN</td>\n",
       "      <td>True</td>\n",
       "      <td>2004.0</td>\n",
       "      <td>Long_Service</td>\n",
       "      <td>NaN</td>\n",
       "    </tr>\n",
       "    <tr>\n",
       "      <th>2</th>\n",
       "      <td>Older</td>\n",
       "      <td>2012.0</td>\n",
       "      <td>False</td>\n",
       "      <td>dete_survey</td>\n",
       "      <td>False</td>\n",
       "      <td>NaN</td>\n",
       "      <td>NaN</td>\n",
       "      <td>False</td>\n",
       "      <td>2011.0</td>\n",
       "      <td>Long_Service</td>\n",
       "      <td>NaN</td>\n",
       "    </tr>\n",
       "    <tr>\n",
       "      <th>3</th>\n",
       "      <td>Younger</td>\n",
       "      <td>2012.0</td>\n",
       "      <td>False</td>\n",
       "      <td>dete_survey</td>\n",
       "      <td>False</td>\n",
       "      <td>NaN</td>\n",
       "      <td>NaN</td>\n",
       "      <td>False</td>\n",
       "      <td>2006.0</td>\n",
       "      <td>Long_Service</td>\n",
       "      <td>NaN</td>\n",
       "    </tr>\n",
       "    <tr>\n",
       "      <th>4</th>\n",
       "      <td>Older</td>\n",
       "      <td>2012.0</td>\n",
       "      <td>False</td>\n",
       "      <td>dete_survey</td>\n",
       "      <td>False</td>\n",
       "      <td>NaN</td>\n",
       "      <td>NaN</td>\n",
       "      <td>False</td>\n",
       "      <td>1989.0</td>\n",
       "      <td>Short_Service</td>\n",
       "      <td>NaN</td>\n",
       "    </tr>\n",
       "    <tr>\n",
       "      <th>5</th>\n",
       "      <td>Younger</td>\n",
       "      <td>2012.0</td>\n",
       "      <td>False</td>\n",
       "      <td>dete_survey</td>\n",
       "      <td>False</td>\n",
       "      <td>NaN</td>\n",
       "      <td>NaN</td>\n",
       "      <td>False</td>\n",
       "      <td>1997.0</td>\n",
       "      <td>Short_Service</td>\n",
       "      <td>NaN</td>\n",
       "    </tr>\n",
       "  </tbody>\n",
       "</table>\n",
       "</div>"
      ],
      "text/plain": [
       "       Age  Cease_Date  Combined_Dissatisfaction     Database  \\\n",
       "0    Older      2012.0                      True  dete_survey   \n",
       "2    Older      2012.0                     False  dete_survey   \n",
       "3  Younger      2012.0                     False  dete_survey   \n",
       "4    Older      2012.0                     False  dete_survey   \n",
       "5  Younger      2012.0                     False  dete_survey   \n",
       "\n",
       "  Dept_Dissatisfaction Dissatisfaction  Institute_Service_Length  \\\n",
       "0                False             NaN                       NaN   \n",
       "2                False             NaN                       NaN   \n",
       "3                False             NaN                       NaN   \n",
       "4                False             NaN                       NaN   \n",
       "5                False             NaN                       NaN   \n",
       "\n",
       "  Job_Dissatisfaction  Role_Start_Date Service_Length  \\\n",
       "0                True           2004.0   Long_Service   \n",
       "2               False           2011.0   Long_Service   \n",
       "3               False           2006.0   Long_Service   \n",
       "4               False           1989.0  Short_Service   \n",
       "5               False           1997.0  Short_Service   \n",
       "\n",
       "   Workplace_Service_Length  \n",
       "0                       NaN  \n",
       "2                       NaN  \n",
       "3                       NaN  \n",
       "4                       NaN  \n",
       "5                       NaN  "
      ]
     },
     "execution_count": 49,
     "metadata": {},
     "output_type": "execute_result"
    }
   ],
   "source": [
    "merge_cease_date.head()"
   ]
  },
  {
   "cell_type": "code",
   "execution_count": 50,
   "metadata": {},
   "outputs": [],
   "source": [
    "#create the final dataset\n",
    "final_dset = merge_cease_date[['Age', \n",
    "                             'Combined_Dissatisfaction',\n",
    "                            'Service_Length',\n",
    "                              ]].copy()"
   ]
  },
  {
   "cell_type": "code",
   "execution_count": 51,
   "metadata": {},
   "outputs": [
    {
     "data": {
      "text/html": [
       "<div>\n",
       "<style scoped>\n",
       "    .dataframe tbody tr th:only-of-type {\n",
       "        vertical-align: middle;\n",
       "    }\n",
       "\n",
       "    .dataframe tbody tr th {\n",
       "        vertical-align: top;\n",
       "    }\n",
       "\n",
       "    .dataframe thead th {\n",
       "        text-align: right;\n",
       "    }\n",
       "</style>\n",
       "<table border=\"1\" class=\"dataframe\">\n",
       "  <thead>\n",
       "    <tr style=\"text-align: right;\">\n",
       "      <th></th>\n",
       "      <th>Age</th>\n",
       "      <th>Combined_Dissatisfaction</th>\n",
       "      <th>Service_Length</th>\n",
       "    </tr>\n",
       "  </thead>\n",
       "  <tbody>\n",
       "    <tr>\n",
       "      <th>0</th>\n",
       "      <td>Older</td>\n",
       "      <td>True</td>\n",
       "      <td>Long_Service</td>\n",
       "    </tr>\n",
       "    <tr>\n",
       "      <th>2</th>\n",
       "      <td>Older</td>\n",
       "      <td>False</td>\n",
       "      <td>Long_Service</td>\n",
       "    </tr>\n",
       "    <tr>\n",
       "      <th>3</th>\n",
       "      <td>Younger</td>\n",
       "      <td>False</td>\n",
       "      <td>Long_Service</td>\n",
       "    </tr>\n",
       "    <tr>\n",
       "      <th>4</th>\n",
       "      <td>Older</td>\n",
       "      <td>False</td>\n",
       "      <td>Short_Service</td>\n",
       "    </tr>\n",
       "    <tr>\n",
       "      <th>5</th>\n",
       "      <td>Younger</td>\n",
       "      <td>False</td>\n",
       "      <td>Short_Service</td>\n",
       "    </tr>\n",
       "  </tbody>\n",
       "</table>\n",
       "</div>"
      ],
      "text/plain": [
       "       Age  Combined_Dissatisfaction Service_Length\n",
       "0    Older                      True   Long_Service\n",
       "2    Older                     False   Long_Service\n",
       "3  Younger                     False   Long_Service\n",
       "4    Older                     False  Short_Service\n",
       "5  Younger                     False  Short_Service"
      ]
     },
     "execution_count": 51,
     "metadata": {},
     "output_type": "execute_result"
    }
   ],
   "source": [
    "final_dset.head()"
   ]
  },
  {
   "cell_type": "code",
   "execution_count": 52,
   "metadata": {},
   "outputs": [
    {
     "name": "stdout",
     "output_type": "stream",
     "text": [
      "<class 'pandas.core.frame.DataFrame'>\n",
      "Int64Index: 1399 entries, 0 to 701\n",
      "Data columns (total 3 columns):\n",
      "Age                         1399 non-null object\n",
      "Combined_Dissatisfaction    1399 non-null bool\n",
      "Service_Length              1399 non-null object\n",
      "dtypes: bool(1), object(2)\n",
      "memory usage: 34.2+ KB\n"
     ]
    }
   ],
   "source": [
    "final_dset.info()"
   ]
  },
  {
   "cell_type": "code",
   "execution_count": 53,
   "metadata": {},
   "outputs": [],
   "source": [
    "#boolean filters\n",
    "older_long_filter = ((final_dset[\"Age\"] == 'Older') & \n",
    "                     (final_dset['Service_Length'] == 'Long_Service')\n",
    "                    )\n",
    "older_short_filter = ((final_dset[\"Age\"] == 'Older') & \n",
    "                     (final_dset['Service_Length'] == 'Short_Service')\n",
    "                    )\n",
    "young_long_filter = ((final_dset[\"Age\"] == 'Younger') & \n",
    "                     (final_dset['Service_Length'] == 'Long_Service')\n",
    "                    )\n",
    "young_short_filter = ((final_dset[\"Age\"] == 'Younger') & \n",
    "                     (final_dset['Service_Length'] == 'Short_Service')\n",
    "                    )"
   ]
  },
  {
   "cell_type": "code",
   "execution_count": 54,
   "metadata": {},
   "outputs": [
    {
     "name": "stdout",
     "output_type": "stream",
     "text": [
      "False    278\n",
      "True      51\n",
      "Name: Combined_Dissatisfaction, dtype: int64\n"
     ]
    }
   ],
   "source": [
    "older_long = final_dset[older_long_filter]\n",
    "print(older_long['Combined_Dissatisfaction'].value_counts())"
   ]
  },
  {
   "cell_type": "code",
   "execution_count": 55,
   "metadata": {},
   "outputs": [
    {
     "name": "stdout",
     "output_type": "stream",
     "text": [
      "False    385\n",
      "True      58\n",
      "Name: Combined_Dissatisfaction, dtype: int64\n"
     ]
    }
   ],
   "source": [
    "older_short = final_dset[older_short_filter]\n",
    "print(older_short['Combined_Dissatisfaction'].value_counts())"
   ]
  },
  {
   "cell_type": "code",
   "execution_count": 56,
   "metadata": {},
   "outputs": [
    {
     "name": "stdout",
     "output_type": "stream",
     "text": [
      "False    512\n",
      "True      78\n",
      "Name: Combined_Dissatisfaction, dtype: int64\n"
     ]
    }
   ],
   "source": [
    "young_long = final_dset[young_long_filter]\n",
    "print(young_long['Combined_Dissatisfaction'].value_counts())"
   ]
  },
  {
   "cell_type": "code",
   "execution_count": 57,
   "metadata": {},
   "outputs": [
    {
     "name": "stdout",
     "output_type": "stream",
     "text": [
      "False    32\n",
      "True      5\n",
      "Name: Combined_Dissatisfaction, dtype: int64\n"
     ]
    }
   ],
   "source": [
    "young_short = final_dset[young_short_filter]\n",
    "print(young_short['Combined_Dissatisfaction'].value_counts())"
   ]
  },
  {
   "cell_type": "code",
   "execution_count": 58,
   "metadata": {},
   "outputs": [],
   "source": [
    "data = {'Group': ['old_long_perc', 'old_short_perc', \n",
    "                  'young_long_perc', 'young_short_perc'],\n",
    "       'Perc': [51/278 * 100, 58/385 * 100, 78/512 * 100, 5/32 * 100]}"
   ]
  },
  {
   "cell_type": "code",
   "execution_count": 59,
   "metadata": {},
   "outputs": [],
   "source": [
    "my_plot_df = pd.DataFrame(data)"
   ]
  },
  {
   "cell_type": "code",
   "execution_count": 60,
   "metadata": {},
   "outputs": [
    {
     "data": {
      "text/html": [
       "<div>\n",
       "<style scoped>\n",
       "    .dataframe tbody tr th:only-of-type {\n",
       "        vertical-align: middle;\n",
       "    }\n",
       "\n",
       "    .dataframe tbody tr th {\n",
       "        vertical-align: top;\n",
       "    }\n",
       "\n",
       "    .dataframe thead th {\n",
       "        text-align: right;\n",
       "    }\n",
       "</style>\n",
       "<table border=\"1\" class=\"dataframe\">\n",
       "  <thead>\n",
       "    <tr style=\"text-align: right;\">\n",
       "      <th></th>\n",
       "      <th>Group</th>\n",
       "      <th>Perc</th>\n",
       "    </tr>\n",
       "  </thead>\n",
       "  <tbody>\n",
       "    <tr>\n",
       "      <th>0</th>\n",
       "      <td>old_long_perc</td>\n",
       "      <td>18.345324</td>\n",
       "    </tr>\n",
       "    <tr>\n",
       "      <th>1</th>\n",
       "      <td>old_short_perc</td>\n",
       "      <td>15.064935</td>\n",
       "    </tr>\n",
       "    <tr>\n",
       "      <th>2</th>\n",
       "      <td>young_long_perc</td>\n",
       "      <td>15.234375</td>\n",
       "    </tr>\n",
       "    <tr>\n",
       "      <th>3</th>\n",
       "      <td>young_short_perc</td>\n",
       "      <td>15.625000</td>\n",
       "    </tr>\n",
       "  </tbody>\n",
       "</table>\n",
       "</div>"
      ],
      "text/plain": [
       "              Group       Perc\n",
       "0     old_long_perc  18.345324\n",
       "1    old_short_perc  15.064935\n",
       "2   young_long_perc  15.234375\n",
       "3  young_short_perc  15.625000"
      ]
     },
     "execution_count": 60,
     "metadata": {},
     "output_type": "execute_result"
    }
   ],
   "source": [
    "my_plot_df"
   ]
  },
  {
   "cell_type": "code",
   "execution_count": 61,
   "metadata": {},
   "outputs": [
    {
     "data": {
      "image/png": "[encoded data removed]",
      "text/plain": [
       "<Figure size 432x288 with 1 Axes>"
      ]
     },
     "metadata": {
      "needs_background": "light"
     },
     "output_type": "display_data"
    }
   ],
   "source": [
    "ax = my_plot_df.plot(kind = 'bar', x = 'Group', y = 'Perc', \n",
    "                title = '% Individuals Leaving Because of Job Dissatisfaction',\n",
    "               )\n",
    "\n",
    "ax.set_xlabel(\"Group\")\n",
    "ax.set_ylabel(\"Percentage\")\n",
    "ax.get_legend().remove()"
   ]
  },
  {
   "cell_type": "markdown",
   "metadata": {},
   "source": [
    "<font color=red>CONCLUSION</font> \n",
    "\n",
    "The original questions being answered were - \n",
    "\n",
    "1.  Are there differences in dissatisfaction due to  employee years of service?\n",
    "2.  Are there differences in dissatisfaction due to  employee age?\n",
    "\n",
    "Based on the bar chart above, I conclude the older, long term employees have a slightly higher job dissatisfaction rate than the other employee groups. \n"
   ]
  },
  {
   "cell_type": "code",
   "execution_count": null,
   "metadata": {},
   "outputs": [],
   "source": []
  }
 ],
 "metadata": {
  "kernelspec": {
   "display_name": "Python 3",
   "language": "python",
   "name": "python3"
  },
  "language_info": {
   "codemirror_mode": {
    "name": "ipython",
    "version": 3
   },
   "file_extension": ".py",
   "mimetype": "text/x-python",
   "name": "python",
   "nbconvert_exporter": "python",
   "pygments_lexer": "ipython3",
   "version": "3.7.3"
  }
 },
 "nbformat": 4,
 "nbformat_minor": 2
}
