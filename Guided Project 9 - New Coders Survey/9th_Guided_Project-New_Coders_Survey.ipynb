{
 "cells": [
  {
   "cell_type": "markdown",
   "metadata": {},
   "source": [
    "**TITLE** - Determine two best markets for our product advertisements\n",
    "\n",
    "**INTRODUCTION**\n",
    "\n",
    "The goal of this project is to determine the two best markets (countries) for advertising our on-line coding education products.\n",
    "\n",
    "The project will use an available dataset from the freeCodeCamp 2017 survey of new coders.  FreeCodeCamp runs Medium, a coding publication with 400,000+ followers, representing various countries and various coding interests.  The survey contains 18K+ responses.  This dataset should provide an adequate sample size for our analysis.  The dataset can be found at https://github.com/freeCodeCamp/2017-new-coder-survey<br><br>"
   ]
  },
  {
   "cell_type": "code",
   "execution_count": 4,
   "metadata": {
    "collapsed": true
   },
   "outputs": [],
   "source": [
    "import pandas as pd\n",
    "import matplotlib.pyplot as plt\n",
    "%matplotlib inline\n",
    "import numpy as np"
   ]
  },
  {
   "cell_type": "code",
   "execution_count": 34,
   "metadata": {},
   "outputs": [],
   "source": [
    "df = pd.read_csv('2017-fCC-New-Coders-Survey-Data.csv', low_memory = False)"
   ]
  },
  {
   "cell_type": "code",
   "execution_count": 35,
   "metadata": {},
   "outputs": [
    {
     "data": {
      "text/plain": [
       "(18175, 136)"
      ]
     },
     "execution_count": 35,
     "metadata": {},
     "output_type": "execute_result"
    }
   ],
   "source": [
    "df.shape"
   ]
  },
  {
   "cell_type": "code",
   "execution_count": 4,
   "metadata": {},
   "outputs": [
    {
     "data": {
      "text/html": [
       "<div>\n",
       "<style scoped>\n",
       "    .dataframe tbody tr th:only-of-type {\n",
       "        vertical-align: middle;\n",
       "    }\n",
       "\n",
       "    .dataframe tbody tr th {\n",
       "        vertical-align: top;\n",
       "    }\n",
       "\n",
       "    .dataframe thead th {\n",
       "        text-align: right;\n",
       "    }\n",
       "</style>\n",
       "<table border=\"1\" class=\"dataframe\">\n",
       "  <thead>\n",
       "    <tr style=\"text-align: right;\">\n",
       "      <th></th>\n",
       "      <th>Age</th>\n",
       "      <th>AttendedBootcamp</th>\n",
       "      <th>BootcampFinish</th>\n",
       "      <th>BootcampLoanYesNo</th>\n",
       "      <th>BootcampName</th>\n",
       "      <th>BootcampRecommend</th>\n",
       "      <th>ChildrenNumber</th>\n",
       "      <th>CityPopulation</th>\n",
       "      <th>CodeEventConferences</th>\n",
       "      <th>CodeEventDjangoGirls</th>\n",
       "      <th>...</th>\n",
       "      <th>YouTubeFCC</th>\n",
       "      <th>YouTubeFunFunFunction</th>\n",
       "      <th>YouTubeGoogleDev</th>\n",
       "      <th>YouTubeLearnCode</th>\n",
       "      <th>YouTubeLevelUpTuts</th>\n",
       "      <th>YouTubeMIT</th>\n",
       "      <th>YouTubeMozillaHacks</th>\n",
       "      <th>YouTubeOther</th>\n",
       "      <th>YouTubeSimplilearn</th>\n",
       "      <th>YouTubeTheNewBoston</th>\n",
       "    </tr>\n",
       "  </thead>\n",
       "  <tbody>\n",
       "    <tr>\n",
       "      <th>0</th>\n",
       "      <td>27.0</td>\n",
       "      <td>0.0</td>\n",
       "      <td>NaN</td>\n",
       "      <td>NaN</td>\n",
       "      <td>NaN</td>\n",
       "      <td>NaN</td>\n",
       "      <td>NaN</td>\n",
       "      <td>more than 1 million</td>\n",
       "      <td>NaN</td>\n",
       "      <td>NaN</td>\n",
       "      <td>...</td>\n",
       "      <td>NaN</td>\n",
       "      <td>NaN</td>\n",
       "      <td>NaN</td>\n",
       "      <td>NaN</td>\n",
       "      <td>NaN</td>\n",
       "      <td>NaN</td>\n",
       "      <td>NaN</td>\n",
       "      <td>NaN</td>\n",
       "      <td>NaN</td>\n",
       "      <td>NaN</td>\n",
       "    </tr>\n",
       "    <tr>\n",
       "      <th>1</th>\n",
       "      <td>34.0</td>\n",
       "      <td>0.0</td>\n",
       "      <td>NaN</td>\n",
       "      <td>NaN</td>\n",
       "      <td>NaN</td>\n",
       "      <td>NaN</td>\n",
       "      <td>NaN</td>\n",
       "      <td>less than 100,000</td>\n",
       "      <td>NaN</td>\n",
       "      <td>NaN</td>\n",
       "      <td>...</td>\n",
       "      <td>1.0</td>\n",
       "      <td>NaN</td>\n",
       "      <td>NaN</td>\n",
       "      <td>NaN</td>\n",
       "      <td>NaN</td>\n",
       "      <td>NaN</td>\n",
       "      <td>NaN</td>\n",
       "      <td>NaN</td>\n",
       "      <td>NaN</td>\n",
       "      <td>NaN</td>\n",
       "    </tr>\n",
       "  </tbody>\n",
       "</table>\n",
       "<p>2 rows × 136 columns</p>\n",
       "</div>"
      ],
      "text/plain": [
       "    Age  AttendedBootcamp  BootcampFinish  BootcampLoanYesNo BootcampName  \\\n",
       "0  27.0               0.0             NaN                NaN          NaN   \n",
       "1  34.0               0.0             NaN                NaN          NaN   \n",
       "\n",
       "   BootcampRecommend  ChildrenNumber       CityPopulation  \\\n",
       "0                NaN             NaN  more than 1 million   \n",
       "1                NaN             NaN    less than 100,000   \n",
       "\n",
       "   CodeEventConferences  CodeEventDjangoGirls         ...           \\\n",
       "0                   NaN                   NaN         ...            \n",
       "1                   NaN                   NaN         ...            \n",
       "\n",
       "   YouTubeFCC  YouTubeFunFunFunction  YouTubeGoogleDev  YouTubeLearnCode  \\\n",
       "0         NaN                    NaN               NaN               NaN   \n",
       "1         1.0                    NaN               NaN               NaN   \n",
       "\n",
       "   YouTubeLevelUpTuts  YouTubeMIT  YouTubeMozillaHacks YouTubeOther  \\\n",
       "0                 NaN         NaN                  NaN          NaN   \n",
       "1                 NaN         NaN                  NaN          NaN   \n",
       "\n",
       "   YouTubeSimplilearn  YouTubeTheNewBoston  \n",
       "0                 NaN                  NaN  \n",
       "1                 NaN                  NaN  \n",
       "\n",
       "[2 rows x 136 columns]"
      ]
     },
     "execution_count": 4,
     "metadata": {},
     "output_type": "execute_result"
    }
   ],
   "source": [
    "df.head(2)"
   ]
  },
  {
   "cell_type": "code",
   "execution_count": null,
   "metadata": {},
   "outputs": [],
   "source": [
    "pd.set_option('display.max_columns', None)\n",
    "df.columns.values"
   ]
  },
  {
   "cell_type": "markdown",
   "metadata": {},
   "source": [
    "<br><br><font color=blue>NOTE:</font>  Reviewed the GitHub repository for further information on these columns.  Replace df to contain only columns on employment, age, country of residence, employment and money spent of programming training.<br><br>"
   ]
  },
  {
   "cell_type": "code",
   "execution_count": 37,
   "metadata": {
    "collapsed": true
   },
   "outputs": [],
   "source": [
    "df = df.loc[:, ['NetworkID','Age', 'AttendedBootcamp', 'CountryLive', 'EmploymentField', 'EmploymentFieldOther',\n",
    "                'EmploymentStatus', 'EmploymentStatusOther','HoursLearning', 'JobInterestBackEnd','JobInterestDataEngr', \n",
    "                'JobInterestDataSci', 'JobInterestDevOps','JobInterestFrontEnd', 'JobInterestFullStack','JobInterestGameDev',\n",
    "                'JobInterestInfoSec', 'JobInterestMobile','JobInterestOther', 'JobInterestProjMngr', 'JobInterestQAEngr',\n",
    "                'JobInterestUX', 'JobPref', 'JobRoleInterest', 'MoneyForLearning', 'MonthsProgramming' ]].copy()"
   ]
  },
  {
   "cell_type": "code",
   "execution_count": 70,
   "metadata": {
    "scrolled": true
   },
   "outputs": [
    {
     "data": {
      "text/html": [
       "<div>\n",
       "<style scoped>\n",
       "    .dataframe tbody tr th:only-of-type {\n",
       "        vertical-align: middle;\n",
       "    }\n",
       "\n",
       "    .dataframe tbody tr th {\n",
       "        vertical-align: top;\n",
       "    }\n",
       "\n",
       "    .dataframe thead th {\n",
       "        text-align: right;\n",
       "    }\n",
       "</style>\n",
       "<table border=\"1\" class=\"dataframe\">\n",
       "  <thead>\n",
       "    <tr style=\"text-align: right;\">\n",
       "      <th></th>\n",
       "      <th>NetworkID</th>\n",
       "      <th>Age</th>\n",
       "      <th>AttendedBootcamp</th>\n",
       "      <th>CountryLive</th>\n",
       "      <th>EmploymentField</th>\n",
       "      <th>EmploymentFieldOther</th>\n",
       "      <th>EmploymentStatus</th>\n",
       "      <th>EmploymentStatusOther</th>\n",
       "      <th>HoursLearning</th>\n",
       "      <th>JobInterestBackEnd</th>\n",
       "      <th>JobInterestDataEngr</th>\n",
       "      <th>JobInterestDataSci</th>\n",
       "      <th>JobInterestDevOps</th>\n",
       "      <th>JobInterestFrontEnd</th>\n",
       "      <th>JobInterestFullStack</th>\n",
       "      <th>JobInterestGameDev</th>\n",
       "      <th>JobInterestInfoSec</th>\n",
       "      <th>JobInterestMobile</th>\n",
       "      <th>JobInterestOther</th>\n",
       "      <th>JobInterestProjMngr</th>\n",
       "      <th>JobInterestQAEngr</th>\n",
       "      <th>JobInterestUX</th>\n",
       "      <th>JobPref</th>\n",
       "      <th>JobRoleInterest</th>\n",
       "      <th>MoneyForLearning</th>\n",
       "      <th>MonthsProgramming</th>\n",
       "    </tr>\n",
       "  </thead>\n",
       "  <tbody>\n",
       "    <tr>\n",
       "      <th>0</th>\n",
       "      <td>6f1fbc6b2b</td>\n",
       "      <td>27.0</td>\n",
       "      <td>0.0</td>\n",
       "      <td>Canada</td>\n",
       "      <td>software development and IT</td>\n",
       "      <td>NaN</td>\n",
       "      <td>Employed for wages</td>\n",
       "      <td>NaN</td>\n",
       "      <td>15.0</td>\n",
       "      <td>NaN</td>\n",
       "      <td>NaN</td>\n",
       "      <td>NaN</td>\n",
       "      <td>NaN</td>\n",
       "      <td>NaN</td>\n",
       "      <td>NaN</td>\n",
       "      <td>NaN</td>\n",
       "      <td>NaN</td>\n",
       "      <td>NaN</td>\n",
       "      <td>NaN</td>\n",
       "      <td>NaN</td>\n",
       "      <td>NaN</td>\n",
       "      <td>NaN</td>\n",
       "      <td>start your own business</td>\n",
       "      <td>NaN</td>\n",
       "      <td>150.0</td>\n",
       "      <td>6.0</td>\n",
       "    </tr>\n",
       "    <tr>\n",
       "      <th>1</th>\n",
       "      <td>f8f8be6910</td>\n",
       "      <td>34.0</td>\n",
       "      <td>0.0</td>\n",
       "      <td>United States of America</td>\n",
       "      <td>NaN</td>\n",
       "      <td>NaN</td>\n",
       "      <td>Not working but looking for work</td>\n",
       "      <td>NaN</td>\n",
       "      <td>10.0</td>\n",
       "      <td>NaN</td>\n",
       "      <td>NaN</td>\n",
       "      <td>NaN</td>\n",
       "      <td>NaN</td>\n",
       "      <td>NaN</td>\n",
       "      <td>1.0</td>\n",
       "      <td>NaN</td>\n",
       "      <td>NaN</td>\n",
       "      <td>NaN</td>\n",
       "      <td>NaN</td>\n",
       "      <td>NaN</td>\n",
       "      <td>NaN</td>\n",
       "      <td>NaN</td>\n",
       "      <td>work for a nonprofit</td>\n",
       "      <td>Full-Stack Web Developer</td>\n",
       "      <td>80.0</td>\n",
       "      <td>6.0</td>\n",
       "    </tr>\n",
       "  </tbody>\n",
       "</table>\n",
       "</div>"
      ],
      "text/plain": [
       "    NetworkID   Age  AttendedBootcamp               CountryLive  \\\n",
       "0  6f1fbc6b2b  27.0               0.0                    Canada   \n",
       "1  f8f8be6910  34.0               0.0  United States of America   \n",
       "\n",
       "               EmploymentField EmploymentFieldOther  \\\n",
       "0  software development and IT                  NaN   \n",
       "1                          NaN                  NaN   \n",
       "\n",
       "                   EmploymentStatus EmploymentStatusOther  HoursLearning  \\\n",
       "0                Employed for wages                   NaN           15.0   \n",
       "1  Not working but looking for work                   NaN           10.0   \n",
       "\n",
       "   JobInterestBackEnd  JobInterestDataEngr  JobInterestDataSci  \\\n",
       "0                 NaN                  NaN                 NaN   \n",
       "1                 NaN                  NaN                 NaN   \n",
       "\n",
       "   JobInterestDevOps  JobInterestFrontEnd  JobInterestFullStack  \\\n",
       "0                NaN                  NaN                   NaN   \n",
       "1                NaN                  NaN                   1.0   \n",
       "\n",
       "   JobInterestGameDev  JobInterestInfoSec  JobInterestMobile JobInterestOther  \\\n",
       "0                 NaN                 NaN                NaN              NaN   \n",
       "1                 NaN                 NaN                NaN              NaN   \n",
       "\n",
       "   JobInterestProjMngr  JobInterestQAEngr  JobInterestUX  \\\n",
       "0                  NaN                NaN            NaN   \n",
       "1                  NaN                NaN            NaN   \n",
       "\n",
       "                   JobPref           JobRoleInterest  MoneyForLearning  \\\n",
       "0  start your own business                       NaN             150.0   \n",
       "1     work for a nonprofit  Full-Stack Web Developer              80.0   \n",
       "\n",
       "   MonthsProgramming  \n",
       "0                6.0  \n",
       "1                6.0  "
      ]
     },
     "execution_count": 70,
     "metadata": {},
     "output_type": "execute_result"
    }
   ],
   "source": [
    "df.head(2)"
   ]
  },
  {
   "cell_type": "code",
   "execution_count": 38,
   "metadata": {},
   "outputs": [
    {
     "data": {
      "text/plain": [
       "(6992, 26)"
      ]
     },
     "execution_count": 38,
     "metadata": {},
     "output_type": "execute_result"
    }
   ],
   "source": [
    "#drop rows where respondent didn't provide a \n",
    "#job role interest\n",
    "df = df.dropna(axis = 'index', \n",
    "               subset = ['JobRoleInterest'])\n",
    "df.shape"
   ]
  },
  {
   "cell_type": "markdown",
   "metadata": {},
   "source": [
    "<br><br>*How many respondents are interested in mobile, web, game development or data science?*"
   ]
  },
  {
   "cell_type": "code",
   "execution_count": null,
   "metadata": {},
   "outputs": [],
   "source": [
    "#value count for all job interests\n",
    "job_interest = df['JobRoleInterest'].value_counts(normalize = True)\n",
    "job_interest"
   ]
  },
  {
   "cell_type": "markdown",
   "metadata": {},
   "source": [
    "<br>*How many times does `JobRoleInterest` have more than one entry?\"*"
   ]
  },
  {
   "cell_type": "code",
   "execution_count": null,
   "metadata": {},
   "outputs": [],
   "source": [
    "job_interest_1 = df['JobRoleInterest'].str.extract(r\"(\\w,)\")"
   ]
  },
  {
   "cell_type": "code",
   "execution_count": 31,
   "metadata": {},
   "outputs": [
    {
     "name": "stdout",
     "output_type": "stream",
     "text": [
      "68.3% of respondents are interested in more than one \n",
      "type of job role\n"
     ]
    }
   ],
   "source": [
    "ji1_value = job_interest_1.value_counts().sum()/6992*100\n",
    "print('''{:.1f}% of respondents are interested in more than one \n",
    "type of job role'''.format(ji1_value))"
   ]
  },
  {
   "cell_type": "markdown",
   "metadata": {},
   "source": [
    "<br>*How many times does `JobRoleInterest` include \"[Ww]eb?\"*"
   ]
  },
  {
   "cell_type": "code",
   "execution_count": null,
   "metadata": {},
   "outputs": [],
   "source": [
    "job_web = df['JobRoleInterest'].str.extract(r\"([Ww]eb)\")"
   ]
  },
  {
   "cell_type": "code",
   "execution_count": 16,
   "metadata": {},
   "outputs": [
    {
     "data": {
      "text/plain": [
       "Web    5780\n",
       "web       1\n",
       "Name: JobRoleInterest, dtype: int64"
      ]
     },
     "execution_count": 16,
     "metadata": {},
     "output_type": "execute_result"
    }
   ],
   "source": [
    "job_web.value_counts()"
   ]
  },
  {
   "cell_type": "markdown",
   "metadata": {},
   "source": [
    "<br>*How many times does `JobRoleInterest` include \"[Mm]obile?\"*"
   ]
  },
  {
   "cell_type": "code",
   "execution_count": null,
   "metadata": {},
   "outputs": [],
   "source": [
    "job_mobile = df['JobRoleInterest'].str.extract(r\"([Mm]obile)\")"
   ]
  },
  {
   "cell_type": "code",
   "execution_count": 19,
   "metadata": {},
   "outputs": [
    {
     "data": {
      "text/plain": [
       "Mobile    2304\n",
       "mobile       1\n",
       "Name: JobRoleInterest, dtype: int64"
      ]
     },
     "execution_count": 19,
     "metadata": {},
     "output_type": "execute_result"
    }
   ],
   "source": [
    "job_mobile.value_counts()"
   ]
  },
  {
   "cell_type": "markdown",
   "metadata": {},
   "source": [
    "<br>*How many times does JobRoleInterest include \"[Gg]ame?\"*"
   ]
  },
  {
   "cell_type": "code",
   "execution_count": null,
   "metadata": {},
   "outputs": [],
   "source": [
    "job_games = df['JobRoleInterest'].str.extract(r\"([Gg]ame)\")"
   ]
  },
  {
   "cell_type": "code",
   "execution_count": 21,
   "metadata": {},
   "outputs": [
    {
     "data": {
      "text/plain": [
       "Game    1628\n",
       "game       1\n",
       "Name: JobRoleInterest, dtype: int64"
      ]
     },
     "execution_count": 21,
     "metadata": {},
     "output_type": "execute_result"
    }
   ],
   "source": [
    "job_games.value_counts()"
   ]
  },
  {
   "cell_type": "markdown",
   "metadata": {},
   "source": [
    "<br>*How many times does JobRoleInterest include \"[Dd]ata [Ss]cien?\"*"
   ]
  },
  {
   "cell_type": "code",
   "execution_count": null,
   "metadata": {},
   "outputs": [],
   "source": [
    "job_data_sci = df['JobRoleInterest'].str.extract(r\"([Dd]ata\\s[Ss]cien)\")"
   ]
  },
  {
   "cell_type": "code",
   "execution_count": 23,
   "metadata": {},
   "outputs": [
    {
     "data": {
      "text/plain": [
       "Data Scien    1643\n",
       "Name: JobRoleInterest, dtype: int64"
      ]
     },
     "execution_count": 23,
     "metadata": {},
     "output_type": "execute_result"
    }
   ],
   "source": [
    "job_data_sci.value_counts()"
   ]
  },
  {
   "cell_type": "markdown",
   "metadata": {},
   "source": [
    "*Create Bar chart showing the % of survey respondents with job interest in Web, Mobile, Game, Data Science*"
   ]
  },
  {
   "cell_type": "code",
   "execution_count": 9,
   "metadata": {
    "scrolled": true
   },
   "outputs": [
    {
     "data": {
      "image/png": "[encoded data removed]",
      "text/plain": [
       "<matplotlib.figure.Figure at 0x7f28e84f1668>"
      ]
     },
     "metadata": {},
     "output_type": "display_data"
    }
   ],
   "source": [
    "labels = ['Web', 'Mobile', 'Game', 'Data Science']\n",
    "height = [5781/6992*100, 2305/6992*100,1629/6992*100,\n",
    "        1643/6992*100]\n",
    "bar_position = np.arange(len(labels))\n",
    "\n",
    "fig, ax = plt.subplots(figsize= (12,6))\n",
    "plt.bar(bar_position,height, tick_label = labels,\n",
    "        align = \"center\", color = ['b', 'g', 'r', 'c'])\n",
    "plt.ylabel('% of survey respondents', fontsize = 14)\n",
    "plt.grid(which = 'major', axis = 'y')\n",
    "ax.spines['right'].set_visible(False)\n",
    "ax.spines['top'].set_visible(False)\n",
    "ax.xaxis.set_ticks_position('bottom')\n",
    "ax.yaxis.set_ticks_position('left')\n",
    "ax.set_title(\"Web Development Highest Interest Job\", fontsize = 18)\n",
    "\n",
    "plt.show()"
   ]
  },
  {
   "cell_type": "markdown",
   "metadata": {},
   "source": [
    "*Of the categories we have courses for, Web Development is most common job of interest*<br><br>"
   ]
  },
  {
   "cell_type": "markdown",
   "metadata": {},
   "source": [
    "*Countries where the respondents live*"
   ]
  },
  {
   "cell_type": "code",
   "execution_count": 72,
   "metadata": {},
   "outputs": [
    {
     "data": {
      "text/plain": [
       "United States of America    3125\n",
       "India                        528\n",
       "United Kingdom               315\n",
       "Canada                       260\n",
       "Poland                       131\n",
       "Brazil                       129\n",
       "Germany                      125\n",
       "Australia                    112\n",
       "Russia                       102\n",
       "Ukraine                       89\n",
       "Name: CountryLive, dtype: int64"
      ]
     },
     "execution_count": 72,
     "metadata": {},
     "output_type": "execute_result"
    }
   ],
   "source": [
    "df['CountryLive'].value_counts().head(10)"
   ]
  },
  {
   "cell_type": "code",
   "execution_count": 37,
   "metadata": {},
   "outputs": [
    {
     "data": {
      "text/plain": [
       "United States of America    0.457005\n",
       "India                       0.077216\n",
       "United Kingdom              0.046066\n",
       "Canada                      0.038023\n",
       "Poland                      0.019158\n",
       "Brazil                      0.018865\n",
       "Germany                     0.018280\n",
       "Australia                   0.016379\n",
       "Russia                      0.014917\n",
       "Ukraine                     0.013016\n",
       "Name: CountryLive, dtype: float64"
      ]
     },
     "execution_count": 37,
     "metadata": {},
     "output_type": "execute_result"
    }
   ],
   "source": [
    "df['CountryLive'].value_counts(normalize = True).head(10)"
   ]
  },
  {
   "cell_type": "markdown",
   "metadata": {},
   "source": [
    "The US is by far the biggest market, representing almost half of the respondents country of residence. India, the UK and Canada represent 7%, 4.6% and 3.8% respectively.  All other countries are < 2%.<br><br><br>"
   ]
  },
  {
   "cell_type": "markdown",
   "metadata": {},
   "source": [
    "*Determine how many months the respondents have been programming, replacing 0 months with 1 month*"
   ]
  },
  {
   "cell_type": "code",
   "execution_count": 39,
   "metadata": {},
   "outputs": [],
   "source": [
    "df['MonthsProgramming'].replace(to_replace =0, value = 1, inplace = True)"
   ]
  },
  {
   "cell_type": "code",
   "execution_count": 40,
   "metadata": {},
   "outputs": [
    {
     "data": {
      "text/plain": [
       "(6633, 26)"
      ]
     },
     "execution_count": 40,
     "metadata": {},
     "output_type": "execute_result"
    }
   ],
   "source": [
    "#drop null values for MonthsProgramming\n",
    "df = df[df['MonthsProgramming'].notnull()]\n",
    "df.shape"
   ]
  },
  {
   "cell_type": "code",
   "execution_count": 41,
   "metadata": {
    "collapsed": true
   },
   "outputs": [],
   "source": [
    "#money per month spent on learning\n",
    "df['MoneyperMonth'] = ( df['MoneyForLearning'] \n",
    "                       / df['MonthsProgramming']\n",
    "                      )"
   ]
  },
  {
   "cell_type": "code",
   "execution_count": 42,
   "metadata": {},
   "outputs": [
    {
     "data": {
      "text/html": [
       "<div>\n",
       "<style scoped>\n",
       "    .dataframe tbody tr th:only-of-type {\n",
       "        vertical-align: middle;\n",
       "    }\n",
       "\n",
       "    .dataframe tbody tr th {\n",
       "        vertical-align: top;\n",
       "    }\n",
       "\n",
       "    .dataframe thead th {\n",
       "        text-align: right;\n",
       "    }\n",
       "</style>\n",
       "<table border=\"1\" class=\"dataframe\">\n",
       "  <thead>\n",
       "    <tr style=\"text-align: right;\">\n",
       "      <th></th>\n",
       "      <th>NetworkID</th>\n",
       "      <th>Age</th>\n",
       "      <th>AttendedBootcamp</th>\n",
       "      <th>CountryLive</th>\n",
       "      <th>EmploymentField</th>\n",
       "      <th>EmploymentFieldOther</th>\n",
       "      <th>EmploymentStatus</th>\n",
       "      <th>EmploymentStatusOther</th>\n",
       "      <th>HoursLearning</th>\n",
       "      <th>JobInterestBackEnd</th>\n",
       "      <th>JobInterestDataEngr</th>\n",
       "      <th>JobInterestDataSci</th>\n",
       "      <th>JobInterestDevOps</th>\n",
       "      <th>JobInterestFrontEnd</th>\n",
       "      <th>JobInterestFullStack</th>\n",
       "      <th>JobInterestGameDev</th>\n",
       "      <th>JobInterestInfoSec</th>\n",
       "      <th>JobInterestMobile</th>\n",
       "      <th>JobInterestOther</th>\n",
       "      <th>JobInterestProjMngr</th>\n",
       "      <th>JobInterestQAEngr</th>\n",
       "      <th>JobInterestUX</th>\n",
       "      <th>JobPref</th>\n",
       "      <th>JobRoleInterest</th>\n",
       "      <th>MoneyForLearning</th>\n",
       "      <th>MonthsProgramming</th>\n",
       "      <th>MoneyperMonth</th>\n",
       "    </tr>\n",
       "  </thead>\n",
       "  <tbody>\n",
       "    <tr>\n",
       "      <th>1</th>\n",
       "      <td>f8f8be6910</td>\n",
       "      <td>34.0</td>\n",
       "      <td>0.0</td>\n",
       "      <td>United States of America</td>\n",
       "      <td>NaN</td>\n",
       "      <td>NaN</td>\n",
       "      <td>Not working but looking for work</td>\n",
       "      <td>NaN</td>\n",
       "      <td>10.0</td>\n",
       "      <td>NaN</td>\n",
       "      <td>NaN</td>\n",
       "      <td>NaN</td>\n",
       "      <td>NaN</td>\n",
       "      <td>NaN</td>\n",
       "      <td>1.0</td>\n",
       "      <td>NaN</td>\n",
       "      <td>NaN</td>\n",
       "      <td>NaN</td>\n",
       "      <td>NaN</td>\n",
       "      <td>NaN</td>\n",
       "      <td>NaN</td>\n",
       "      <td>NaN</td>\n",
       "      <td>work for a nonprofit</td>\n",
       "      <td>Full-Stack Web Developer</td>\n",
       "      <td>80.0</td>\n",
       "      <td>6.0</td>\n",
       "      <td>13.333333</td>\n",
       "    </tr>\n",
       "    <tr>\n",
       "      <th>2</th>\n",
       "      <td>2ed189768e</td>\n",
       "      <td>21.0</td>\n",
       "      <td>0.0</td>\n",
       "      <td>United States of America</td>\n",
       "      <td>software development and IT</td>\n",
       "      <td>NaN</td>\n",
       "      <td>Employed for wages</td>\n",
       "      <td>NaN</td>\n",
       "      <td>25.0</td>\n",
       "      <td>1.0</td>\n",
       "      <td>NaN</td>\n",
       "      <td>NaN</td>\n",
       "      <td>1.0</td>\n",
       "      <td>1.0</td>\n",
       "      <td>1.0</td>\n",
       "      <td>NaN</td>\n",
       "      <td>NaN</td>\n",
       "      <td>1.0</td>\n",
       "      <td>NaN</td>\n",
       "      <td>NaN</td>\n",
       "      <td>NaN</td>\n",
       "      <td>NaN</td>\n",
       "      <td>work for a medium-sized company</td>\n",
       "      <td>Front-End Web Developer, Back-End Web Develo...</td>\n",
       "      <td>1000.0</td>\n",
       "      <td>5.0</td>\n",
       "      <td>200.000000</td>\n",
       "    </tr>\n",
       "  </tbody>\n",
       "</table>\n",
       "</div>"
      ],
      "text/plain": [
       "    NetworkID   Age  AttendedBootcamp               CountryLive  \\\n",
       "1  f8f8be6910  34.0               0.0  United States of America   \n",
       "2  2ed189768e  21.0               0.0  United States of America   \n",
       "\n",
       "               EmploymentField EmploymentFieldOther  \\\n",
       "1                          NaN                  NaN   \n",
       "2  software development and IT                  NaN   \n",
       "\n",
       "                   EmploymentStatus EmploymentStatusOther  HoursLearning  \\\n",
       "1  Not working but looking for work                   NaN           10.0   \n",
       "2                Employed for wages                   NaN           25.0   \n",
       "\n",
       "   JobInterestBackEnd  JobInterestDataEngr  JobInterestDataSci  \\\n",
       "1                 NaN                  NaN                 NaN   \n",
       "2                 1.0                  NaN                 NaN   \n",
       "\n",
       "   JobInterestDevOps  JobInterestFrontEnd  JobInterestFullStack  \\\n",
       "1                NaN                  NaN                   1.0   \n",
       "2                1.0                  1.0                   1.0   \n",
       "\n",
       "   JobInterestGameDev  JobInterestInfoSec  JobInterestMobile JobInterestOther  \\\n",
       "1                 NaN                 NaN                NaN              NaN   \n",
       "2                 NaN                 NaN                1.0              NaN   \n",
       "\n",
       "   JobInterestProjMngr  JobInterestQAEngr  JobInterestUX  \\\n",
       "1                  NaN                NaN            NaN   \n",
       "2                  NaN                NaN            NaN   \n",
       "\n",
       "                           JobPref  \\\n",
       "1             work for a nonprofit   \n",
       "2  work for a medium-sized company   \n",
       "\n",
       "                                     JobRoleInterest  MoneyForLearning  \\\n",
       "1                           Full-Stack Web Developer              80.0   \n",
       "2    Front-End Web Developer, Back-End Web Develo...            1000.0   \n",
       "\n",
       "   MonthsProgramming  MoneyperMonth  \n",
       "1                6.0      13.333333  \n",
       "2                5.0     200.000000  "
      ]
     },
     "execution_count": 42,
     "metadata": {},
     "output_type": "execute_result"
    }
   ],
   "source": [
    "df.head(2)"
   ]
  },
  {
   "cell_type": "code",
   "execution_count": null,
   "metadata": {},
   "outputs": [],
   "source": [
    "df['MoneyperMonth'].value_counts()"
   ]
  },
  {
   "cell_type": "code",
   "execution_count": 43,
   "metadata": {},
   "outputs": [
    {
     "data": {
      "text/plain": [
       "(6317, 27)"
      ]
     },
     "execution_count": 43,
     "metadata": {},
     "output_type": "execute_result"
    }
   ],
   "source": [
    "#drop rows where respondents didn't provide spending on learning\n",
    "df = df[df['MoneyperMonth'].notnull()]\n",
    "df.shape"
   ]
  },
  {
   "cell_type": "code",
   "execution_count": 44,
   "metadata": {},
   "outputs": [
    {
     "data": {
      "text/plain": [
       "(6212, 27)"
      ]
     },
     "execution_count": 44,
     "metadata": {},
     "output_type": "execute_result"
    }
   ],
   "source": [
    "#drop rows where repondendents didn't provide country of residence\n",
    "df = df[df['CountryLive'].notnull()]\n",
    "df.shape"
   ]
  },
  {
   "cell_type": "code",
   "execution_count": null,
   "metadata": {},
   "outputs": [],
   "source": [
    "df['CountryLive'].value_counts()"
   ]
  },
  {
   "cell_type": "code",
   "execution_count": 45,
   "metadata": {},
   "outputs": [
    {
     "data": {
      "text/html": [
       "<div>\n",
       "<style scoped>\n",
       "    .dataframe tbody tr th:only-of-type {\n",
       "        vertical-align: middle;\n",
       "    }\n",
       "\n",
       "    .dataframe tbody tr th {\n",
       "        vertical-align: top;\n",
       "    }\n",
       "\n",
       "    .dataframe thead th {\n",
       "        text-align: right;\n",
       "    }\n",
       "</style>\n",
       "<table border=\"1\" class=\"dataframe\">\n",
       "  <thead>\n",
       "    <tr style=\"text-align: right;\">\n",
       "      <th></th>\n",
       "      <th>CountryLive</th>\n",
       "      <th>MoneyperMonth</th>\n",
       "    </tr>\n",
       "  </thead>\n",
       "  <tbody>\n",
       "    <tr>\n",
       "      <th>0</th>\n",
       "      <td>Afghanistan</td>\n",
       "      <td>0.000000</td>\n",
       "    </tr>\n",
       "    <tr>\n",
       "      <th>1</th>\n",
       "      <td>Albania</td>\n",
       "      <td>7.111111</td>\n",
       "    </tr>\n",
       "  </tbody>\n",
       "</table>\n",
       "</div>"
      ],
      "text/plain": [
       "   CountryLive  MoneyperMonth\n",
       "0  Afghanistan       0.000000\n",
       "1      Albania       7.111111"
      ]
     },
     "execution_count": 45,
     "metadata": {},
     "output_type": "execute_result"
    }
   ],
   "source": [
    "c_group_df = df.groupby(by = 'CountryLive', as_index = False)[\n",
    "    ['CountryLive', 'MoneyperMonth']].mean()\n",
    "c_group_df.head(2)  #check"
   ]
  },
  {
   "cell_type": "code",
   "execution_count": 46,
   "metadata": {},
   "outputs": [
    {
     "data": {
      "text/html": [
       "<div>\n",
       "<style scoped>\n",
       "    .dataframe tbody tr th:only-of-type {\n",
       "        vertical-align: middle;\n",
       "    }\n",
       "\n",
       "    .dataframe tbody tr th {\n",
       "        vertical-align: top;\n",
       "    }\n",
       "\n",
       "    .dataframe thead th {\n",
       "        text-align: right;\n",
       "    }\n",
       "</style>\n",
       "<table border=\"1\" class=\"dataframe\">\n",
       "  <thead>\n",
       "    <tr style=\"text-align: right;\">\n",
       "      <th></th>\n",
       "      <th>CountryLive</th>\n",
       "      <th>MoneyperMonth</th>\n",
       "    </tr>\n",
       "  </thead>\n",
       "  <tbody>\n",
       "    <tr>\n",
       "      <th>0</th>\n",
       "      <td>United States of America</td>\n",
       "      <td>227.997996</td>\n",
       "    </tr>\n",
       "    <tr>\n",
       "      <th>1</th>\n",
       "      <td>India</td>\n",
       "      <td>135.100982</td>\n",
       "    </tr>\n",
       "    <tr>\n",
       "      <th>2</th>\n",
       "      <td>Canada</td>\n",
       "      <td>113.510961</td>\n",
       "    </tr>\n",
       "    <tr>\n",
       "      <th>3</th>\n",
       "      <td>United Kingdom</td>\n",
       "      <td>45.534443</td>\n",
       "    </tr>\n",
       "  </tbody>\n",
       "</table>\n",
       "</div>"
      ],
      "text/plain": [
       "                CountryLive  MoneyperMonth\n",
       "0  United States of America     227.997996\n",
       "1                     India     135.100982\n",
       "2                    Canada     113.510961\n",
       "3            United Kingdom      45.534443"
      ]
     },
     "execution_count": 46,
     "metadata": {},
     "output_type": "execute_result"
    }
   ],
   "source": [
    "#money per month for the 4 countries with the most respondents\n",
    "c_group_bool = (\n",
    "    (c_group_df['CountryLive']=='United States of America')\n",
    "    | (c_group_df['CountryLive'] =='India')\n",
    "    | (c_group_df['CountryLive'] == 'United Kingdom')\n",
    "    | (c_group_df['CountryLive'] == 'Canada')\n",
    "    )\n",
    "\n",
    "c_group_df4 = c_group_df[c_group_bool].sort_values(\n",
    "    by = 'MoneyperMonth', ascending = False).reset_index(drop = True)\n",
    "c_group_df4"
   ]
  },
  {
   "cell_type": "code",
   "execution_count": 47,
   "metadata": {},
   "outputs": [
    {
     "name": "stdout",
     "output_type": "stream",
     "text": [
      "    CountryLive  MoneyperMonth\n",
      "55       Canada       0.000000\n",
      "64       Canada      50.000000\n",
      "89       Canada       1.052632\n",
      "139      Canada       2.777778\n",
      "292      Canada       0.000000\n"
     ]
    }
   ],
   "source": [
    "#check code create series MoneyperMonth by CountryLive\n",
    "canada_bool = df['CountryLive'] == 'Canada'\n",
    "canada_permonth = df[['CountryLive','MoneyperMonth']][canada_bool]\n",
    "print(canada_permonth.head(5))"
   ]
  },
  {
   "cell_type": "code",
   "execution_count": 63,
   "metadata": {},
   "outputs": [],
   "source": [
    "#create series of MoneyperMonth for each country\n",
    "usa_bool = df['CountryLive'] == 'United States of America'\n",
    "usa_permonth = df[['CountryLive','MoneyperMonth']][usa_bool]\n",
    "\n",
    "india_bool = df['CountryLive'] == 'India'\n",
    "india_permonth = df[['CountryLive','MoneyperMonth']][india_bool]\n",
    "\n",
    "uk_bool = df['CountryLive'] == 'United Kingdom'\n",
    "uk_permonth = df[['CountryLive','MoneyperMonth']][uk_bool]"
   ]
  },
  {
   "cell_type": "code",
   "execution_count": 68,
   "metadata": {},
   "outputs": [
    {
     "data": {
      "image/png": "[encoded data removed]",
      "text/plain": [
       "<matplotlib.figure.Figure at 0x7f28e83572b0>"
      ]
     },
     "metadata": {},
     "output_type": "display_data"
    }
   ],
   "source": [
    "fig = plt.figure(figsize=(8,8))\n",
    "ax1 = fig.add_subplot(2,2,1)\n",
    "ax2 = fig.add_subplot(2,2,2)\n",
    "ax3 = fig.add_subplot(2,2,3)\n",
    "ax4 = fig.add_subplot(2,2,4)\n",
    "\n",
    "ax1.boxplot(usa_permonth['MoneyperMonth'].values)\n",
    "ax1.set_title('USA $/month')\n",
    "ax1.grid(axis = 'y')\n",
    "ax2.boxplot(india_permonth['MoneyperMonth'].values)\n",
    "ax2.set_title('India $/month')\n",
    "ax2.grid(axis ='y')\n",
    "ax3.boxplot(canada_permonth['MoneyperMonth'].values)\n",
    "ax3.set_title('Canada $/month')\n",
    "ax3.grid(axis = 'y')\n",
    "ax4.boxplot(uk_permonth['MoneyperMonth'].values)\n",
    "ax4.set_title('UK $/month')\n",
    "ax4.grid(axis = 'y')\n",
    "\n",
    "plt.show()\n"
   ]
  },
  {
   "cell_type": "code",
   "execution_count": 69,
   "metadata": {
    "collapsed": true
   },
   "outputs": [],
   "source": [
    "#remove outliers\n",
    "usa_permonth = usa_permonth[usa_permonth['MoneyperMonth'] < 2000]\n",
    "india_permonth = india_permonth[india_permonth['MoneyperMonth'] < 2000]\n",
    "canada_permonth = canada_permonth[canada_permonth['MoneyperMonth'] < 1000]\n",
    "uk_permonth = uk_permonth[uk_permonth['MoneyperMonth'] < 400]"
   ]
  },
  {
   "cell_type": "code",
   "execution_count": 70,
   "metadata": {},
   "outputs": [
    {
     "data": {
      "image/png": "[encoded data removed]",
      "text/plain": [
       "<matplotlib.figure.Figure at 0x7f28e883d8d0>"
      ]
     },
     "metadata": {},
     "output_type": "display_data"
    }
   ],
   "source": [
    "#boxplots with outliers removed\n",
    "fig = plt.figure(figsize=(8,8))\n",
    "ax1 = fig.add_subplot(2,2,1)\n",
    "ax2 = fig.add_subplot(2,2,2)\n",
    "ax3 = fig.add_subplot(2,2,3)\n",
    "ax4 = fig.add_subplot(2,2,4)\n",
    "\n",
    "ax1.boxplot(usa_permonth['MoneyperMonth'].values)\n",
    "ax1.set_title('USA $/month')\n",
    "ax1.grid(axis = 'y')\n",
    "ax2.boxplot(india_permonth['MoneyperMonth'].values)\n",
    "ax2.set_title('India $/month')\n",
    "ax2.grid(axis ='y')\n",
    "ax3.boxplot(canada_permonth['MoneyperMonth'].values)\n",
    "ax3.set_title('Canada $/month')\n",
    "ax3.grid(axis = 'y')\n",
    "ax4.boxplot(uk_permonth['MoneyperMonth'].values)\n",
    "ax4.set_title('UK $/month')\n",
    "ax4.grid(axis = 'y')\n",
    "\n",
    "plt.show()\n"
   ]
  },
  {
   "cell_type": "code",
   "execution_count": 101,
   "metadata": {},
   "outputs": [
    {
     "data": {
      "text/html": [
       "<div>\n",
       "<style scoped>\n",
       "    .dataframe tbody tr th:only-of-type {\n",
       "        vertical-align: middle;\n",
       "    }\n",
       "\n",
       "    .dataframe tbody tr th {\n",
       "        vertical-align: top;\n",
       "    }\n",
       "\n",
       "    .dataframe thead th {\n",
       "        text-align: right;\n",
       "    }\n",
       "</style>\n",
       "<table border=\"1\" class=\"dataframe\">\n",
       "  <thead>\n",
       "    <tr style=\"text-align: right;\">\n",
       "      <th></th>\n",
       "      <th>Country</th>\n",
       "      <th>MoneyperMonth</th>\n",
       "    </tr>\n",
       "  </thead>\n",
       "  <tbody>\n",
       "    <tr>\n",
       "      <th>0</th>\n",
       "      <td>USA</td>\n",
       "      <td>82.847724</td>\n",
       "    </tr>\n",
       "    <tr>\n",
       "      <th>1</th>\n",
       "      <td>India</td>\n",
       "      <td>57.256604</td>\n",
       "    </tr>\n",
       "    <tr>\n",
       "      <th>2</th>\n",
       "      <td>Canada</td>\n",
       "      <td>46.934471</td>\n",
       "    </tr>\n",
       "    <tr>\n",
       "      <th>3</th>\n",
       "      <td>UK</td>\n",
       "      <td>25.245838</td>\n",
       "    </tr>\n",
       "  </tbody>\n",
       "</table>\n",
       "</div>"
      ],
      "text/plain": [
       "  Country  MoneyperMonth\n",
       "0     USA      82.847724\n",
       "1   India      57.256604\n",
       "2  Canada      46.934471\n",
       "3      UK      25.245838"
      ]
     },
     "execution_count": 101,
     "metadata": {},
     "output_type": "execute_result"
    }
   ],
   "source": [
    "#recompute means with outliers out\n",
    "data = {'Country': ['USA', 'India', 'Canada', 'UK'],\n",
    "       'MoneyperMonth': [usa_permonth['MoneyperMonth'].mean(),\n",
    "                        india_permonth['MoneyperMonth'].mean(),\n",
    "                        canada_permonth['MoneyperMonth'].mean(),\n",
    "                        uk_permonth['MoneyperMonth'].mean()]}\n",
    "df_out = pd.DataFrame(data = data)\n",
    "df_out"
   ]
  },
  {
   "cell_type": "code",
   "execution_count": 105,
   "metadata": {},
   "outputs": [
    {
     "name": "stdout",
     "output_type": "stream",
     "text": [
      "With outliers removed:\n",
      "USA customers shape: (2862, 2)\n",
      "India customers shape: (455, 2)\n",
      "Canada customers shape: (232, 2)\n",
      "UK customers shape: (274, 2)\n"
     ]
    }
   ],
   "source": [
    "#check adequate number of samples for each country after outliers removed\n",
    "print('With outliers removed:')\n",
    "print('USA customers shape:',usa_permonth.shape)\n",
    "print('India customers shape:',india_permonth.shape)\n",
    "print('Canada customers shape:',canada_permonth.shape)\n",
    "print('UK customers shape:',uk_permonth.shape)"
   ]
  },
  {
   "cell_type": "markdown",
   "metadata": {},
   "source": [
    "<font color=red>CONCLUSION</font>\n",
    "\n",
    "Based on the 1) the number of respondents interested in Web design, 2) `MoneyperMonth` result with outliers removed and 3)the number of respondents from the `shape` results, I conclude that the USA and India are the best markets for our $59/mo education product."
   ]
  },
  {
   "cell_type": "code",
   "execution_count": null,
   "metadata": {
    "collapsed": true
   },
   "outputs": [],
   "source": []
  }
 ],
 "metadata": {
  "kernelspec": {
   "display_name": "Python 3",
   "language": "python",
   "name": "python3"
  },
  "language_info": {
   "codemirror_mode": {
    "name": "ipython",
    "version": 3
   },
   "file_extension": ".py",
   "mimetype": "text/x-python",
   "name": "python",
   "nbconvert_exporter": "python",
   "pygments_lexer": "ipython3",
   "version": "3.7.3"
  }
 },
 "nbformat": 4,
 "nbformat_minor": 2
}
